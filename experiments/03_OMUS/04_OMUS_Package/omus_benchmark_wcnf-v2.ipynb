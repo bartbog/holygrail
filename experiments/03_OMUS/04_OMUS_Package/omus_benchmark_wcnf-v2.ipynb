{
 "cells": [
  {
   "cell_type": "code",
   "execution_count": 2,
   "metadata": {},
   "outputs": [
    {
     "data": {
      "text/html": [
       "        <script type=\"text/javascript\">\n",
       "        window.PlotlyConfig = {MathJaxConfig: 'local'};\n",
       "        if (window.MathJax) {MathJax.Hub.Config({SVG: {font: \"STIX-Web\"}});}\n",
       "        if (typeof require !== 'undefined') {\n",
       "        require.undef(\"plotly\");\n",
       "        requirejs.config({\n",
       "            paths: {\n",
       "                'plotly': ['https://cdn.plot.ly/plotly-latest.min']\n",
       "            }\n",
       "        });\n",
       "        require(['plotly'], function(Plotly) {\n",
       "            window._Plotly = Plotly;\n",
       "        });\n",
       "        }\n",
       "        </script>\n",
       "        "
      ]
     },
     "metadata": {},
     "output_type": "display_data"
    },
    {
     "data": {
      "text/html": [
       "        <script type=\"text/javascript\">\n",
       "        window.PlotlyConfig = {MathJaxConfig: 'local'};\n",
       "        if (window.MathJax) {MathJax.Hub.Config({SVG: {font: \"STIX-Web\"}});}\n",
       "        if (typeof require !== 'undefined') {\n",
       "        require.undef(\"plotly\");\n",
       "        requirejs.config({\n",
       "            paths: {\n",
       "                'plotly': ['https://cdn.plot.ly/plotly-latest.min']\n",
       "            }\n",
       "        });\n",
       "        require(['plotly'], function(Plotly) {\n",
       "            window._Plotly = Plotly;\n",
       "        });\n",
       "        }\n",
       "        </script>\n",
       "        "
      ]
     },
     "metadata": {},
     "output_type": "display_data"
    }
   ],
   "source": [
    "%matplotlib inline\n",
    "import json\n",
    "#import plotly.express as px\n",
    "#import plotly.graph_objects as go\n",
    "import matplotlib.pyplot as plt\n",
    "import os\n",
    "import pandas as pd\n",
    "from statistics import mean, median, stdev, variance\n",
    "import qgrid\n",
    "from enum import Enum, IntEnum\n",
    "\n",
    "\n",
    "import numpy as np\n",
    "import pandas as pd\n",
    "import seaborn as sns\n",
    "from plotly.offline import init_notebook_mode, iplot\n",
    "import plotly.figure_factory as ff\n",
    "import cufflinks\n",
    "cufflinks.go_offline()\n",
    "cufflinks.set_config_file(world_readable=True, theme='pearl')\n",
    "import plotly.graph_objs as go\n",
    "import chart_studio.plotly as py\n",
    "import chart_studio\n",
    "from plotly import tools\n",
    "\n",
    "init_notebook_mode(connected=True)\n",
    "pd.set_option('display.max_columns', 100)"
   ]
  },
  {
   "cell_type": "code",
   "execution_count": 41,
   "metadata": {},
   "outputs": [],
   "source": [
    "# folder paths\n",
    "results_folder = 'data/benchmark/'\n",
    "cnf_path = 'data/cnf-instances/'\n",
    "wcnf_path = 'data/wcnf-instances/'\n",
    "\n",
    "\n",
    "\n",
    "# problem names\n",
    "# p = set(f_name for f_name in gurobi_ext4_files)\n",
    "f_paths = None\n",
    "\n",
    "# extension\n",
    "if os.path.exists(results_folder):\n",
    "    f_paths = [f\"{results_folder}{f}\" for f in os.listdir(results_folder) if f.endswith('.json')]\n",
    "   \n",
    "cnf_files = [f.replace('.cnf', '') for f in os.listdir(cnf_path) if f.endswith('.cnf')]\n",
    "wcnf_files = [f.replace('.wcnf', '') for f in os.listdir(wcnf_path) if f.endswith('.wcnf')]\n",
    "\n",
    "cnf_problems = [f for f in f_paths if any(cnf_file in f for cnf_file in cnf_files)]\n",
    "wcnf_problems = [f for f in f_paths if any(wcnf_file in f for wcnf_file in wcnf_files)]\n",
    "#print(f_paths)"
   ]
  },
  {
   "cell_type": "code",
   "execution_count": 42,
   "metadata": {},
   "outputs": [
    {
     "data": {
      "application/vnd.jupyter.widget-view+json": {
       "model_id": "1b2bb49f20024d1da3065781c2ba03e1",
       "version_major": 2,
       "version_minor": 0
      },
      "text/plain": [
       "QgridWidget(grid_options={'fullWidthRows': True, 'syncColumnCellResize': True, 'forceFitColumns': True, 'defau…"
      ]
     },
     "metadata": {},
     "output_type": "display_data"
    }
   ],
   "source": [
    "class ClauseCounting(IntEnum):\n",
    "    VALIDATED = 1\n",
    "    WEIGHTS = 2\n",
    "    WEIGHTED_UNASSIGNED = 3\n",
    "\n",
    "class ClauseSorting(IntEnum):\n",
    "    IGNORE = 0\n",
    "    WEIGHTS = 1\n",
    "    UNASSIGNED = 2\n",
    "    WEIGHTED_UNASSIGNED = 3\n",
    "    LITERAL_ORDERING = 4\n",
    "\n",
    "class BestLiteral(IntEnum):\n",
    "    COUNT_PURE_ONLY = 1\n",
    "    COUNT_POLARITY = 2\n",
    "\n",
    "class UnitLiteral(IntEnum):\n",
    "    IGNORE = 0\n",
    "    RANDOM = 1\n",
    "    SINGLE_POLARITY = 2\n",
    "    POLARITY = 3\n",
    "    IMMEDIATE = 4\n",
    "\n",
    "class SatModel(IntEnum):\n",
    "    RANDOM = 1\n",
    "    BEST_CLAUSES_VALIDATED = 2\n",
    "    BEST_CLAUSE_WEIGHTS_COVERAGE = 3\n",
    "    BEST_WEIGHTED_UNASSIGNED_CLAUSE_COVERAGE = 4\n",
    "    ALL = 5\n",
    "\n",
    "\n",
    "\n",
    "data = {'p':  [],\n",
    "        'solver': [],\n",
    "        'type':[],\n",
    "        'clauses' : [],\n",
    "        'steps': [],\n",
    "        'total time [s]': [],\n",
    "        '% hs [s]' : [],\n",
    "        '% sat [s]' : [],\n",
    "        '% grow [s]':[],\n",
    "        's_hs':[],\n",
    "        'nv':[],\n",
    "        's_grow':[],\n",
    "        'avg_s_hs':[],\n",
    "        'avg_s_grow':[],\n",
    "        'OMUS':[],\n",
    "        \"count_clauses\": [],\n",
    "        \"best_unit_literal\": [],\n",
    "        \"best_counter_literal\": [],\n",
    "        \"sorting\": [],\n",
    "        \"extension\": [],\n",
    "        \"cutoff_main\": [],\n",
    "        \"cutoff\": [],\n",
    "        \"h_inc\": [],\n",
    "        \"max_restart\": [],\n",
    "        \"s_inc\": [],\n",
    "        \"pb_restarts\": [],\n",
    "        \"sp\": [],\n",
    "        \"creation date\": []\n",
    "        }\n",
    "\n",
    "for f_path in f_paths:\n",
    "    p_name = f_path.replace('data/benchmark/','')\n",
    "    data[\"creation date\"].append(os.path.getctime(f_path))\n",
    "\n",
    "    if f_path in cnf_problems:\n",
    "        data['type'].append('cnf')\n",
    "        data['p'].append([cnf_file for cnf_file in cnf_files if cnf_file in f_path][0])\n",
    "    else:\n",
    "        data['type'].append('wcnf')\n",
    "        data['p'].append([wcnf_file for wcnf_file in wcnf_files if wcnf_file in f_path][0])\n",
    "\n",
    "    with open(f_path) as f:\n",
    "        parsed_json = json.load(f)\n",
    "    if 'clauses' not in parsed_json:\n",
    "        continue\n",
    "\n",
    "    data['solver'].append('Gurobi')\n",
    "    data['clauses'].append(parsed_json['clauses'])\n",
    "    data['steps'].append(parsed_json['steps'])\n",
    "    tot_time = sum(parsed_json['t_hitting_set']) +sum(parsed_json['t_sat_check'])  + sum(parsed_json['t_grow'])\n",
    "    data['total time [s]'].append(tot_time)\n",
    "    data['% hs [s]'].append(round(100*sum(parsed_json['t_hitting_set'])/tot_time, 2))\n",
    "    data['% sat [s]'].append(round(100*sum(parsed_json['t_sat_check'])/tot_time,2))\n",
    "    data['% grow [s]'].append(round(100*sum(parsed_json['t_grow'])/tot_time, 2))\n",
    "    data['s_hs'].append(parsed_json['s_hs']),\n",
    "    data['s_grow'].append(parsed_json['s_grow'])\n",
    "    data['avg_s_hs'].append(round(mean(parsed_json['s_hs']), 2)),\n",
    "    data['avg_s_grow'].append(round(mean(parsed_json['s_grow']),2))\n",
    "    data['OMUS'].append(parsed_json['omus'])\n",
    "    data['nv'].append(parsed_json['nv'])\n",
    "    data[\"count_clauses\"].append(parsed_json['parameters'][\"count_clauses\"] if \"count_clauses\" in parsed_json['parameters'] else None)\n",
    "    data[\"best_unit_literal\"].append(parsed_json['parameters'][\"best_unit_literal\"] if \"best_unit_literal\" in parsed_json['parameters'] else None)\n",
    "    data[\"best_counter_literal\"].append(parsed_json['parameters'][\"best_counter_literal\"] if \"best_counter_literal\" in parsed_json['parameters'] else None)\n",
    "    data[\"sorting\"].append(parsed_json['parameters'][\"sorting\"] if \"sorting\" in parsed_json['parameters'] else None)\n",
    "    data[\"extension\"].append(parsed_json['parameters'][\"extension\"] if \"extension\" in parsed_json['parameters'] else None)\n",
    "    data[\"cutoff_main\"].append(parsed_json['parameters'][\"cutoff_main\"] if \"cutoff_main\" in parsed_json['parameters'] else None)\n",
    "    data[\"cutoff\"].append(parsed_json['parameters'][\"cutoff\"] if \"cutoff\" in parsed_json['parameters'] else None)\n",
    "    data[\"h_inc\"].append(parsed_json['parameters'][\"h_inc\"] if \"h_inc\" in parsed_json['parameters'] else None)\n",
    "    data[\"max_restart\"].append(parsed_json['parameters'][\"max_restart\"] if \"max_restart\" in parsed_json['parameters'] else None)\n",
    "    data[\"s_inc\"].append(parsed_json['parameters'][\"s_inc\"] if \"s_inc\" in parsed_json['parameters'] else None)\n",
    "    data[\"pb_restarts\"].append(parsed_json['parameters'][\"pb_restarts\"] if \"pb_restarts\" in parsed_json['parameters'] else None)\n",
    "    data[\"sp\"].append(parsed_json['parameters'][\"sp\"] if \"sp\" in parsed_json['parameters'] else None)\n",
    "\n",
    "\n",
    "data[\"count_clauses\"] = [ None if val == None else next(name for name, value in vars(ClauseCounting).items() if value == int(val)) for val in data[\"count_clauses\"]]\n",
    "data[\"best_unit_literal\"]  = [ None if val == None else next(name for name, value in vars(UnitLiteral).items() if value == int(val)) for val in data[\"best_unit_literal\"]]\n",
    "data[\"best_counter_literal\"] = [ None if val == None else next(name for name, value in vars(BestLiteral).items() if value == int(val)) for val in data[\"best_counter_literal\"]]\n",
    "data[\"sorting\"] = [ None if val == None else next(name for name, value in vars(ClauseSorting).items() if value == int(val)) for val in data[\"sorting\"]]\n",
    "    \n",
    "ignored_columns = ['solver']\n",
    "\n",
    "df = pd.DataFrame (data, columns = [column for column in data if column not in ignored_columns])\n",
    "df.sort_values(['p','type','clauses','nv','OMUS',\"count_clauses\",\"best_unit_literal\",\n",
    "                \"best_counter_literal\",\"sorting\",\"extension\",\"creation date\"],\n",
    "                ascending = (True, True, True, True,True, True, True, True, True, True, False), inplace = True) \n",
    "df.drop_duplicates( ['p','type','clauses','nv','OMUS',\"count_clauses\",\"best_unit_literal\",\n",
    "                \"best_counter_literal\",\"sorting\",\"extension\",\"creation date\"], keep='first', inplace = True)\n",
    "df = df.sort_values([\"clauses\", \"steps\", \"total time [s]\"], ascending = (False, True, True))\n",
    "qgrid_widget = qgrid.show_grid(df, show_toolbar=True)\n",
    "qgrid_widget"
   ]
  },
  {
   "cell_type": "code",
   "execution_count": 4,
   "metadata": {},
   "outputs": [],
   "source": [
    "# instances solved\n",
    "df_solved = df[(df.OMUS == True)]\n",
    "# instances solved without local search instances (because they mostly take too long on grow algorithm)\n",
    "df_solved_no_ls = df_solved[(df_solved.extension !='satlike')]\n",
    "\n",
    "# instances not solved \n",
    "df_unsolved = df[(df.OMUS == False)]\n",
    "# instances not solved without local search instances (because they mostly take too long on grow algorithm)\n",
    "df_unsolved_no_ls = df_unsolved[(df_unsolved.extension != 'satlike')]"
   ]
  },
  {
   "cell_type": "code",
   "execution_count": 10,
   "metadata": {},
   "outputs": [
    {
     "data": {
      "image/png": "[encoded data removed]",
      "text/plain": [
       "<Figure size 576x360 with 6 Axes>"
      ]
     },
     "metadata": {
      "needs_background": "light"
     },
     "output_type": "display_data"
    }
   ],
   "source": [
    "fig = plt.figure(figsize=(8,5))\n",
    "y_label = \"Frequency\"\n",
    "# Divide the figure into a 1x2 grid, and give me the first section\n",
    "ax1 = fig.add_subplot(231)\n",
    "ax1.set_xlabel(\"% Time spent in Gurobi solving\")\n",
    "ax1.set_ylabel(y_label)\n",
    "# Divide the figure into a 1x2 grid, and give me the second section\n",
    "ax2 = fig.add_subplot(232)\n",
    "ax2.set_xlabel(\"% Time spent in SAT solving\")\n",
    "ax2.set_ylabel(y_label)\n",
    "\n",
    "# Divide the figure into a 1x2 grid, and give me the second section\n",
    "ax3 = fig.add_subplot(233)\n",
    "ax3.set_xlabel(\"% Time spent in Grow\")\n",
    "ax3.set_ylabel(y_label)\n",
    "\n",
    "# Divide the figure into a 1x2 grid, and give me the first section\n",
    "ax4 = fig.add_subplot(234)\n",
    "ax4.set_xlabel(\"% Time spent in Gurobi solving\")\n",
    "ax4.set_ylabel(y_label)\n",
    "\n",
    "\n",
    "# Divide the figure into a 1x2 grid, and give me the second section\n",
    "ax5 = fig.add_subplot(235)\n",
    "ax5.set_xlabel(\"% Time spent in SAT solving\")\n",
    "ax5.set_ylabel(y_label)\n",
    "# Divide the figure into a 1x2 grid, and give me the second section\n",
    "ax6 = fig.add_subplot(236)\n",
    "ax6.set_xlabel(\"% Time spent in Grow\")\n",
    "ax6.set_ylabel(y_label)\n",
    "\n",
    "axs=[ax1, ax2, ax3, ax4, ax5, ax6]\n",
    "solved_axs = [ax1, ax2, ax3]\n",
    "unsolved_axs = [ax4, ax5, ax6]\n",
    "\n",
    "df_solved_no_ls.hist(\n",
    "    column='% hs [s]', \n",
    "    bins=10, \n",
    "    ax = ax1,\n",
    "    grid=False, \n",
    "    range = (0, 100),\n",
    "    rwidth=0.9,\n",
    "    )\n",
    "\n",
    "df_solved_no_ls.hist(\n",
    "    column='% sat [s]', \n",
    "    bins=10, \n",
    "    ax = ax2,\n",
    "    range = (0, 100),\n",
    "    grid=False, \n",
    "    rwidth=0.9)\n",
    "\n",
    "df_solved_no_ls.hist(\n",
    "    column='% grow [s]', \n",
    "    bins=10, \n",
    "    ax = ax3,\n",
    "    range = (0, 100),\n",
    "    grid=False, \n",
    "    rwidth=0.9)\n",
    "\n",
    "df_unsolved_no_ls.hist(\n",
    "    column='% hs [s]', \n",
    "    bins=10, \n",
    "    ax = ax4,\n",
    "    range = (0, 100), \n",
    "    grid=False, \n",
    "    rwidth=0.9)\n",
    "\n",
    "df_unsolved_no_ls.hist(\n",
    "    column='% sat [s]', \n",
    "    bins=10, \n",
    "    ax = ax5,    \n",
    "    range = (0, 100), \n",
    "    grid=False, \n",
    "    rwidth=0.9)\n",
    "\n",
    "df_unsolved_no_ls.hist(\n",
    "    column='% grow [s]', \n",
    "    bins=10, \n",
    "    range = (0, 100), \n",
    "    ax = ax6,\n",
    "    grid=False, \n",
    "    rwidth=0.9)\n",
    "\n",
    "for a in solved_axs:\n",
    "    a.set_title(\"Solved Instances\")\n",
    "    #a.set_ylim((0, 1000))\n",
    "\n",
    "for a in unsolved_axs:\n",
    "    a.set_title(\"Unsolved Instances\")\n",
    "    #a.set_ylim((0, 125))\n",
    "    \n",
    "fig.tight_layout() # Or equivalently,  \"plt.tight_layout()\"\n",
    "fig.savefig('/home/crunchmonster/Documents/VUB/02_Research/01_Conferences/2020/CP/DP/histogram2.pdf')\n",
    "#plt.hist(x_solved_hs, bins = 10, range = (0,100))"
   ]
  },
  {
   "cell_type": "code",
   "execution_count": 6,
   "metadata": {},
   "outputs": [],
   "source": [
    "best_selected_columns = ['p',\n",
    "     'total time [s]', \n",
    "     'type', \n",
    "     'extension', \n",
    "     'clauses',\n",
    "    \"nv\",\n",
    "     'steps', \n",
    "     \"count_clauses\", \n",
    "     \"best_unit_literal\", \n",
    "     \"best_counter_literal\", \n",
    "     \"sorting\"\n",
    "    ]\n",
    "\n",
    "df_solved_sel_cols = df_solved_no_ls[best_selected_columns]\n",
    "df_solved_sel_cols.sort_values(['p','total time [s]'], ascending = (True, True), inplace = True) \n",
    "df_solved_sel_cols = df_solved_sel_cols.groupby(['p', 'extension']).head(3)"
   ]
  },
  {
   "cell_type": "code",
   "execution_count": 7,
   "metadata": {},
   "outputs": [
    {
     "data": {
      "application/vnd.jupyter.widget-view+json": {
       "model_id": "f3e9e88fc3dd40c9b5116a1ea4a8e49c",
       "version_major": 2,
       "version_minor": 0
      },
      "text/plain": [
       "QgridWidget(grid_options={'fullWidthRows': True, 'syncColumnCellResize': True, 'forceFitColumns': True, 'defau…"
      ]
     },
     "metadata": {},
     "output_type": "display_data"
    }
   ],
   "source": [
    "# TOP 3 for greedy no param (tias version)\n",
    "df_qgrid_widget = df_solved_sel_cols[(df_solved_sel_cols.extension == 'greedy_no_param')]\n",
    "df_qgrid_widget.sort_values(['p','total time [s]'], ascending = (True, True), inplace = True)\n",
    "qgrid_widget = qgrid.show_grid(df_qgrid_widget, show_toolbar=True)\n",
    "qgrid_widget"
   ]
  },
  {
   "cell_type": "markdown",
   "metadata": {},
   "source": [
    "## Best parameters for solved instances with no LS"
   ]
  },
  {
   "cell_type": "code",
   "execution_count": 87,
   "metadata": {},
   "outputs": [
    {
     "data": {
      "application/vnd.jupyter.widget-view+json": {
       "model_id": "3b34c9029a8345e5a063b33c9f1a28a0",
       "version_major": 2,
       "version_minor": 0
      },
      "text/plain": [
       "QgridWidget(grid_options={'fullWidthRows': True, 'syncColumnCellResize': True, 'forceFitColumns': True, 'defau…"
      ]
     },
     "metadata": {},
     "output_type": "display_data"
    }
   ],
   "source": [
    "# TOP 3 for greedy with param\n",
    "df_qgrid_widget = df_solved_sel_cols[(df_solved_sel_cols.extension == 'greedy_param')]\n",
    "df_qgrid_widget.sort_values(['p','total time [s]'], ascending = (True, True), inplace = True)\n",
    "qgrid_widget = qgrid.show_grid(df_qgrid_widget, show_toolbar=True)\n",
    "qgrid_widget"
   ]
  },
  {
   "cell_type": "code",
   "execution_count": 85,
   "metadata": {},
   "outputs": [
    {
     "data": {
      "application/vnd.jupyter.widget-view+json": {
       "model_id": "e434ecaf6978477a88bc08cee0cbb7d2",
       "version_major": 2,
       "version_minor": 0
      },
      "text/plain": [
       "QgridWidget(grid_options={'fullWidthRows': True, 'syncColumnCellResize': True, 'forceFitColumns': True, 'defau…"
      ]
     },
     "metadata": {},
     "output_type": "display_data"
    }
   ],
   "source": [
    "# TOP 3 for greedy no param (tias version)\n",
    "df_qgrid_widget = df_solved_sel_cols[(df_solved_sel_cols.extension == 'maxprop')]\n",
    "df_qgrid_widget.sort_values(['p','total time [s]'], ascending = (True, True), inplace = True)\n",
    "qgrid_widget = qgrid.show_grid(df_qgrid_widget, show_toolbar=True)\n",
    "qgrid_widget"
   ]
  },
  {
   "cell_type": "code",
   "execution_count": 47,
   "metadata": {},
   "outputs": [
    {
     "data": {
      "image/png": "[encoded data removed]",
      "text/plain": [
       "<Figure size 288x216 with 1 Axes>"
      ]
     },
     "metadata": {
      "needs_background": "light"
     },
     "output_type": "display_data"
    }
   ],
   "source": [
    "data = {\n",
    "    'p' : [],\n",
    "    't_opt':[],\n",
    "    'tot_time' : [],\n",
    "    't_non_opt' : [], \n",
    "    'steps_greedy' : [],\n",
    "    'steps_opt':[],\n",
    "    'steps_incr': [],\n",
    "    'steps_orig':[]\n",
    "}\n",
    "\n",
    "for f_path in os.listdir('results/2020_06_23/Gurobi/'):\n",
    "    if not f_path.endswith('.json'):\n",
    "        continue\n",
    "    p_name = f_path.replace('results/2020_06_23/Gurobi/','')\n",
    "    data['p'].append(p_name)\n",
    "    with open('results/2020_06_23/Gurobi/' + f_path) as f:\n",
    "        parsed_json = json.load(f)\n",
    "    data['t_opt'].append(round(sum(parsed_json['t_opt'])/ parsed_json['tot_time'] * 100, 2))\n",
    "    data['t_non_opt'].append(round(sum(parsed_json['t_nonopt'])/ parsed_json['tot_time'] * 100, 2))\n",
    "    data['tot_time'].append(parsed_json['tot_time'])\n",
    "    data['steps_greedy'].append(parsed_json['stps_greedy'])\n",
    "    data['steps_opt'].append(parsed_json['steps_opt'])\n",
    "    data['steps_incr'].append(parsed_json['steps_incr'])\n",
    "    data['steps_orig'].append(parsed_json['steps_orig'])\n",
    "\n",
    "df = pd.DataFrame (data, columns = [column for column in data ])\n",
    "f_size = 14\n",
    "fig = plt.figure(figsize=(4, 3))\n",
    "y_label = \"Frequency\"\n",
    "# Divide the figure into a 1x2 grid, and give me the first section\n",
    "ax1 = fig.add_subplot(111)\n",
    "ax1.set_xlabel(\"% Time spent in MIP solver\",  fontsize=f_size)\n",
    "ax1.set_ylabel(y_label,  fontsize=f_size)\n",
    "# Divide the figure into a 1x2 grid, and give me the second section\n",
    "#ax2 = fig.add_subplot(122)\n",
    "#ax2.set_xlabel(\"% Time spent in approximate methods\",  fontsize=f_size)\n",
    "#ax2.set_ylabel(y_label,  fontsize=f_size)\n",
    "\n",
    "\n",
    "axs=[ax1]\n",
    "#solved_axs = [ax1, ax2, ax3]\n",
    "#unsolved_axs = [ax4, ax5, ax6]\n",
    "\n",
    "df.hist(\n",
    "    column='t_opt', \n",
    "    bins=10, \n",
    "    ax = ax1,\n",
    "    grid=False, \n",
    "    range = (0, 100),\n",
    "    rwidth=0.9,\n",
    "    )\n",
    "\n",
    "df.hist(\n",
    "    column='t_non_opt', \n",
    "    bins=10, \n",
    "    ax = ax1,\n",
    "    color = 'green',\n",
    "    range = (0, 100),\n",
    "    grid=False, \n",
    "    rwidth=0.9)\n",
    "\n",
    "for a in solved_axs:\n",
    "    a.set_title(\"Solved Instances\")\n",
    "    #a.set_ylim((0, 1000))\n",
    "ax1.title.set_text('')\n",
    "\n",
    "fig.tight_layout() # Or equivalently,  \"plt.tight_layout()\"\n",
    "fig.savefig('/home/crunchmonster/Documents/VUB/02_Research/01_Conferences/2020/CP/DP/histogram3.pdf')\n",
    "#plt.hist(x_solved_hs, bins = 10, range = (0,100))"
   ]
  },
  {
   "cell_type": "code",
   "execution_count": 48,
   "metadata": {},
   "outputs": [
    {
     "data": {
      "application/vnd.jupyter.widget-view+json": {
       "model_id": "148fb00ae79448e6b1795e3567752dea",
       "version_major": 2,
       "version_minor": 0
      },
      "text/plain": [
       "QgridWidget(grid_options={'fullWidthRows': True, 'syncColumnCellResize': True, 'forceFitColumns': True, 'defau…"
      ]
     },
     "metadata": {},
     "output_type": "display_data"
    }
   ],
   "source": [
    "qgrid_widget = qgrid.show_grid(df, show_toolbar=True)\n",
    "qgrid_widget"
   ]
  },
  {
   "cell_type": "code",
   "execution_count": 55,
   "metadata": {},
   "outputs": [
    {
     "name": "stdout",
     "output_type": "stream",
     "text": [
      "\\begin{tabular}{lrrrr}\n",
      "\\toprule\n",
      "{} &  steps\\_orig &  steps\\_opt &  steps\\_incr &  steps\\_greedy \\\\\n",
      "\\midrule\n",
      "0  &         552 &          1 &        2967 &           108 \\\\\n",
      "1  &         717 &          3 &         184 &             5 \\\\\n",
      "2  &         148 &          1 &         803 &            36 \\\\\n",
      "3  &         201 &          1 &        1684 &            68 \\\\\n",
      "4  &         182 &          1 &        1071 &            63 \\\\\n",
      "5  &         151 &          1 &         287 &            20 \\\\\n",
      "6  &          78 &          4 &          66 &             8 \\\\\n",
      "7  &         409 &          7 &         155 &             9 \\\\\n",
      "8  &         357 &          1 &        1798 &            70 \\\\\n",
      "9  &           1 &          1 &           1 &             2 \\\\\n",
      "10 &          42 &          2 &         167 &            11 \\\\\n",
      "11 &         638 &          4 &         203 &             8 \\\\\n",
      "12 &        1312 &          5 &         274 &             9 \\\\\n",
      "\\bottomrule\n",
      "\\end{tabular}\n",
      "\n"
     ]
    }
   ],
   "source": [
    "df_Filt = df[['steps_orig', 'steps_opt', 'steps_incr',  'steps_greedy',]]\n",
    "print(df_Filt.to_latex(index=True))"
   ]
  },
  {
   "cell_type": "code",
   "execution_count": null,
   "metadata": {},
   "outputs": [],
   "source": [
    "df_Filt = df[['steps_greedy'], 'steps_opt', 'steps_incr']]"
   ]
  }
 ],
 "metadata": {
  "kernelspec": {
   "display_name": "Python 3",
   "language": "python",
   "name": "python3"
  },
  "language_info": {
   "codemirror_mode": {
    "name": "ipython",
    "version": 3
   },
   "file_extension": ".py",
   "mimetype": "text/x-python",
   "name": "python",
   "nbconvert_exporter": "python",
   "pygments_lexer": "ipython3",
   "version": "3.7.3"
  }
 },
 "nbformat": 4,
 "nbformat_minor": 4
}
