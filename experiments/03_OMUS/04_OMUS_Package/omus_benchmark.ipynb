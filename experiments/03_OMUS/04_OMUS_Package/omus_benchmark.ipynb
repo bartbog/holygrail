{
 "cells": [
  {
   "cell_type": "code",
   "execution_count": 3,
   "metadata": {},
   "outputs": [],
   "source": [
    "import json\n",
    "import plotly.express as px\n",
    "import os"
   ]
  },
  {
   "cell_type": "code",
   "execution_count": 7,
   "metadata": {},
   "outputs": [
    {
     "name": "stdout",
     "output_type": "stream",
     "text": [
      "['hole6_gurobi.json', 'dubois20_gurobi.json', 'aim-100-1_6-no-1_gurobi.json', 'dubois22_gurobi.json', 'dubois21_gurobi.json', 'par8-1-c_gurobi.json']\n"
     ]
    }
   ],
   "source": [
    "results_folder = 'results/2020_05_07/'\n",
    "gurobi_folder = 'Gurobi/'\n",
    "ortools_folder = 'OrTools/'\n",
    "extension1 = 'Extension1/'\n",
    "extension2 = 'Extension2/'\n",
    "extension3 = 'Extension3/'\n",
    "extension4 = 'Extension4/'\n",
    "\n",
    "gurobi_ext1_folder = results_folder + gurobi_folder + extension1\n",
    "gurobi_ext2_folder = results_folder + gurobi_folder + extension2\n",
    "gurobi_ext3_folder = results_folder + gurobi_folder + extension3\n",
    "gurobi_ext4_folder = results_folder + gurobi_folder + extension4\n",
    "\n",
    "ortools_ext1_folder = results_folder + ortools_folder + extension1\n",
    "ortools_ext2_folder = results_folder + ortools_folder + extension2\n",
    "ortools_ext3_folder = results_folder + ortools_folder + extension3\n",
    "ortools_ext4_folder = results_folder + ortools_folder + extension4\n",
    "\n",
    "gurobi_ext1_files = [f for f in os.listdir(gurobi_ext1_folder) if  f.endswith('.json')]\n",
    "gurobi_ext2_files = [f for f in os.listdir(gurobi_ext2_folder) if f.endswith('.json')]\n",
    "gurobi_ext3_files = [f for f in os.listdir(gurobi_ext3_folder) if f.endswith('.json')]\n",
    "gurobi_ext4_files = [f for f in os.listdir(gurobi_ext4_folder) if  f.endswith('.json')]\n",
    "\n",
    "ortools_ext1_files = [f for f in os.listdir(ortools_ext1_folder) if f.endswith('.json')]\n",
    "ortools_ext2_files = [f for f in os.listdir(ortools_ext2_folder) if f.endswith('.json')]\n",
    "ortools_ext3_files = [f for f in os.listdir(ortools_ext3_folder) if  f.endswith('.json')]\n",
    "ortools_ext4_files = [f for f in os.listdir(ortools_ext4_folder) if f.endswith('.json')]\n",
    "\n",
    "print(gurobi_ext3_files)"
   ]
  },
  {
   "cell_type": "code",
   "execution_count": null,
   "metadata": {},
   "outputs": [],
   "source": [
    "for file in gurobi_ext3_files:\n",
    "    \n",
    "\n",
    "fig = px.line(df, x=\"year\", y=\"lifeExp\", title='Life expectancy in Canada')\n",
    "fig.show()"
   ]
  },
  {
   "cell_type": "code",
   "execution_count": null,
   "metadata": {},
   "outputs": [],
   "source": []
  },
  {
   "cell_type": "code",
   "execution_count": null,
   "metadata": {},
   "outputs": [],
   "source": []
  },
  {
   "cell_type": "code",
   "execution_count": null,
   "metadata": {},
   "outputs": [],
   "source": []
  }
 ],
 "metadata": {
  "kernelspec": {
   "display_name": "Python 3",
   "language": "python",
   "name": "python3"
  },
  "language_info": {
   "codemirror_mode": {
    "name": "ipython",
    "version": 3
   },
   "file_extension": ".py",
   "mimetype": "text/x-python",
   "name": "python",
   "nbconvert_exporter": "python",
   "pygments_lexer": "ipython3",
   "version": "3.7.3"
  }
 },
 "nbformat": 4,
 "nbformat_minor": 4
}
