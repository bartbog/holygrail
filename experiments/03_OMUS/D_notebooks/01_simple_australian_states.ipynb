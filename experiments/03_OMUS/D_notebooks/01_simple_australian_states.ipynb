{
 "cells": [
  {
   "cell_type": "code",
   "execution_count": 1,
   "metadata": {
    "pycharm": {
     "name": "#%% Simple program\n"
    }
   },
   "outputs": [],
   "source": [
    "from __future__ import absolute_import\n",
    "from __future__ import division\n",
    "from __future__ import print_function\n",
    "\n",
    "from ortools.sat.python import cp_model\n",
    "from pathlib import Path\n"
   ]
  },
  {
   "cell_type": "code",
   "execution_count": 2,
   "metadata": {},
   "outputs": [],
   "source": [
    "class VarArraySolutionPrinter(cp_model.CpSolverSolutionCallback):\n",
    "    \"\"\"Print intermediate solutions.\"\"\"\n",
    "\n",
    "    def __init__(self, variables):\n",
    "        cp_model.CpSolverSolutionCallback.__init__(self)\n",
    "        self.__variables = variables\n",
    "        self.__solution_count = 0\n",
    "\n",
    "    def on_solution_callback(self):\n",
    "        self.__solution_count += 1\n",
    "        for v in self.__variables:\n",
    "            print('%s=%i' % (v, self.Value(v)), end=' ')\n",
    "        print()\n",
    "\n",
    "    def solution_count(self):\n",
    "        return self.__solution_count"
   ]
  },
  {
   "cell_type": "code",
   "execution_count": 3,
   "metadata": {
    "pycharm": {
     "name": "#%%\n"
    }
   },
   "outputs": [],
   "source": [
    "def create_australian_data_model() -> dict:\n",
    "    data = {}\n",
    "    data['nc'] = 3\n",
    "    data['num_vars'] = 7\n",
    "    data['num_constraints'] = 9\n",
    "    \n",
    "    return data\n",
    "    \n",
    "def simple_australian_states():\n",
    "    # model name\n",
    "    model_name = 'simple_australian_states'\n",
    "    # solver \n",
    "    model = cp_model.CpModel()\n",
    "\n",
    "    # build data model\n",
    "    data = create_australian_data_model()\n",
    "    \n",
    "    # variables\n",
    "    # x[0] = wa;   \n",
    "    # x[1] = nt;  \n",
    "    # x[2] = sa;   \n",
    "    # x[3] = q;   \n",
    "    # x[4] = nsw;  \n",
    "    # x[5] = v;   \n",
    "    # x[6] = t;\n",
    "    countries = ['wa','nt','sa', 'q','nsw', 'v', 't']\n",
    "\n",
    "    x = [model.NewIntVar(1, data['nc'], countries[i])\n",
    "            for i in range(data['num_vars'])]\n",
    "    #print('Number of variables =', solver.NumVariables())\n",
    "\n",
    "    # constraint - wa != nt;\n",
    "    model.Add(x[0] != x[1])\n",
    "    # constraint - wa != sa;;\n",
    "    model.Add(x[0] != x[2])\n",
    "    # constraint nt != sa;\n",
    "    model.Add(x[1] != x[2])\n",
    "    # constraint nt != q;\n",
    "    model.Add(x[1] != x[3])\n",
    "    # constraint sa != q;\n",
    "    model.Add(x[2] != x[3])\n",
    "    # constraint sa != nsw;\n",
    "    model.Add(x[2] != x[4])\n",
    "    # constraint sa != v;\n",
    "    model.Add(x[2] != x[5])\n",
    "    # constraint q != nsw;\n",
    "    model.Add(x[3] != x[4])\n",
    "    # constraint nsw != v;\n",
    "    model.Add(x[4] != x[5])\n",
    "    \n",
    "    # Create a solver and solve.\n",
    "    solver = cp_model.CpSolver()\n",
    "    solution_printer = VarArraySolutionPrinter(x)\n",
    "    status = solver.SearchForAllSolutions(model, solution_printer)\n",
    "    print('Status = %s' % solver.StatusName(status))\n",
    "    print('Number of solutions found: %i' % solution_printer.solution_count())\n",
    "    print(\"Time:\", solver.WallTime(), \"ms\")\n"
   ]
  },
  {
   "cell_type": "code",
   "execution_count": 4,
   "metadata": {},
   "outputs": [
    {
     "name": "stdout",
     "output_type": "stream",
     "text": [
      "wa=1 nt=2 sa=3 q=1 nsw=2 v=1 t=1 \n",
      "wa=1 nt=3 sa=2 q=1 nsw=3 v=1 t=1 \n",
      "wa=1 nt=3 sa=2 q=1 nsw=3 v=1 t=2 \n",
      "wa=3 nt=1 sa=2 q=3 nsw=1 v=3 t=2 \n",
      "wa=3 nt=1 sa=2 q=3 nsw=1 v=3 t=1 \n",
      "wa=3 nt=1 sa=2 q=3 nsw=1 v=3 t=3 \n",
      "wa=2 nt=1 sa=3 q=2 nsw=1 v=2 t=3 \n",
      "wa=2 nt=1 sa=3 q=2 nsw=1 v=2 t=2 \n",
      "wa=2 nt=1 sa=3 q=2 nsw=1 v=2 t=1 \n",
      "wa=2 nt=3 sa=1 q=2 nsw=3 v=2 t=1 \n",
      "wa=2 nt=3 sa=1 q=2 nsw=3 v=2 t=2 \n",
      "wa=2 nt=3 sa=1 q=2 nsw=3 v=2 t=3 \n",
      "wa=1 nt=3 sa=2 q=1 nsw=3 v=1 t=3 \n",
      "wa=3 nt=2 sa=1 q=3 nsw=2 v=3 t=3 \n",
      "wa=3 nt=2 sa=1 q=3 nsw=2 v=3 t=2 \n",
      "wa=3 nt=2 sa=1 q=3 nsw=2 v=3 t=1 \n",
      "wa=1 nt=2 sa=3 q=1 nsw=2 v=1 t=2 \n",
      "wa=1 nt=2 sa=3 q=1 nsw=2 v=1 t=3 \n",
      "Status = OPTIMAL\n",
      "Number of solutions found: 18\n",
      "Time: 0.010031962 ms\n"
     ]
    }
   ],
   "source": [
    "simple_australian_states()"
   ]
  },
  {
   "cell_type": "code",
   "execution_count": null,
   "metadata": {},
   "outputs": [],
   "source": []
  }
 ],
 "metadata": {
  "kernelspec": {
   "display_name": "Python 3",
   "language": "python",
   "name": "python3"
  },
  "language_info": {
   "codemirror_mode": {
    "name": "ipython",
    "version": 3
   },
   "file_extension": ".py",
   "mimetype": "text/x-python",
   "name": "python",
   "nbconvert_exporter": "python",
   "pygments_lexer": "ipython3",
   "version": "3.7.3"
  }
 },
 "nbformat": 4,
 "nbformat_minor": 1
}
