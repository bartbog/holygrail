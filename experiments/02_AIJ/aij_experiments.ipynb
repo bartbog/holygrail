{
 "cells": [
  {
   "cell_type": "markdown",
   "metadata": {},
   "source": [
    "# Ecai experiments\n",
    "\n"
   ]
  },
  {
   "cell_type": "code",
   "execution_count": 3,
   "metadata": {},
   "outputs": [],
   "source": [
    "from pathlib import Path\n",
    "import json\n",
    "import sys\n",
    "import subprocess\n",
    "from collections import Counter\n",
    "import matplotlib.pyplot as plt"
   ]
  },
  {
   "cell_type": "code",
   "execution_count": 11,
   "metadata": {},
   "outputs": [],
   "source": [
    "def file_pprint_json(filename):\n",
    "    with open(filename, 'r') as f:\n",
    "        array = json.load(f)\n",
    "    print(json.dumps(array, indent=4, sort_keys=True))"
   ]
  },
  {
   "cell_type": "code",
   "execution_count": 12,
   "metadata": {},
   "outputs": [],
   "source": [
    "def read_print(filename):\n",
    "    q = Path(filename)\n",
    "    with q.open() as f: \n",
    "        s = f.readlines()\n",
    "        #print(s)"
   ]
  },
  {
   "cell_type": "code",
   "execution_count": 13,
   "metadata": {},
   "outputs": [],
   "source": [
    "def json2array(filename):\n",
    "    with open(filename, 'r') as f:\n",
    "        array = json.load(f)\n",
    "    return array"
   ]
  },
  {
   "cell_type": "code",
   "execution_count": 14,
   "metadata": {},
   "outputs": [],
   "source": [
    "def pprint_json(array):\n",
    "    print(json.dumps(array, indent=4, sort_keys=False))"
   ]
  },
  {
   "cell_type": "code",
   "execution_count": 37,
   "metadata": {},
   "outputs": [],
   "source": [
    "'''\n",
    "dict['filename'] = {costs, clue, assumptions, derivations}\n",
    "\n",
    "    data = {}\n",
    "    \n",
    "    data['costs'] = []\n",
    "    data['clue'] = []\n",
    "    data['assumptions'] =  []\n",
    "    data['derivations'] =  []\n",
    "\n",
    "    stats['cost'] = {}\n",
    "    \n",
    "    stats['cost']['costs_counter']\n",
    "    stats['cost']['total_cost']\n",
    "    stats['cost']['avg_cost']\n",
    "    \n",
    "    stats['clues'] = {}\n",
    "    stats['clues']['clues_counter']\n",
    "    stats['clues']['clues_successive_count']\n",
    "'''\n",
    "results = \"./output\"\n",
    "p = Path(results)\n",
    "\n",
    "ignored_files = ['p12.output.json', 'p13.output.json']\n",
    "files = [x for x in p.iterdir() if x.is_file() and x.name not in ignored_files]\n",
    "\n",
    "json_file = list(filter(lambda x: 'output.json' in x.name , files) )\n",
    "#problems = list(filter(lambda x: 'nielspasta' in x.name or 'p5' in x.name , json_file))\n",
    "file_paths = list(map(lambda f: f.absolute().as_posix(), json_file))\n",
    "#print(file_paths)\n",
    "\n",
    "#statistics = {}\n",
    "data = {}\n",
    "\n",
    "for i, fp in enumerate(file_paths):\n",
    "    problem_name = json_file[i].name\n",
    "\n",
    "    json_array = json2array(fp)\n",
    "    if i == 1:\n",
    "        #print(problem_name)\n",
    "        #pprint_json(json_array)\n",
    "    \n",
    "        data[problem_name] =  filter_nested_explanations(json_array)\n",
    "#    statistics[problem_name] = build_statistics(data[problem_name])\n"
   ]
  },
  {
   "cell_type": "code",
   "execution_count": 36,
   "metadata": {},
   "outputs": [],
   "source": [
    "def filter_nested_explanations(explanation_array):\n",
    "    '''Filters the explanations with nested explanations and for every nested explanations\n",
    "    removes last step from reason_sequence and if nested_explanation is only 1 step it is removed\n",
    "    as well.\n",
    "    Remove also last step from nested explanation list.\n",
    "    '''\n",
    "    s_nested_explanation = \"nested_explanations\"\n",
    "    s_reason_sequence = \"reason_sequence\"\n",
    "    data_dict = {}\n",
    "    \n",
    "    # take explanations only with nested explanations\n",
    "    expl_w_nested = [expl for expl in explanation_array if s_nested_explanation in expl]\n",
    "    \n",
    "    nested_2_more_steps = []\n",
    "    \n",
    "    # remove empty dict from nested_explanations\n",
    "    for expl in expl_w_nested:\n",
    "        expl[s_nested_explanation] = expl[s_nested_explanation][:-1]\n",
    "    \n",
    "    for expl in expl_w_nested:\n",
    "        #pprint_json(expl)\n",
    "        nested_explanations = []\n",
    "        for seq in expl[s_nested_explanation]:\n",
    "            seq[s_reason_sequence] = seq[s_reason_sequence][:-1]\n",
    "            if len(seq[s_reason_sequence]) > 0:\n",
    "                nested_explanations.append(seq.copy())\n",
    "        #pprint_json(expl) \n",
    "        expl[s_nested_explanation] = nested_explanations\n",
    "        #pprint_json(expl)\n",
    "    \n",
    "    expl_w_nested = [expl for expl in expl_w_nested if len(expl[s_nested_explanation]) > 0]\n",
    "\n",
    "    return expl_w_nested"
   ]
  },
  {
   "cell_type": "code",
   "execution_count": 25,
   "metadata": {},
   "outputs": [
    {
     "data": {
      "text/plain": [
       "[]"
      ]
     },
     "execution_count": 25,
     "metadata": {},
     "output_type": "execute_result"
    }
   ],
   "source": [
    "[1][:-1]"
   ]
  },
  {
   "cell_type": "code",
   "execution_count": null,
   "metadata": {},
   "outputs": [],
   "source": [
    "[]"
   ]
  }
 ],
 "metadata": {
  "kernelspec": {
   "display_name": "Python 3",
   "language": "python",
   "name": "python3"
  },
  "language_info": {
   "codemirror_mode": {
    "name": "ipython",
    "version": 3
   },
   "file_extension": ".py",
   "mimetype": "text/x-python",
   "name": "python",
   "nbconvert_exporter": "python",
   "pygments_lexer": "ipython3",
   "version": "3.7.3"
  }
 },
 "nbformat": 4,
 "nbformat_minor": 2
}
