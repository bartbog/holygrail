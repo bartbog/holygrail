{
 "cells": [
  {
   "cell_type": "code",
   "execution_count": 5,
   "metadata": {},
   "outputs": [],
   "source": [
    "H = [[1,2,3,4],\n",
    "     [2,3,5],\n",
    "     [1,5,6],\n",
    "     [6,7,8],\n",
    "     [7,9,10]]"
   ]
  },
  {
   "cell_type": "code",
   "execution_count": 6,
   "metadata": {},
   "outputs": [
    {
     "ename": "IndexError",
     "evalue": "list index out of range",
     "output_type": "error",
     "traceback": [
      "\u001b[0;31m---------------------------------------------------------------------------\u001b[0m",
      "\u001b[0;31mIndexError\u001b[0m                                Traceback (most recent call last)",
      "\u001b[0;32m<ipython-input-6-2ef91286b873>\u001b[0m in \u001b[0;36m<module>\u001b[0;34m\u001b[0m\n\u001b[1;32m     51\u001b[0m     \u001b[0;32mreturn\u001b[0m \u001b[0mC\u001b[0m\u001b[0;34m\u001b[0m\u001b[0;34m\u001b[0m\u001b[0m\n\u001b[1;32m     52\u001b[0m \u001b[0;34m\u001b[0m\u001b[0m\n\u001b[0;32m---> 53\u001b[0;31m \u001b[0mgreedyHS\u001b[0m\u001b[0;34m(\u001b[0m\u001b[0mH\u001b[0m\u001b[0;34m)\u001b[0m\u001b[0;34m\u001b[0m\u001b[0;34m\u001b[0m\u001b[0m\n\u001b[0m",
      "\u001b[0;32m<ipython-input-6-2ef91286b873>\u001b[0m in \u001b[0;36mgreedyHS\u001b[0;34m(H, weights)\u001b[0m\n\u001b[1;32m     32\u001b[0m \u001b[0;34m\u001b[0m\u001b[0m\n\u001b[1;32m     33\u001b[0m         \u001b[0;31m# get element that is in most sets, using the vertical views\u001b[0m\u001b[0;34m\u001b[0m\u001b[0;34m\u001b[0m\u001b[0;34m\u001b[0m\u001b[0m\n\u001b[0;32m---> 34\u001b[0;31m         \u001b[0;34m(\u001b[0m\u001b[0mc\u001b[0m\u001b[0;34m,\u001b[0m \u001b[0mcover\u001b[0m\u001b[0;34m)\u001b[0m \u001b[0;34m=\u001b[0m \u001b[0mmax\u001b[0m\u001b[0;34m(\u001b[0m\u001b[0mV\u001b[0m\u001b[0;34m.\u001b[0m\u001b[0mitems\u001b[0m\u001b[0;34m(\u001b[0m\u001b[0;34m)\u001b[0m\u001b[0;34m,\u001b[0m \u001b[0mkey\u001b[0m\u001b[0;34m=\u001b[0m\u001b[0;32mlambda\u001b[0m \u001b[0mtpl\u001b[0m\u001b[0;34m:\u001b[0m \u001b[0;34m(\u001b[0m \u001b[0mlen\u001b[0m\u001b[0;34m(\u001b[0m\u001b[0mtpl\u001b[0m\u001b[0;34m[\u001b[0m\u001b[0;36m1\u001b[0m\u001b[0;34m]\u001b[0m\u001b[0;34m)\u001b[0m\u001b[0;34m,\u001b[0m \u001b[0msum\u001b[0m\u001b[0;34m(\u001b[0m\u001b[0mweights\u001b[0m\u001b[0;34m)\u001b[0m\u001b[0;34m-\u001b[0m\u001b[0mweights\u001b[0m\u001b[0;34m[\u001b[0m\u001b[0mtpl\u001b[0m\u001b[0;34m[\u001b[0m\u001b[0;36m0\u001b[0m\u001b[0;34m]\u001b[0m\u001b[0;34m]\u001b[0m\u001b[0;34m)\u001b[0m \u001b[0;34m)\u001b[0m\u001b[0;34m\u001b[0m\u001b[0;34m\u001b[0m\u001b[0m\n\u001b[0m\u001b[1;32m     35\u001b[0m         \u001b[0;31m#c_covers = [tpl for tpl in V.items() if len(tpl[1]) == len(cover)]\u001b[0m\u001b[0;34m\u001b[0m\u001b[0;34m\u001b[0m\u001b[0;34m\u001b[0m\u001b[0m\n\u001b[1;32m     36\u001b[0m \u001b[0;34m\u001b[0m\u001b[0m\n",
      "\u001b[0;32m<ipython-input-6-2ef91286b873>\u001b[0m in \u001b[0;36m<lambda>\u001b[0;34m(tpl)\u001b[0m\n\u001b[1;32m     32\u001b[0m \u001b[0;34m\u001b[0m\u001b[0m\n\u001b[1;32m     33\u001b[0m         \u001b[0;31m# get element that is in most sets, using the vertical views\u001b[0m\u001b[0;34m\u001b[0m\u001b[0;34m\u001b[0m\u001b[0;34m\u001b[0m\u001b[0m\n\u001b[0;32m---> 34\u001b[0;31m         \u001b[0;34m(\u001b[0m\u001b[0mc\u001b[0m\u001b[0;34m,\u001b[0m \u001b[0mcover\u001b[0m\u001b[0;34m)\u001b[0m \u001b[0;34m=\u001b[0m \u001b[0mmax\u001b[0m\u001b[0;34m(\u001b[0m\u001b[0mV\u001b[0m\u001b[0;34m.\u001b[0m\u001b[0mitems\u001b[0m\u001b[0;34m(\u001b[0m\u001b[0;34m)\u001b[0m\u001b[0;34m,\u001b[0m \u001b[0mkey\u001b[0m\u001b[0;34m=\u001b[0m\u001b[0;32mlambda\u001b[0m \u001b[0mtpl\u001b[0m\u001b[0;34m:\u001b[0m \u001b[0;34m(\u001b[0m \u001b[0mlen\u001b[0m\u001b[0;34m(\u001b[0m\u001b[0mtpl\u001b[0m\u001b[0;34m[\u001b[0m\u001b[0;36m1\u001b[0m\u001b[0;34m]\u001b[0m\u001b[0;34m)\u001b[0m\u001b[0;34m,\u001b[0m \u001b[0msum\u001b[0m\u001b[0;34m(\u001b[0m\u001b[0mweights\u001b[0m\u001b[0;34m)\u001b[0m\u001b[0;34m-\u001b[0m\u001b[0mweights\u001b[0m\u001b[0;34m[\u001b[0m\u001b[0mtpl\u001b[0m\u001b[0;34m[\u001b[0m\u001b[0;36m0\u001b[0m\u001b[0;34m]\u001b[0m\u001b[0;34m]\u001b[0m\u001b[0;34m)\u001b[0m \u001b[0;34m)\u001b[0m\u001b[0;34m\u001b[0m\u001b[0;34m\u001b[0m\u001b[0m\n\u001b[0m\u001b[1;32m     35\u001b[0m         \u001b[0;31m#c_covers = [tpl for tpl in V.items() if len(tpl[1]) == len(cover)]\u001b[0m\u001b[0;34m\u001b[0m\u001b[0;34m\u001b[0m\u001b[0;34m\u001b[0m\u001b[0m\n\u001b[1;32m     36\u001b[0m \u001b[0;34m\u001b[0m\u001b[0m\n",
      "\u001b[0;31mIndexError\u001b[0m: list index out of range"
     ]
    }
   ],
   "source": [
    "# TODO: this is the unweighted case... could use weights to brake equivalences?\n",
    "def greedyHS(H, weights= [1, 4, 2, 2, 1, 1, 4, 2, 2, 1]):\n",
    "    # trivial case: empty\n",
    "    if len(H) == 0:\n",
    "        return set()\n",
    "\n",
    "    C = set() # the hitting set\n",
    "    \n",
    "    # build vertical sets\n",
    "    V = dict() # for each element in H: which sets it is in\n",
    "    for i,h in enumerate(H):\n",
    "        # special case: only one element in the set, must be in hitting set\n",
    "        if len(h) == 1:\n",
    "            C.add( next(iter(h)) )\n",
    "        else:\n",
    "            for e in h:\n",
    "                if not e in V:\n",
    "                    V[e] = set([i])\n",
    "                else:\n",
    "                    V[e].add(i)\n",
    "    \n",
    "    # special cases, remove from V so they are not picked again\n",
    "    for c in C:\n",
    "        if c in V:\n",
    "            del V[c]\n",
    "\n",
    "    while len(V) > 0:\n",
    "        # special case, one element left\n",
    "        if len(V) == 1:\n",
    "            C.add( next(iter(V.keys())) )\n",
    "            break\n",
    "        \n",
    "        # get element that is in most sets, using the vertical views\n",
    "        (c, cover) = max(V.items(), key=lambda tpl: ( len(tpl[1]), sum(weights)-weights[tpl[0]]) )\n",
    "        #c_covers = [tpl for tpl in V.items() if len(tpl[1]) == len(cover)]\n",
    "\n",
    "        #if len(c_covers) > 1:\n",
    "            # get the leemnt witht the most coverage but with the least total weight\n",
    "        #    (c, cover) = min(c_covers, key=lambda tpl: sum(weights[ci] for ci in tpl[1]))\n",
    "        \n",
    "        del V[c]\n",
    "        C.add(c)\n",
    "\n",
    "        # update vertical views, remove covered sets\n",
    "        for e in list(V): # V will be changed in this loop\n",
    "            V[e] -= cover\n",
    "            # no sets remaining with this element?\n",
    "            if len(V[e]) == 0:\n",
    "                del V[e]\n",
    "        \n",
    "    return C\n",
    "\n",
    "greedyHS(H)"
   ]
  },
  {
   "cell_type": "code",
   "execution_count": 3,
   "metadata": {},
   "outputs": [
    {
     "name": "stdout",
     "output_type": "stream",
     "text": [
      "3 11\n"
     ]
    }
   ],
   "source": [
    "H = [{9, 2}, {8, 2}, {8, 1, 7}, {1, 11}, {1, 10}, {0, 10}, {0, 9, 7}, {9, 3}, {0, 8, 7}, {8, 3}, {0, 11}, {11, 3}, {10, 3}, {2, 10}]\n",
    "c_covers = [(8, {8, 1, 2, 9}), (10, {12, 13, 4, 5}), (0, {8, 10, 5, 6}), (3, {9, 11, 12, 7})] \n",
    "weights = [2, 2, 2, 1, 2, 2, 2, 2, 2, 2, 2, 1]\n",
    "\n",
    "#(c, cover) = min(, key=lambda tpl: sum(weights[ci] for ci in tpl[1]))\n",
    "best_c = None\n",
    "best_weight = sum(weights)\n",
    "for c, cov in c_covers:\n",
    "    \n",
    "    w = sum([weights[clause] for s in cov for clause in H[s]])\n",
    "    if w < best_weight:\n",
    "        best_weight = w\n",
    "        best_c = c\n",
    "print(c, best_weight)\n"
   ]
  },
  {
   "cell_type": "code",
   "execution_count": null,
   "metadata": {},
   "outputs": [],
   "source": []
  }
 ],
 "metadata": {
  "kernelspec": {
   "display_name": "Python 3",
   "language": "python",
   "name": "python3"
  },
  "language_info": {
   "codemirror_mode": {
    "name": "ipython",
    "version": 3
   },
   "file_extension": ".py",
   "mimetype": "text/x-python",
   "name": "python",
   "nbconvert_exporter": "python",
   "pygments_lexer": "ipython3",
   "version": "3.7.3"
  }
 },
 "nbformat": 4,
 "nbformat_minor": 2
}
