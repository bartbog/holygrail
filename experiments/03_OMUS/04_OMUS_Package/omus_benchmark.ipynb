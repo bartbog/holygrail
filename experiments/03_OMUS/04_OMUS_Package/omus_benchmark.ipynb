{
 "cells": [
  {
   "cell_type": "code",
   "execution_count": 18,
   "metadata": {},
   "outputs": [],
   "source": [
    "%matplotlib inline\n",
    "import json\n",
    "import plotly.express as px\n",
    "import plotly.graph_objects as go\n",
    "import os\n",
    "import pandas as pd\n",
    "from statistics import mean, median, stdev, variance\n",
    "import qgrid"
   ]
  },
  {
   "cell_type": "code",
   "execution_count": 19,
   "metadata": {},
   "outputs": [],
   "source": [
    "# folder paths\n",
    "results_folder = 'results/2020_05_14v3/'\n",
    "gurobi_folder = 'Gurobi/'\n",
    "ortools_folder = 'OrTools/'\n",
    "gurobi_cold_folder = 'GurobiCold/'\n",
    "extension1 = 'ext1/'\n",
    "extension2 = 'ext2/'\n",
    "extension3 = 'ext3/'\n",
    "extension4 = 'ext4/'\n",
    "\n",
    "# problem names\n",
    "# p = set(f_name for f_name in gurobi_ext4_files)\n",
    "p = set()\n",
    "\n",
    "# solver \n",
    "solvers = {'or-tools':'OrTools/', 'gurobi-warm':'Gurobi/', 'gurobi-cold':'GurobiCold/'}\n",
    "\n",
    "# extension\n",
    "extensions = [1, 2, 3, 4]\n",
    "\n",
    "for solver in solvers:\n",
    "    solverFolder = solvers[solver]\n",
    "    for extension in extensions:\n",
    "        folder_path_extension = results_folder + solverFolder + f\"ext{extension}/\"\n",
    "        if os.path.exists(folder_path_extension):\n",
    "            files = set(f for f in os.listdir(folder_path_extension) if  f.endswith('.json'))\n",
    "            #print(files)\n",
    "            [p.add(f) for f in files]\n",
    "\n",
    "# folder paths\n",
    "f_paths = {}\n",
    "\n",
    "for s in solvers:\n",
    "    solver = solvers[s]\n",
    "    f_paths[s] = {}\n",
    "    for ext in extensions:\n",
    "        f_paths[s][ext] = {}\n",
    "        for problem in p:\n",
    "            f_path = results_folder + solver + f\"ext{ext}/\" + problem\n",
    "            if os.path.isfile(f_path):\n",
    "                f_paths[s][ext][problem] = f_path\n",
    "\n",
    "data = {'p':  [],\n",
    "        'solver': [],\n",
    "        'ext' : [],\n",
    "        'clauses' : [],\n",
    "        'steps': [],\n",
    "        'total time [s]': [],\n",
    "        '% hs [s]' : [],\n",
    "        '% sat [s]' : [],\n",
    "        '% grow [s]':[],\n",
    "        's_hs':[],\n",
    "        's_grow':[],\n",
    "        'avg_s_hs':[],\n",
    "        'avg_s_grow':[]\n",
    "        }\n",
    "\n",
    "for solver in f_paths:\n",
    "    for ext in f_paths[solver]:\n",
    "        for problem in f_paths[solver][ext]:\n",
    "            f_path = f_paths[solver][ext][problem]\n",
    "\n",
    "            # data parameters\n",
    "            if '_random.json' in problem:\n",
    "                data['ext'].append('2a')\n",
    "                data['p'].append(problem.replace(\"_random\",''))\n",
    "            elif 'bestliteral.json' in problem:\n",
    "                data['ext'].append('2b')\n",
    "                data['p'].append(problem.replace(\"bestliteral\",''))\n",
    "            elif 'bestliteral_neg.json' in problem:\n",
    "                data['ext'].append('2c')\n",
    "                data['p'].append(problem.replace(\"bestliteral_neg\",''))\n",
    "            else:\n",
    "                data['ext'].append(str(ext))\n",
    "                data['p'].append(problem)\n",
    "            \n",
    "            data['solver'].append(solver)\n",
    "            \n",
    "            with open(f_path) as f:\n",
    "                parsed_json = json.load(f)\n",
    "            \n",
    "            # data results\n",
    "            data['clauses'].append(parsed_json['clauses'])\n",
    "            data['steps'].append(parsed_json['steps'])\n",
    "            tot_time = sum(parsed_json['t_hitting_set']) +sum(parsed_json['t_sat_check'])  + sum(parsed_json['t_grow'])\n",
    "            data['total time [s]'].append(tot_time)\n",
    "            data['% hs [s]'].append(round(100*sum(parsed_json['t_hitting_set'])/tot_time, 2))\n",
    "            data['% sat [s]'].append(round(100*sum(parsed_json['t_sat_check'])/tot_time,2))\n",
    "            data['% grow [s]'].append(round(100*sum(parsed_json['t_grow'])/tot_time, 2))\n",
    "            data['s_hs'].append(parsed_json['s_hs']),\n",
    "            data['s_grow'].append(parsed_json['s_grow'])\n",
    "            data['avg_s_hs'].append(round(mean(parsed_json['s_hs']), 2)),\n",
    "            data['avg_s_grow'].append(round(mean(parsed_json['s_grow']),2))\n",
    "\n",
    "df = pd.DataFrame (data, columns = [column for column in data])\n",
    "df = df.sort_values([\"clauses\", \"steps\", \"total time [s]\"], ascending = (False, True, True))\n",
    "#print(df)\n",
    "#df.to_excel(\"results_tiastower/2020_05_08.xlsx\") \n",
    "#qgrid_widget = qgrid.show_grid(df, show_toolbar=True)\n",
    "#qgrid_widget"
   ]
  },
  {
   "cell_type": "markdown",
   "metadata": {},
   "source": [
    "# Results\n",
    "## RQ1: for or-tools as HS solver, extension 1 vs 2 ia ib ic vs 3\n",
    "\n",
    "- For OR-tools as optimal hittingset solver, `extension 3` in most cases has the most amount of steps.\n",
    "- `Extnsion 2b` has both low execution and lowest amount of steps in most cases. \n",
    "- **Extension 1** provides results in a considerably longer time even for small instances...\n",
    "\n",
    "**Conclusion RQ1**\n",
    "\n",
    "The not so clear best extension with or-tools = `extension 2b`"
   ]
  },
  {
   "cell_type": "code",
   "execution_count": 20,
   "metadata": {},
   "outputs": [
    {
     "data": {
      "text/html": [
       "<div>\n",
       "<style scoped>\n",
       "    .dataframe tbody tr th:only-of-type {\n",
       "        vertical-align: middle;\n",
       "    }\n",
       "\n",
       "    .dataframe tbody tr th {\n",
       "        vertical-align: top;\n",
       "    }\n",
       "\n",
       "    .dataframe thead th {\n",
       "        text-align: right;\n",
       "    }\n",
       "</style>\n",
       "<table border=\"1\" class=\"dataframe\">\n",
       "  <thead>\n",
       "    <tr style=\"text-align: right;\">\n",
       "      <th></th>\n",
       "      <th>p</th>\n",
       "      <th>solver</th>\n",
       "      <th>ext</th>\n",
       "      <th>clauses</th>\n",
       "      <th>steps</th>\n",
       "      <th>total time [s]</th>\n",
       "      <th>avg_s_hs</th>\n",
       "      <th>avg_s_grow</th>\n",
       "    </tr>\n",
       "  </thead>\n",
       "  <tbody>\n",
       "    <tr>\n",
       "      <th>11</th>\n",
       "      <td>zebra_v155_c1135.json</td>\n",
       "      <td>or-tools</td>\n",
       "      <td>2c</td>\n",
       "      <td>1160</td>\n",
       "      <td>280</td>\n",
       "      <td>416.613658</td>\n",
       "      <td>3.22</td>\n",
       "      <td>59.33</td>\n",
       "    </tr>\n",
       "    <tr>\n",
       "      <th>8</th>\n",
       "      <td>zebra_v155_c1135.json</td>\n",
       "      <td>or-tools</td>\n",
       "      <td>2a</td>\n",
       "      <td>1160</td>\n",
       "      <td>309</td>\n",
       "      <td>466.198889</td>\n",
       "      <td>3.28</td>\n",
       "      <td>58.79</td>\n",
       "    </tr>\n",
       "    <tr>\n",
       "      <th>4</th>\n",
       "      <td>zebra_v155_c1135.json</td>\n",
       "      <td>or-tools</td>\n",
       "      <td>2b</td>\n",
       "      <td>1160</td>\n",
       "      <td>306</td>\n",
       "      <td>498.169732</td>\n",
       "      <td>3.29</td>\n",
       "      <td>59.07</td>\n",
       "    </tr>\n",
       "    <tr>\n",
       "      <th>26</th>\n",
       "      <td>zebra_v155_c1135.json</td>\n",
       "      <td>or-tools</td>\n",
       "      <td>3</td>\n",
       "      <td>1160</td>\n",
       "      <td>334</td>\n",
       "      <td>540.472964</td>\n",
       "      <td>3.33</td>\n",
       "      <td>58.18</td>\n",
       "    </tr>\n",
       "    <tr>\n",
       "      <th>15</th>\n",
       "      <td>par8-1-c.json</td>\n",
       "      <td>or-tools</td>\n",
       "      <td>2c</td>\n",
       "      <td>250</td>\n",
       "      <td>2</td>\n",
       "      <td>0.007377</td>\n",
       "      <td>1.00</td>\n",
       "      <td>56.00</td>\n",
       "    </tr>\n",
       "    <tr>\n",
       "      <th>6</th>\n",
       "      <td>par8-1-c.json</td>\n",
       "      <td>or-tools</td>\n",
       "      <td>2b</td>\n",
       "      <td>250</td>\n",
       "      <td>2</td>\n",
       "      <td>0.007910</td>\n",
       "      <td>1.00</td>\n",
       "      <td>56.00</td>\n",
       "    </tr>\n",
       "    <tr>\n",
       "      <th>17</th>\n",
       "      <td>par8-1-c.json</td>\n",
       "      <td>or-tools</td>\n",
       "      <td>2a</td>\n",
       "      <td>250</td>\n",
       "      <td>2</td>\n",
       "      <td>0.008004</td>\n",
       "      <td>1.00</td>\n",
       "      <td>56.00</td>\n",
       "    </tr>\n",
       "    <tr>\n",
       "      <th>25</th>\n",
       "      <td>par8-1-c.json</td>\n",
       "      <td>or-tools</td>\n",
       "      <td>3</td>\n",
       "      <td>250</td>\n",
       "      <td>2</td>\n",
       "      <td>0.015177</td>\n",
       "      <td>1.00</td>\n",
       "      <td>56.00</td>\n",
       "    </tr>\n",
       "    <tr>\n",
       "      <th>0</th>\n",
       "      <td>dubois22.json</td>\n",
       "      <td>or-tools</td>\n",
       "      <td>2b</td>\n",
       "      <td>176</td>\n",
       "      <td>179</td>\n",
       "      <td>10.396245</td>\n",
       "      <td>87.11</td>\n",
       "      <td>1.03</td>\n",
       "    </tr>\n",
       "    <tr>\n",
       "      <th>13</th>\n",
       "      <td>dubois22.json</td>\n",
       "      <td>or-tools</td>\n",
       "      <td>2a</td>\n",
       "      <td>176</td>\n",
       "      <td>193</td>\n",
       "      <td>11.620985</td>\n",
       "      <td>84.37</td>\n",
       "      <td>1.18</td>\n",
       "    </tr>\n",
       "    <tr>\n",
       "      <th>2</th>\n",
       "      <td>dubois22.json</td>\n",
       "      <td>or-tools</td>\n",
       "      <td>2c</td>\n",
       "      <td>176</td>\n",
       "      <td>193</td>\n",
       "      <td>11.658124</td>\n",
       "      <td>84.37</td>\n",
       "      <td>1.18</td>\n",
       "    </tr>\n",
       "    <tr>\n",
       "      <th>23</th>\n",
       "      <td>dubois22.json</td>\n",
       "      <td>or-tools</td>\n",
       "      <td>3</td>\n",
       "      <td>176</td>\n",
       "      <td>1313</td>\n",
       "      <td>358.857774</td>\n",
       "      <td>46.15</td>\n",
       "      <td>4.84</td>\n",
       "    </tr>\n",
       "    <tr>\n",
       "      <th>1</th>\n",
       "      <td>dubois21.json</td>\n",
       "      <td>or-tools</td>\n",
       "      <td>2b</td>\n",
       "      <td>168</td>\n",
       "      <td>180</td>\n",
       "      <td>9.839241</td>\n",
       "      <td>80.43</td>\n",
       "      <td>1.14</td>\n",
       "    </tr>\n",
       "    <tr>\n",
       "      <th>20</th>\n",
       "      <td>dubois21.json</td>\n",
       "      <td>or-tools</td>\n",
       "      <td>2c</td>\n",
       "      <td>168</td>\n",
       "      <td>195</td>\n",
       "      <td>11.396574</td>\n",
       "      <td>79.62</td>\n",
       "      <td>1.28</td>\n",
       "    </tr>\n",
       "    <tr>\n",
       "      <th>19</th>\n",
       "      <td>dubois21.json</td>\n",
       "      <td>or-tools</td>\n",
       "      <td>2a</td>\n",
       "      <td>168</td>\n",
       "      <td>195</td>\n",
       "      <td>11.434816</td>\n",
       "      <td>79.62</td>\n",
       "      <td>1.28</td>\n",
       "    </tr>\n",
       "    <tr>\n",
       "      <th>22</th>\n",
       "      <td>dubois21.json</td>\n",
       "      <td>or-tools</td>\n",
       "      <td>3</td>\n",
       "      <td>168</td>\n",
       "      <td>530</td>\n",
       "      <td>67.455392</td>\n",
       "      <td>55.27</td>\n",
       "      <td>3.59</td>\n",
       "    </tr>\n",
       "    <tr>\n",
       "      <th>21</th>\n",
       "      <td>aim-100-1_6-no-1.json</td>\n",
       "      <td>or-tools</td>\n",
       "      <td>3</td>\n",
       "      <td>160</td>\n",
       "      <td>135</td>\n",
       "      <td>3.217146</td>\n",
       "      <td>20.74</td>\n",
       "      <td>1.97</td>\n",
       "    </tr>\n",
       "    <tr>\n",
       "      <th>3</th>\n",
       "      <td>aim-100-1_6-no-1.json</td>\n",
       "      <td>or-tools</td>\n",
       "      <td>2b</td>\n",
       "      <td>160</td>\n",
       "      <td>132</td>\n",
       "      <td>3.273372</td>\n",
       "      <td>20.23</td>\n",
       "      <td>1.88</td>\n",
       "    </tr>\n",
       "    <tr>\n",
       "      <th>16</th>\n",
       "      <td>aim-100-1_6-no-1.json</td>\n",
       "      <td>or-tools</td>\n",
       "      <td>2a</td>\n",
       "      <td>160</td>\n",
       "      <td>312</td>\n",
       "      <td>24.979719</td>\n",
       "      <td>28.94</td>\n",
       "      <td>3.10</td>\n",
       "    </tr>\n",
       "    <tr>\n",
       "      <th>12</th>\n",
       "      <td>aim-100-1_6-no-1.json</td>\n",
       "      <td>or-tools</td>\n",
       "      <td>2c</td>\n",
       "      <td>160</td>\n",
       "      <td>375</td>\n",
       "      <td>41.163129</td>\n",
       "      <td>34.81</td>\n",
       "      <td>2.82</td>\n",
       "    </tr>\n",
       "    <tr>\n",
       "      <th>14</th>\n",
       "      <td>dubois20.json</td>\n",
       "      <td>or-tools</td>\n",
       "      <td>2b</td>\n",
       "      <td>160</td>\n",
       "      <td>162</td>\n",
       "      <td>7.805072</td>\n",
       "      <td>79.30</td>\n",
       "      <td>1.02</td>\n",
       "    </tr>\n",
       "    <tr>\n",
       "      <th>18</th>\n",
       "      <td>dubois20.json</td>\n",
       "      <td>or-tools</td>\n",
       "      <td>2a</td>\n",
       "      <td>160</td>\n",
       "      <td>180</td>\n",
       "      <td>9.245855</td>\n",
       "      <td>76.52</td>\n",
       "      <td>1.22</td>\n",
       "    </tr>\n",
       "    <tr>\n",
       "      <th>10</th>\n",
       "      <td>dubois20.json</td>\n",
       "      <td>or-tools</td>\n",
       "      <td>2c</td>\n",
       "      <td>160</td>\n",
       "      <td>180</td>\n",
       "      <td>9.344764</td>\n",
       "      <td>76.52</td>\n",
       "      <td>1.22</td>\n",
       "    </tr>\n",
       "    <tr>\n",
       "      <th>24</th>\n",
       "      <td>dubois20.json</td>\n",
       "      <td>or-tools</td>\n",
       "      <td>3</td>\n",
       "      <td>160</td>\n",
       "      <td>630</td>\n",
       "      <td>82.917307</td>\n",
       "      <td>47.48</td>\n",
       "      <td>3.78</td>\n",
       "    </tr>\n",
       "    <tr>\n",
       "      <th>9</th>\n",
       "      <td>hole6.json</td>\n",
       "      <td>or-tools</td>\n",
       "      <td>2c</td>\n",
       "      <td>133</td>\n",
       "      <td>238</td>\n",
       "      <td>12.706410</td>\n",
       "      <td>52.20</td>\n",
       "      <td>1.57</td>\n",
       "    </tr>\n",
       "    <tr>\n",
       "      <th>7</th>\n",
       "      <td>hole6.json</td>\n",
       "      <td>or-tools</td>\n",
       "      <td>2b</td>\n",
       "      <td>133</td>\n",
       "      <td>238</td>\n",
       "      <td>12.732956</td>\n",
       "      <td>52.20</td>\n",
       "      <td>1.57</td>\n",
       "    </tr>\n",
       "    <tr>\n",
       "      <th>5</th>\n",
       "      <td>hole6.json</td>\n",
       "      <td>or-tools</td>\n",
       "      <td>2a</td>\n",
       "      <td>133</td>\n",
       "      <td>335</td>\n",
       "      <td>36.885995</td>\n",
       "      <td>48.34</td>\n",
       "      <td>2.36</td>\n",
       "    </tr>\n",
       "    <tr>\n",
       "      <th>27</th>\n",
       "      <td>hole6.json</td>\n",
       "      <td>or-tools</td>\n",
       "      <td>3</td>\n",
       "      <td>133</td>\n",
       "      <td>380</td>\n",
       "      <td>36.911402</td>\n",
       "      <td>50.27</td>\n",
       "      <td>2.10</td>\n",
       "    </tr>\n",
       "  </tbody>\n",
       "</table>\n",
       "</div>"
      ],
      "text/plain": [
       "                        p    solver ext  clauses  steps  total time [s]  \\\n",
       "11  zebra_v155_c1135.json  or-tools  2c     1160    280      416.613658   \n",
       "8   zebra_v155_c1135.json  or-tools  2a     1160    309      466.198889   \n",
       "4   zebra_v155_c1135.json  or-tools  2b     1160    306      498.169732   \n",
       "26  zebra_v155_c1135.json  or-tools   3     1160    334      540.472964   \n",
       "15          par8-1-c.json  or-tools  2c      250      2        0.007377   \n",
       "6           par8-1-c.json  or-tools  2b      250      2        0.007910   \n",
       "17          par8-1-c.json  or-tools  2a      250      2        0.008004   \n",
       "25          par8-1-c.json  or-tools   3      250      2        0.015177   \n",
       "0           dubois22.json  or-tools  2b      176    179       10.396245   \n",
       "13          dubois22.json  or-tools  2a      176    193       11.620985   \n",
       "2           dubois22.json  or-tools  2c      176    193       11.658124   \n",
       "23          dubois22.json  or-tools   3      176   1313      358.857774   \n",
       "1           dubois21.json  or-tools  2b      168    180        9.839241   \n",
       "20          dubois21.json  or-tools  2c      168    195       11.396574   \n",
       "19          dubois21.json  or-tools  2a      168    195       11.434816   \n",
       "22          dubois21.json  or-tools   3      168    530       67.455392   \n",
       "21  aim-100-1_6-no-1.json  or-tools   3      160    135        3.217146   \n",
       "3   aim-100-1_6-no-1.json  or-tools  2b      160    132        3.273372   \n",
       "16  aim-100-1_6-no-1.json  or-tools  2a      160    312       24.979719   \n",
       "12  aim-100-1_6-no-1.json  or-tools  2c      160    375       41.163129   \n",
       "14          dubois20.json  or-tools  2b      160    162        7.805072   \n",
       "18          dubois20.json  or-tools  2a      160    180        9.245855   \n",
       "10          dubois20.json  or-tools  2c      160    180        9.344764   \n",
       "24          dubois20.json  or-tools   3      160    630       82.917307   \n",
       "9              hole6.json  or-tools  2c      133    238       12.706410   \n",
       "7              hole6.json  or-tools  2b      133    238       12.732956   \n",
       "5              hole6.json  or-tools  2a      133    335       36.885995   \n",
       "27             hole6.json  or-tools   3      133    380       36.911402   \n",
       "\n",
       "    avg_s_hs  avg_s_grow  \n",
       "11      3.22       59.33  \n",
       "8       3.28       58.79  \n",
       "4       3.29       59.07  \n",
       "26      3.33       58.18  \n",
       "15      1.00       56.00  \n",
       "6       1.00       56.00  \n",
       "17      1.00       56.00  \n",
       "25      1.00       56.00  \n",
       "0      87.11        1.03  \n",
       "13     84.37        1.18  \n",
       "2      84.37        1.18  \n",
       "23     46.15        4.84  \n",
       "1      80.43        1.14  \n",
       "20     79.62        1.28  \n",
       "19     79.62        1.28  \n",
       "22     55.27        3.59  \n",
       "21     20.74        1.97  \n",
       "3      20.23        1.88  \n",
       "16     28.94        3.10  \n",
       "12     34.81        2.82  \n",
       "14     79.30        1.02  \n",
       "18     76.52        1.22  \n",
       "10     76.52        1.22  \n",
       "24     47.48        3.78  \n",
       "9      52.20        1.57  \n",
       "7      52.20        1.57  \n",
       "5      48.34        2.36  \n",
       "27     50.27        2.10  "
      ]
     },
     "execution_count": 20,
     "metadata": {},
     "output_type": "execute_result"
    }
   ],
   "source": [
    "# filter columns \n",
    "selected_columns = ['p','solver', 'ext', 'clauses', 'steps', 'total time [s]', 'avg_s_hs', 'avg_s_grow']\n",
    "#print(df)\n",
    "# data filter\n",
    "df_ortools_ext123 = df[selected_columns]\n",
    "df_ortools_ext123 = df_ortools_ext123[(df_ortools_ext123['ext'].isin(['2a', '2b', '2c', '3']))]\n",
    "df_ortools_ext123 = df_ortools_ext123[(df_ortools_ext123.solver == 'or-tools')]\n",
    "df_ortools_ext123 = df_ortools_ext123.sort_values(\n",
    "    [\"clauses\", \"p\", \"total time [s]\"], \n",
    "    ascending = (False, True, True))\n",
    "# display table\n",
    "df_ortools_ext123\n",
    "#qgrid_widget = qgrid.show_grid(df_ortools_ext123, show_toolbar=True)\n",
    "#qgrid_widget"
   ]
  },
  {
   "cell_type": "markdown",
   "metadata": {},
   "source": [
    "## RQ2: for the best of RQ1, compare or-tools vs gurobi\n",
    "\n",
    "We compare the results of `extension 2b` & `extension3` for the 3 solvers : \n",
    "\n",
    "- `Or-Tools`: Or-tools optimal hitting set solver\n",
    "- `Gurobi Warm Start`: Model is built on all variables and for every new Minimum Correction Set found, we had a new constraint corresponding to a new set in the collection of sets to hit.\n",
    "- `Gurobi Cold Start`: The full model is rebuilt for every optimal hitting set call\n",
    "\n",
    "**Results are sorted by decreasing number of clauses, Increasing problem name, total solving time**\n",
    "\n",
    "- `extension 3` has more steps than `2b` and `2c`, but for the largest instance extension 3 has the smallest total execution time. \n",
    "\n",
    "**Conclusion RQ1**\n",
    "\n",
    "Best combo for larger instances= `gurobi warm start + extension 3`"
   ]
  },
  {
   "cell_type": "code",
   "execution_count": 21,
   "metadata": {},
   "outputs": [
    {
     "data": {
      "text/html": [
       "<div>\n",
       "<style scoped>\n",
       "    .dataframe tbody tr th:only-of-type {\n",
       "        vertical-align: middle;\n",
       "    }\n",
       "\n",
       "    .dataframe tbody tr th {\n",
       "        vertical-align: top;\n",
       "    }\n",
       "\n",
       "    .dataframe thead th {\n",
       "        text-align: right;\n",
       "    }\n",
       "</style>\n",
       "<table border=\"1\" class=\"dataframe\">\n",
       "  <thead>\n",
       "    <tr style=\"text-align: right;\">\n",
       "      <th></th>\n",
       "      <th>p</th>\n",
       "      <th>solver</th>\n",
       "      <th>ext</th>\n",
       "      <th>clauses</th>\n",
       "      <th>steps</th>\n",
       "      <th>total time [s]</th>\n",
       "      <th>avg_s_hs</th>\n",
       "      <th>avg_s_grow</th>\n",
       "    </tr>\n",
       "  </thead>\n",
       "  <tbody>\n",
       "    <tr>\n",
       "      <th>42</th>\n",
       "      <td>zebra_v155_c1135.json</td>\n",
       "      <td>gurobi-warm</td>\n",
       "      <td>3</td>\n",
       "      <td>1160</td>\n",
       "      <td>282</td>\n",
       "      <td>67.451495</td>\n",
       "      <td>3.21</td>\n",
       "      <td>58.28</td>\n",
       "    </tr>\n",
       "    <tr>\n",
       "      <th>36</th>\n",
       "      <td>zebra_v155_c1135.json</td>\n",
       "      <td>gurobi-warm</td>\n",
       "      <td>2c</td>\n",
       "      <td>1160</td>\n",
       "      <td>276</td>\n",
       "      <td>84.726095</td>\n",
       "      <td>3.29</td>\n",
       "      <td>58.64</td>\n",
       "    </tr>\n",
       "    <tr>\n",
       "      <th>35</th>\n",
       "      <td>zebra_v155_c1135.json</td>\n",
       "      <td>gurobi-warm</td>\n",
       "      <td>2b</td>\n",
       "      <td>1160</td>\n",
       "      <td>276</td>\n",
       "      <td>85.371624</td>\n",
       "      <td>3.29</td>\n",
       "      <td>58.64</td>\n",
       "    </tr>\n",
       "    <tr>\n",
       "      <th>57</th>\n",
       "      <td>zebra_v155_c1135.json</td>\n",
       "      <td>gurobi-cold</td>\n",
       "      <td>3</td>\n",
       "      <td>1160</td>\n",
       "      <td>282</td>\n",
       "      <td>215.948875</td>\n",
       "      <td>3.21</td>\n",
       "      <td>58.28</td>\n",
       "    </tr>\n",
       "    <tr>\n",
       "      <th>11</th>\n",
       "      <td>zebra_v155_c1135.json</td>\n",
       "      <td>or-tools</td>\n",
       "      <td>2c</td>\n",
       "      <td>1160</td>\n",
       "      <td>280</td>\n",
       "      <td>416.613658</td>\n",
       "      <td>3.22</td>\n",
       "      <td>59.33</td>\n",
       "    </tr>\n",
       "    <tr>\n",
       "      <th>4</th>\n",
       "      <td>zebra_v155_c1135.json</td>\n",
       "      <td>or-tools</td>\n",
       "      <td>2b</td>\n",
       "      <td>1160</td>\n",
       "      <td>306</td>\n",
       "      <td>498.169732</td>\n",
       "      <td>3.29</td>\n",
       "      <td>59.07</td>\n",
       "    </tr>\n",
       "    <tr>\n",
       "      <th>26</th>\n",
       "      <td>zebra_v155_c1135.json</td>\n",
       "      <td>or-tools</td>\n",
       "      <td>3</td>\n",
       "      <td>1160</td>\n",
       "      <td>334</td>\n",
       "      <td>540.472964</td>\n",
       "      <td>3.33</td>\n",
       "      <td>58.18</td>\n",
       "    </tr>\n",
       "    <tr>\n",
       "      <th>15</th>\n",
       "      <td>par8-1-c.json</td>\n",
       "      <td>or-tools</td>\n",
       "      <td>2c</td>\n",
       "      <td>250</td>\n",
       "      <td>2</td>\n",
       "      <td>0.007377</td>\n",
       "      <td>1.00</td>\n",
       "      <td>56.00</td>\n",
       "    </tr>\n",
       "    <tr>\n",
       "      <th>6</th>\n",
       "      <td>par8-1-c.json</td>\n",
       "      <td>or-tools</td>\n",
       "      <td>2b</td>\n",
       "      <td>250</td>\n",
       "      <td>2</td>\n",
       "      <td>0.007910</td>\n",
       "      <td>1.00</td>\n",
       "      <td>56.00</td>\n",
       "    </tr>\n",
       "    <tr>\n",
       "      <th>41</th>\n",
       "      <td>par8-1-c.json</td>\n",
       "      <td>gurobi-warm</td>\n",
       "      <td>3</td>\n",
       "      <td>250</td>\n",
       "      <td>2</td>\n",
       "      <td>0.008474</td>\n",
       "      <td>1.00</td>\n",
       "      <td>56.00</td>\n",
       "    </tr>\n",
       "    <tr>\n",
       "      <th>25</th>\n",
       "      <td>par8-1-c.json</td>\n",
       "      <td>or-tools</td>\n",
       "      <td>3</td>\n",
       "      <td>250</td>\n",
       "      <td>2</td>\n",
       "      <td>0.015177</td>\n",
       "      <td>1.00</td>\n",
       "      <td>56.00</td>\n",
       "    </tr>\n",
       "    <tr>\n",
       "      <th>56</th>\n",
       "      <td>par8-1-c.json</td>\n",
       "      <td>gurobi-cold</td>\n",
       "      <td>3</td>\n",
       "      <td>250</td>\n",
       "      <td>2</td>\n",
       "      <td>0.346043</td>\n",
       "      <td>1.00</td>\n",
       "      <td>56.00</td>\n",
       "    </tr>\n",
       "    <tr>\n",
       "      <th>39</th>\n",
       "      <td>dubois22.json</td>\n",
       "      <td>gurobi-warm</td>\n",
       "      <td>3</td>\n",
       "      <td>176</td>\n",
       "      <td>1312</td>\n",
       "      <td>8.805100</td>\n",
       "      <td>47.19</td>\n",
       "      <td>4.94</td>\n",
       "    </tr>\n",
       "    <tr>\n",
       "      <th>0</th>\n",
       "      <td>dubois22.json</td>\n",
       "      <td>or-tools</td>\n",
       "      <td>2b</td>\n",
       "      <td>176</td>\n",
       "      <td>179</td>\n",
       "      <td>10.396245</td>\n",
       "      <td>87.11</td>\n",
       "      <td>1.03</td>\n",
       "    </tr>\n",
       "    <tr>\n",
       "      <th>2</th>\n",
       "      <td>dubois22.json</td>\n",
       "      <td>or-tools</td>\n",
       "      <td>2c</td>\n",
       "      <td>176</td>\n",
       "      <td>193</td>\n",
       "      <td>11.658124</td>\n",
       "      <td>84.37</td>\n",
       "      <td>1.18</td>\n",
       "    </tr>\n",
       "    <tr>\n",
       "      <th>54</th>\n",
       "      <td>dubois22.json</td>\n",
       "      <td>gurobi-cold</td>\n",
       "      <td>3</td>\n",
       "      <td>176</td>\n",
       "      <td>1312</td>\n",
       "      <td>129.386764</td>\n",
       "      <td>47.19</td>\n",
       "      <td>4.94</td>\n",
       "    </tr>\n",
       "    <tr>\n",
       "      <th>23</th>\n",
       "      <td>dubois22.json</td>\n",
       "      <td>or-tools</td>\n",
       "      <td>3</td>\n",
       "      <td>176</td>\n",
       "      <td>1313</td>\n",
       "      <td>358.857774</td>\n",
       "      <td>46.15</td>\n",
       "      <td>4.84</td>\n",
       "    </tr>\n",
       "    <tr>\n",
       "      <th>38</th>\n",
       "      <td>dubois21.json</td>\n",
       "      <td>gurobi-warm</td>\n",
       "      <td>3</td>\n",
       "      <td>168</td>\n",
       "      <td>717</td>\n",
       "      <td>4.296818</td>\n",
       "      <td>51.92</td>\n",
       "      <td>4.45</td>\n",
       "    </tr>\n",
       "    <tr>\n",
       "      <th>1</th>\n",
       "      <td>dubois21.json</td>\n",
       "      <td>or-tools</td>\n",
       "      <td>2b</td>\n",
       "      <td>168</td>\n",
       "      <td>180</td>\n",
       "      <td>9.839241</td>\n",
       "      <td>80.43</td>\n",
       "      <td>1.14</td>\n",
       "    </tr>\n",
       "    <tr>\n",
       "      <th>20</th>\n",
       "      <td>dubois21.json</td>\n",
       "      <td>or-tools</td>\n",
       "      <td>2c</td>\n",
       "      <td>168</td>\n",
       "      <td>195</td>\n",
       "      <td>11.396574</td>\n",
       "      <td>79.62</td>\n",
       "      <td>1.28</td>\n",
       "    </tr>\n",
       "    <tr>\n",
       "      <th>53</th>\n",
       "      <td>dubois21.json</td>\n",
       "      <td>gurobi-cold</td>\n",
       "      <td>3</td>\n",
       "      <td>168</td>\n",
       "      <td>717</td>\n",
       "      <td>63.288949</td>\n",
       "      <td>51.92</td>\n",
       "      <td>4.45</td>\n",
       "    </tr>\n",
       "    <tr>\n",
       "      <th>22</th>\n",
       "      <td>dubois21.json</td>\n",
       "      <td>or-tools</td>\n",
       "      <td>3</td>\n",
       "      <td>168</td>\n",
       "      <td>530</td>\n",
       "      <td>67.455392</td>\n",
       "      <td>55.27</td>\n",
       "      <td>3.59</td>\n",
       "    </tr>\n",
       "    <tr>\n",
       "      <th>37</th>\n",
       "      <td>aim-100-1_6-no-1.json</td>\n",
       "      <td>gurobi-warm</td>\n",
       "      <td>3</td>\n",
       "      <td>160</td>\n",
       "      <td>111</td>\n",
       "      <td>0.861856</td>\n",
       "      <td>23.97</td>\n",
       "      <td>1.84</td>\n",
       "    </tr>\n",
       "    <tr>\n",
       "      <th>21</th>\n",
       "      <td>aim-100-1_6-no-1.json</td>\n",
       "      <td>or-tools</td>\n",
       "      <td>3</td>\n",
       "      <td>160</td>\n",
       "      <td>135</td>\n",
       "      <td>3.217146</td>\n",
       "      <td>20.74</td>\n",
       "      <td>1.97</td>\n",
       "    </tr>\n",
       "    <tr>\n",
       "      <th>3</th>\n",
       "      <td>aim-100-1_6-no-1.json</td>\n",
       "      <td>or-tools</td>\n",
       "      <td>2b</td>\n",
       "      <td>160</td>\n",
       "      <td>132</td>\n",
       "      <td>3.273372</td>\n",
       "      <td>20.23</td>\n",
       "      <td>1.88</td>\n",
       "    </tr>\n",
       "    <tr>\n",
       "      <th>52</th>\n",
       "      <td>aim-100-1_6-no-1.json</td>\n",
       "      <td>gurobi-cold</td>\n",
       "      <td>3</td>\n",
       "      <td>160</td>\n",
       "      <td>111</td>\n",
       "      <td>8.927884</td>\n",
       "      <td>23.97</td>\n",
       "      <td>1.84</td>\n",
       "    </tr>\n",
       "    <tr>\n",
       "      <th>12</th>\n",
       "      <td>aim-100-1_6-no-1.json</td>\n",
       "      <td>or-tools</td>\n",
       "      <td>2c</td>\n",
       "      <td>160</td>\n",
       "      <td>375</td>\n",
       "      <td>41.163129</td>\n",
       "      <td>34.81</td>\n",
       "      <td>2.82</td>\n",
       "    </tr>\n",
       "    <tr>\n",
       "      <th>40</th>\n",
       "      <td>dubois20.json</td>\n",
       "      <td>gurobi-warm</td>\n",
       "      <td>3</td>\n",
       "      <td>160</td>\n",
       "      <td>638</td>\n",
       "      <td>2.974641</td>\n",
       "      <td>47.49</td>\n",
       "      <td>3.80</td>\n",
       "    </tr>\n",
       "    <tr>\n",
       "      <th>14</th>\n",
       "      <td>dubois20.json</td>\n",
       "      <td>or-tools</td>\n",
       "      <td>2b</td>\n",
       "      <td>160</td>\n",
       "      <td>162</td>\n",
       "      <td>7.805072</td>\n",
       "      <td>79.30</td>\n",
       "      <td>1.02</td>\n",
       "    </tr>\n",
       "    <tr>\n",
       "      <th>10</th>\n",
       "      <td>dubois20.json</td>\n",
       "      <td>or-tools</td>\n",
       "      <td>2c</td>\n",
       "      <td>160</td>\n",
       "      <td>180</td>\n",
       "      <td>9.344764</td>\n",
       "      <td>76.52</td>\n",
       "      <td>1.22</td>\n",
       "    </tr>\n",
       "    <tr>\n",
       "      <th>55</th>\n",
       "      <td>dubois20.json</td>\n",
       "      <td>gurobi-cold</td>\n",
       "      <td>3</td>\n",
       "      <td>160</td>\n",
       "      <td>638</td>\n",
       "      <td>52.265767</td>\n",
       "      <td>47.49</td>\n",
       "      <td>3.80</td>\n",
       "    </tr>\n",
       "    <tr>\n",
       "      <th>24</th>\n",
       "      <td>dubois20.json</td>\n",
       "      <td>or-tools</td>\n",
       "      <td>3</td>\n",
       "      <td>160</td>\n",
       "      <td>630</td>\n",
       "      <td>82.917307</td>\n",
       "      <td>47.48</td>\n",
       "      <td>3.78</td>\n",
       "    </tr>\n",
       "    <tr>\n",
       "      <th>43</th>\n",
       "      <td>hole6.json</td>\n",
       "      <td>gurobi-warm</td>\n",
       "      <td>3</td>\n",
       "      <td>133</td>\n",
       "      <td>409</td>\n",
       "      <td>1.482723</td>\n",
       "      <td>49.75</td>\n",
       "      <td>2.18</td>\n",
       "    </tr>\n",
       "    <tr>\n",
       "      <th>9</th>\n",
       "      <td>hole6.json</td>\n",
       "      <td>or-tools</td>\n",
       "      <td>2c</td>\n",
       "      <td>133</td>\n",
       "      <td>238</td>\n",
       "      <td>12.706410</td>\n",
       "      <td>52.20</td>\n",
       "      <td>1.57</td>\n",
       "    </tr>\n",
       "    <tr>\n",
       "      <th>7</th>\n",
       "      <td>hole6.json</td>\n",
       "      <td>or-tools</td>\n",
       "      <td>2b</td>\n",
       "      <td>133</td>\n",
       "      <td>238</td>\n",
       "      <td>12.732956</td>\n",
       "      <td>52.20</td>\n",
       "      <td>1.57</td>\n",
       "    </tr>\n",
       "    <tr>\n",
       "      <th>58</th>\n",
       "      <td>hole6.json</td>\n",
       "      <td>gurobi-cold</td>\n",
       "      <td>3</td>\n",
       "      <td>133</td>\n",
       "      <td>409</td>\n",
       "      <td>27.496717</td>\n",
       "      <td>49.75</td>\n",
       "      <td>2.18</td>\n",
       "    </tr>\n",
       "    <tr>\n",
       "      <th>27</th>\n",
       "      <td>hole6.json</td>\n",
       "      <td>or-tools</td>\n",
       "      <td>3</td>\n",
       "      <td>133</td>\n",
       "      <td>380</td>\n",
       "      <td>36.911402</td>\n",
       "      <td>50.27</td>\n",
       "      <td>2.10</td>\n",
       "    </tr>\n",
       "  </tbody>\n",
       "</table>\n",
       "</div>"
      ],
      "text/plain": [
       "                        p       solver ext  clauses  steps  total time [s]  \\\n",
       "42  zebra_v155_c1135.json  gurobi-warm   3     1160    282       67.451495   \n",
       "36  zebra_v155_c1135.json  gurobi-warm  2c     1160    276       84.726095   \n",
       "35  zebra_v155_c1135.json  gurobi-warm  2b     1160    276       85.371624   \n",
       "57  zebra_v155_c1135.json  gurobi-cold   3     1160    282      215.948875   \n",
       "11  zebra_v155_c1135.json     or-tools  2c     1160    280      416.613658   \n",
       "4   zebra_v155_c1135.json     or-tools  2b     1160    306      498.169732   \n",
       "26  zebra_v155_c1135.json     or-tools   3     1160    334      540.472964   \n",
       "15          par8-1-c.json     or-tools  2c      250      2        0.007377   \n",
       "6           par8-1-c.json     or-tools  2b      250      2        0.007910   \n",
       "41          par8-1-c.json  gurobi-warm   3      250      2        0.008474   \n",
       "25          par8-1-c.json     or-tools   3      250      2        0.015177   \n",
       "56          par8-1-c.json  gurobi-cold   3      250      2        0.346043   \n",
       "39          dubois22.json  gurobi-warm   3      176   1312        8.805100   \n",
       "0           dubois22.json     or-tools  2b      176    179       10.396245   \n",
       "2           dubois22.json     or-tools  2c      176    193       11.658124   \n",
       "54          dubois22.json  gurobi-cold   3      176   1312      129.386764   \n",
       "23          dubois22.json     or-tools   3      176   1313      358.857774   \n",
       "38          dubois21.json  gurobi-warm   3      168    717        4.296818   \n",
       "1           dubois21.json     or-tools  2b      168    180        9.839241   \n",
       "20          dubois21.json     or-tools  2c      168    195       11.396574   \n",
       "53          dubois21.json  gurobi-cold   3      168    717       63.288949   \n",
       "22          dubois21.json     or-tools   3      168    530       67.455392   \n",
       "37  aim-100-1_6-no-1.json  gurobi-warm   3      160    111        0.861856   \n",
       "21  aim-100-1_6-no-1.json     or-tools   3      160    135        3.217146   \n",
       "3   aim-100-1_6-no-1.json     or-tools  2b      160    132        3.273372   \n",
       "52  aim-100-1_6-no-1.json  gurobi-cold   3      160    111        8.927884   \n",
       "12  aim-100-1_6-no-1.json     or-tools  2c      160    375       41.163129   \n",
       "40          dubois20.json  gurobi-warm   3      160    638        2.974641   \n",
       "14          dubois20.json     or-tools  2b      160    162        7.805072   \n",
       "10          dubois20.json     or-tools  2c      160    180        9.344764   \n",
       "55          dubois20.json  gurobi-cold   3      160    638       52.265767   \n",
       "24          dubois20.json     or-tools   3      160    630       82.917307   \n",
       "43             hole6.json  gurobi-warm   3      133    409        1.482723   \n",
       "9              hole6.json     or-tools  2c      133    238       12.706410   \n",
       "7              hole6.json     or-tools  2b      133    238       12.732956   \n",
       "58             hole6.json  gurobi-cold   3      133    409       27.496717   \n",
       "27             hole6.json     or-tools   3      133    380       36.911402   \n",
       "\n",
       "    avg_s_hs  avg_s_grow  \n",
       "42      3.21       58.28  \n",
       "36      3.29       58.64  \n",
       "35      3.29       58.64  \n",
       "57      3.21       58.28  \n",
       "11      3.22       59.33  \n",
       "4       3.29       59.07  \n",
       "26      3.33       58.18  \n",
       "15      1.00       56.00  \n",
       "6       1.00       56.00  \n",
       "41      1.00       56.00  \n",
       "25      1.00       56.00  \n",
       "56      1.00       56.00  \n",
       "39     47.19        4.94  \n",
       "0      87.11        1.03  \n",
       "2      84.37        1.18  \n",
       "54     47.19        4.94  \n",
       "23     46.15        4.84  \n",
       "38     51.92        4.45  \n",
       "1      80.43        1.14  \n",
       "20     79.62        1.28  \n",
       "53     51.92        4.45  \n",
       "22     55.27        3.59  \n",
       "37     23.97        1.84  \n",
       "21     20.74        1.97  \n",
       "3      20.23        1.88  \n",
       "52     23.97        1.84  \n",
       "12     34.81        2.82  \n",
       "40     47.49        3.80  \n",
       "14     79.30        1.02  \n",
       "10     76.52        1.22  \n",
       "55     47.49        3.80  \n",
       "24     47.48        3.78  \n",
       "43     49.75        2.18  \n",
       "9      52.20        1.57  \n",
       "7      52.20        1.57  \n",
       "58     49.75        2.18  \n",
       "27     50.27        2.10  "
      ]
     },
     "execution_count": 21,
     "metadata": {},
     "output_type": "execute_result"
    }
   ],
   "source": [
    "# filter columns \n",
    "selected_columns = ['p','solver', 'ext', 'clauses', 'steps', 'total time [s]', 'avg_s_hs', 'avg_s_grow']\n",
    "\n",
    "# data filter\n",
    "df_solver_ext3 = df[selected_columns][(df['ext'].isin(['2b', '2c','3']))]\n",
    "df_solver_ext3 = df_solver_ext3[(df_solver_ext3['solver'].isin(['or-tools', 'gurobi-warm', 'gurobi-cold']))]\n",
    "df_solver_ext3 = df_solver_ext3.sort_values(\n",
    "    [\"clauses\", \"p\", \"total time [s]\"], \n",
    "    ascending = (False, True, True))\n",
    "df_solver_ext3\n",
    "# display marked-up table\n",
    "#qgrid_widget = qgrid.show_grid(df_solver_ext3, show_toolbar=True)\n",
    "#qgrid_widget"
   ]
  },
  {
   "cell_type": "markdown",
   "metadata": {},
   "source": [
    "## RQ3: for the best of RQ2, compare  with maxsat\n",
    "\n",
    "We compare the results :\n",
    "- `Gurobi warm start + extension2b` vs `Gurobi warm start + extension3`\n",
    "- `Gurobi warm start + Max Sat` \n",
    "\n",
    "We see that for the medium instances, extension 3 takes too much time (> 1 day).\n",
    "\n",
    "1. bf0432-007\n",
    "\n",
    "For smaller instances, we see that the MaxSat solution takes :\n",
    "- less steps\n",
    "- Faster for cases where the grow size is 1\n",
    "\n",
    "For all instances, we see that the average size of grow is always the best for maxsat.\n",
    "\n",
    "**Conclusion**\n",
    "\n",
    "Overall the maxsat solution implemented by https://pysathq.github.io/docs/html/api/examples/rc2.html:\n",
    "\n",
    "    Alexey Ignatiev, António Morgado, Joao Marques-Silva. RC2: An Efficient MaxSAT Solver. MaxSAT Evaluation 2018. JSAT 11. 2019. pp. 53-64\n",
    "\n",
    "shows very good results and performs better on medium instances.\n",
    "\n",
    "**Best combo:**\n",
    "- Solver: **Gurobi with warm start**\n",
    "- Extension : **Maxsat**"
   ]
  },
  {
   "cell_type": "code",
   "execution_count": 22,
   "metadata": {
    "scrolled": true
   },
   "outputs": [
    {
     "data": {
      "text/html": [
       "<div>\n",
       "<style scoped>\n",
       "    .dataframe tbody tr th:only-of-type {\n",
       "        vertical-align: middle;\n",
       "    }\n",
       "\n",
       "    .dataframe tbody tr th {\n",
       "        vertical-align: top;\n",
       "    }\n",
       "\n",
       "    .dataframe thead th {\n",
       "        text-align: right;\n",
       "    }\n",
       "</style>\n",
       "<table border=\"1\" class=\"dataframe\">\n",
       "  <thead>\n",
       "    <tr style=\"text-align: right;\">\n",
       "      <th></th>\n",
       "      <th>p</th>\n",
       "      <th>solver</th>\n",
       "      <th>ext</th>\n",
       "      <th>clauses</th>\n",
       "      <th>steps</th>\n",
       "      <th>total time [s]</th>\n",
       "      <th>avg_s_hs</th>\n",
       "      <th>avg_s_grow</th>\n",
       "    </tr>\n",
       "  </thead>\n",
       "  <tbody>\n",
       "    <tr>\n",
       "      <th>50</th>\n",
       "      <td>bf0432-007.json</td>\n",
       "      <td>gurobi-warm</td>\n",
       "      <td>4</td>\n",
       "      <td>3667</td>\n",
       "      <td>1274</td>\n",
       "      <td>111.693958</td>\n",
       "      <td>628.62</td>\n",
       "      <td>1.17</td>\n",
       "    </tr>\n",
       "    <tr>\n",
       "      <th>42</th>\n",
       "      <td>zebra_v155_c1135.json</td>\n",
       "      <td>gurobi-warm</td>\n",
       "      <td>3</td>\n",
       "      <td>1160</td>\n",
       "      <td>282</td>\n",
       "      <td>67.451495</td>\n",
       "      <td>3.21</td>\n",
       "      <td>58.28</td>\n",
       "    </tr>\n",
       "    <tr>\n",
       "      <th>35</th>\n",
       "      <td>zebra_v155_c1135.json</td>\n",
       "      <td>gurobi-warm</td>\n",
       "      <td>2b</td>\n",
       "      <td>1160</td>\n",
       "      <td>276</td>\n",
       "      <td>85.371624</td>\n",
       "      <td>3.29</td>\n",
       "      <td>58.64</td>\n",
       "    </tr>\n",
       "    <tr>\n",
       "      <th>49</th>\n",
       "      <td>zebra_v155_c1135.json</td>\n",
       "      <td>gurobi-warm</td>\n",
       "      <td>4</td>\n",
       "      <td>1160</td>\n",
       "      <td>544</td>\n",
       "      <td>136.553974</td>\n",
       "      <td>3.17</td>\n",
       "      <td>32.03</td>\n",
       "    </tr>\n",
       "    <tr>\n",
       "      <th>41</th>\n",
       "      <td>par8-1-c.json</td>\n",
       "      <td>gurobi-warm</td>\n",
       "      <td>3</td>\n",
       "      <td>250</td>\n",
       "      <td>2</td>\n",
       "      <td>0.008474</td>\n",
       "      <td>1.00</td>\n",
       "      <td>56.00</td>\n",
       "    </tr>\n",
       "    <tr>\n",
       "      <th>48</th>\n",
       "      <td>par8-1-c.json</td>\n",
       "      <td>gurobi-warm</td>\n",
       "      <td>4</td>\n",
       "      <td>250</td>\n",
       "      <td>2</td>\n",
       "      <td>0.016155</td>\n",
       "      <td>1.00</td>\n",
       "      <td>56.00</td>\n",
       "    </tr>\n",
       "    <tr>\n",
       "      <th>46</th>\n",
       "      <td>dubois22.json</td>\n",
       "      <td>gurobi-warm</td>\n",
       "      <td>4</td>\n",
       "      <td>176</td>\n",
       "      <td>176</td>\n",
       "      <td>0.442118</td>\n",
       "      <td>88.00</td>\n",
       "      <td>1.00</td>\n",
       "    </tr>\n",
       "    <tr>\n",
       "      <th>39</th>\n",
       "      <td>dubois22.json</td>\n",
       "      <td>gurobi-warm</td>\n",
       "      <td>3</td>\n",
       "      <td>176</td>\n",
       "      <td>1312</td>\n",
       "      <td>8.805100</td>\n",
       "      <td>47.19</td>\n",
       "      <td>4.94</td>\n",
       "    </tr>\n",
       "    <tr>\n",
       "      <th>45</th>\n",
       "      <td>dubois21.json</td>\n",
       "      <td>gurobi-warm</td>\n",
       "      <td>4</td>\n",
       "      <td>168</td>\n",
       "      <td>168</td>\n",
       "      <td>0.401662</td>\n",
       "      <td>84.00</td>\n",
       "      <td>1.00</td>\n",
       "    </tr>\n",
       "    <tr>\n",
       "      <th>38</th>\n",
       "      <td>dubois21.json</td>\n",
       "      <td>gurobi-warm</td>\n",
       "      <td>3</td>\n",
       "      <td>168</td>\n",
       "      <td>717</td>\n",
       "      <td>4.296818</td>\n",
       "      <td>51.92</td>\n",
       "      <td>4.45</td>\n",
       "    </tr>\n",
       "    <tr>\n",
       "      <th>44</th>\n",
       "      <td>aim-100-1_6-no-1.json</td>\n",
       "      <td>gurobi-warm</td>\n",
       "      <td>4</td>\n",
       "      <td>160</td>\n",
       "      <td>47</td>\n",
       "      <td>0.093857</td>\n",
       "      <td>23.50</td>\n",
       "      <td>1.00</td>\n",
       "    </tr>\n",
       "    <tr>\n",
       "      <th>37</th>\n",
       "      <td>aim-100-1_6-no-1.json</td>\n",
       "      <td>gurobi-warm</td>\n",
       "      <td>3</td>\n",
       "      <td>160</td>\n",
       "      <td>111</td>\n",
       "      <td>0.861856</td>\n",
       "      <td>23.97</td>\n",
       "      <td>1.84</td>\n",
       "    </tr>\n",
       "    <tr>\n",
       "      <th>47</th>\n",
       "      <td>dubois20.json</td>\n",
       "      <td>gurobi-warm</td>\n",
       "      <td>4</td>\n",
       "      <td>160</td>\n",
       "      <td>160</td>\n",
       "      <td>0.368688</td>\n",
       "      <td>80.00</td>\n",
       "      <td>1.00</td>\n",
       "    </tr>\n",
       "    <tr>\n",
       "      <th>40</th>\n",
       "      <td>dubois20.json</td>\n",
       "      <td>gurobi-warm</td>\n",
       "      <td>3</td>\n",
       "      <td>160</td>\n",
       "      <td>638</td>\n",
       "      <td>2.974641</td>\n",
       "      <td>47.49</td>\n",
       "      <td>3.80</td>\n",
       "    </tr>\n",
       "    <tr>\n",
       "      <th>43</th>\n",
       "      <td>hole6.json</td>\n",
       "      <td>gurobi-warm</td>\n",
       "      <td>3</td>\n",
       "      <td>133</td>\n",
       "      <td>409</td>\n",
       "      <td>1.482723</td>\n",
       "      <td>49.75</td>\n",
       "      <td>2.18</td>\n",
       "    </tr>\n",
       "    <tr>\n",
       "      <th>51</th>\n",
       "      <td>hole6.json</td>\n",
       "      <td>gurobi-warm</td>\n",
       "      <td>4</td>\n",
       "      <td>133</td>\n",
       "      <td>133</td>\n",
       "      <td>1.633610</td>\n",
       "      <td>66.50</td>\n",
       "      <td>1.00</td>\n",
       "    </tr>\n",
       "  </tbody>\n",
       "</table>\n",
       "</div>"
      ],
      "text/plain": [
       "                        p       solver ext  clauses  steps  total time [s]  \\\n",
       "50        bf0432-007.json  gurobi-warm   4     3667   1274      111.693958   \n",
       "42  zebra_v155_c1135.json  gurobi-warm   3     1160    282       67.451495   \n",
       "35  zebra_v155_c1135.json  gurobi-warm  2b     1160    276       85.371624   \n",
       "49  zebra_v155_c1135.json  gurobi-warm   4     1160    544      136.553974   \n",
       "41          par8-1-c.json  gurobi-warm   3      250      2        0.008474   \n",
       "48          par8-1-c.json  gurobi-warm   4      250      2        0.016155   \n",
       "46          dubois22.json  gurobi-warm   4      176    176        0.442118   \n",
       "39          dubois22.json  gurobi-warm   3      176   1312        8.805100   \n",
       "45          dubois21.json  gurobi-warm   4      168    168        0.401662   \n",
       "38          dubois21.json  gurobi-warm   3      168    717        4.296818   \n",
       "44  aim-100-1_6-no-1.json  gurobi-warm   4      160     47        0.093857   \n",
       "37  aim-100-1_6-no-1.json  gurobi-warm   3      160    111        0.861856   \n",
       "47          dubois20.json  gurobi-warm   4      160    160        0.368688   \n",
       "40          dubois20.json  gurobi-warm   3      160    638        2.974641   \n",
       "43             hole6.json  gurobi-warm   3      133    409        1.482723   \n",
       "51             hole6.json  gurobi-warm   4      133    133        1.633610   \n",
       "\n",
       "    avg_s_hs  avg_s_grow  \n",
       "50    628.62        1.17  \n",
       "42      3.21       58.28  \n",
       "35      3.29       58.64  \n",
       "49      3.17       32.03  \n",
       "41      1.00       56.00  \n",
       "48      1.00       56.00  \n",
       "46     88.00        1.00  \n",
       "39     47.19        4.94  \n",
       "45     84.00        1.00  \n",
       "38     51.92        4.45  \n",
       "44     23.50        1.00  \n",
       "37     23.97        1.84  \n",
       "47     80.00        1.00  \n",
       "40     47.49        3.80  \n",
       "43     49.75        2.18  \n",
       "51     66.50        1.00  "
      ]
     },
     "execution_count": 22,
     "metadata": {},
     "output_type": "execute_result"
    }
   ],
   "source": [
    "# filter columns \n",
    "selected_columns = ['p','solver', 'ext', 'clauses', 'steps', 'total time [s]', 'avg_s_hs', 'avg_s_grow']\n",
    "\n",
    "# data filter\n",
    "df_warm_start = df[selected_columns]\n",
    "#print(df_warm_start)\n",
    "df_warm_start = df_warm_start[df_warm_start.solver == 'gurobi-warm']\n",
    "df_warm_start = df_warm_start[df_warm_start['ext'].isin(['3', '2b', '4'])]\n",
    "df_warm_start = df_warm_start.sort_values(\n",
    "    [\"clauses\", \"p\", \"total time [s]\"], \n",
    "    ascending = (False, True, True))\n",
    "\n",
    "df_warm_start"
   ]
  },
  {
   "cell_type": "code",
   "execution_count": 23,
   "metadata": {},
   "outputs": [],
   "source": [
    "zebra = df[df['p']== 'zebra_v155_c1135.json']\n",
    "zebra = zebra[zebra['ext'].isin(['3', '2b', '2c'])]\n",
    "zebra = zebra[zebra['solver']== 'gurobi-warm']"
   ]
  },
  {
   "cell_type": "code",
   "execution_count": 34,
   "metadata": {},
   "outputs": [
    {
     "data": {
      "application/vnd.plotly.v1+json": {
       "config": {
        "plotlyServerURL": "https://plot.ly"
       },
       "data": [
        {
         "mode": "lines",
         "name": "1160 clauses - size of hs ext3",
         "type": "scatter",
         "x": [
          0,
          1,
          2,
          3,
          4,
          5,
          6,
          7,
          8,
          9,
          10,
          11,
          12,
          13,
          14,
          15,
          16,
          17,
          18,
          19,
          20,
          21,
          22,
          23,
          24,
          25,
          26,
          27,
          28,
          29,
          30,
          31,
          32,
          33,
          34,
          35,
          36,
          37,
          38,
          39,
          40,
          41,
          42,
          43,
          44,
          45,
          46,
          47,
          48,
          49,
          50,
          51,
          52,
          53,
          54,
          55,
          56,
          57,
          58,
          59,
          60,
          61,
          62,
          63,
          64,
          65,
          66,
          67,
          68,
          69,
          70,
          71,
          72,
          73,
          74,
          75,
          76,
          77,
          78,
          79,
          80,
          81,
          82,
          83,
          84,
          85,
          86,
          87,
          88,
          89,
          90,
          91,
          92,
          93,
          94,
          95,
          96,
          97,
          98,
          99,
          100,
          101,
          102,
          103,
          104,
          105,
          106,
          107,
          108,
          109,
          110,
          111,
          112,
          113,
          114,
          115,
          116,
          117,
          118,
          119,
          120,
          121,
          122,
          123,
          124,
          125,
          126,
          127,
          128,
          129,
          130,
          131,
          132,
          133,
          134,
          135,
          136,
          137,
          138,
          139,
          140,
          141,
          142,
          143,
          144,
          145,
          146,
          147,
          148,
          149,
          150,
          151,
          152,
          153,
          154,
          155,
          156,
          157,
          158,
          159,
          160,
          161,
          162,
          163,
          164,
          165,
          166,
          167,
          168,
          169,
          170,
          171,
          172,
          173,
          174,
          175,
          176,
          177,
          178,
          179,
          180,
          181,
          182,
          183,
          184,
          185,
          186,
          187,
          188,
          189,
          190,
          191,
          192,
          193,
          194,
          195,
          196,
          197,
          198,
          199,
          200,
          201,
          202,
          203,
          204,
          205,
          206,
          207,
          208,
          209,
          210,
          211,
          212,
          213,
          214,
          215,
          216,
          217,
          218,
          219,
          220,
          221,
          222,
          223,
          224,
          225,
          226,
          227,
          228,
          229,
          230,
          231,
          232,
          233,
          234,
          235,
          236,
          237,
          238,
          239,
          240,
          241,
          242,
          243,
          244,
          245,
          246,
          247,
          248,
          249,
          250,
          251,
          252,
          253,
          254,
          255,
          256,
          257,
          258,
          259,
          260,
          261,
          262,
          263,
          264,
          265,
          266,
          267,
          268,
          269,
          270,
          271,
          272,
          273,
          274,
          275,
          276,
          277,
          278,
          279,
          280,
          281,
          282
         ],
         "y": [
          0,
          1,
          1,
          1,
          1,
          1,
          1,
          1,
          1,
          2,
          2,
          2,
          2,
          2,
          2,
          2,
          2,
          2,
          2,
          2,
          2,
          2,
          2,
          2,
          2,
          2,
          2,
          2,
          2,
          2,
          2,
          2,
          2,
          2,
          2,
          2,
          2,
          2,
          2,
          2,
          3,
          3,
          3,
          3,
          3,
          3,
          3,
          3,
          3,
          3,
          3,
          3,
          3,
          3,
          3,
          3,
          3,
          3,
          3,
          3,
          3,
          3,
          3,
          3,
          3,
          3,
          3,
          3,
          3,
          3,
          3,
          3,
          3,
          3,
          3,
          3,
          3,
          3,
          3,
          3,
          3,
          3,
          3,
          3,
          3,
          4,
          3,
          3,
          3,
          3,
          3,
          3,
          3,
          3,
          3,
          3,
          3,
          3,
          4,
          3,
          4,
          3,
          3,
          3,
          3,
          3,
          3,
          3,
          3,
          3,
          3,
          3,
          3,
          4,
          3,
          3,
          3,
          4,
          4,
          3,
          3,
          4,
          3,
          3,
          3,
          4,
          4,
          3,
          3,
          3,
          3,
          3,
          3,
          3,
          3,
          3,
          4,
          4,
          3,
          3,
          3,
          3,
          3,
          4,
          3,
          3,
          3,
          3,
          3,
          3,
          3,
          3,
          3,
          3,
          3,
          3,
          3,
          3,
          3,
          3,
          4,
          3,
          3,
          3,
          3,
          3,
          3,
          3,
          3,
          3,
          3,
          3,
          3,
          4,
          3,
          3,
          3,
          3,
          3,
          3,
          4,
          3,
          3,
          4,
          3,
          3,
          3,
          3,
          3,
          4,
          4,
          4,
          4,
          4,
          4,
          4,
          4,
          4,
          4,
          4,
          4,
          4,
          4,
          4,
          4,
          4,
          4,
          4,
          4,
          4,
          4,
          4,
          4,
          4,
          4,
          4,
          4,
          4,
          4,
          4,
          4,
          4,
          4,
          4,
          4,
          4,
          4,
          4,
          4,
          4,
          4,
          4,
          4,
          4,
          4,
          4,
          4,
          4,
          4,
          4,
          4,
          4,
          4,
          4,
          4,
          4,
          4,
          4,
          4,
          4,
          4,
          4,
          4,
          4,
          4,
          4,
          4,
          4,
          4,
          4,
          4,
          4,
          4,
          4,
          4,
          4,
          4,
          4,
          4,
          4,
          4,
          4,
          4,
          4,
          4,
          4,
          4,
          4,
          4,
          4,
          4,
          4,
          4
         ]
        },
        {
         "mode": "lines",
         "name": "1160 clauses - size of hs ext2b",
         "type": "scatter",
         "x": [
          0,
          1,
          2,
          3,
          4,
          5,
          6,
          7,
          8,
          9,
          10,
          11,
          12,
          13,
          14,
          15,
          16,
          17,
          18,
          19,
          20,
          21,
          22,
          23,
          24,
          25,
          26,
          27,
          28,
          29,
          30,
          31,
          32,
          33,
          34,
          35,
          36,
          37,
          38,
          39,
          40,
          41,
          42,
          43,
          44,
          45,
          46,
          47,
          48,
          49,
          50,
          51,
          52,
          53,
          54,
          55,
          56,
          57,
          58,
          59,
          60,
          61,
          62,
          63,
          64,
          65,
          66,
          67,
          68,
          69,
          70,
          71,
          72,
          73,
          74,
          75,
          76,
          77,
          78,
          79,
          80,
          81,
          82,
          83,
          84,
          85,
          86,
          87,
          88,
          89,
          90,
          91,
          92,
          93,
          94,
          95,
          96,
          97,
          98,
          99,
          100,
          101,
          102,
          103,
          104,
          105,
          106,
          107,
          108,
          109,
          110,
          111,
          112,
          113,
          114,
          115,
          116,
          117,
          118,
          119,
          120,
          121,
          122,
          123,
          124,
          125,
          126,
          127,
          128,
          129,
          130,
          131,
          132,
          133,
          134,
          135,
          136,
          137,
          138,
          139,
          140,
          141,
          142,
          143,
          144,
          145,
          146,
          147,
          148,
          149,
          150,
          151,
          152,
          153,
          154,
          155,
          156,
          157,
          158,
          159,
          160,
          161,
          162,
          163,
          164,
          165,
          166,
          167,
          168,
          169,
          170,
          171,
          172,
          173,
          174,
          175,
          176,
          177,
          178,
          179,
          180,
          181,
          182,
          183,
          184,
          185,
          186,
          187,
          188,
          189,
          190,
          191,
          192,
          193,
          194,
          195,
          196,
          197,
          198,
          199,
          200,
          201,
          202,
          203,
          204,
          205,
          206,
          207,
          208,
          209,
          210,
          211,
          212,
          213,
          214,
          215,
          216,
          217,
          218,
          219,
          220,
          221,
          222,
          223,
          224,
          225,
          226,
          227,
          228,
          229,
          230,
          231,
          232,
          233,
          234,
          235,
          236,
          237,
          238,
          239,
          240,
          241,
          242,
          243,
          244,
          245,
          246,
          247,
          248,
          249,
          250,
          251,
          252,
          253,
          254,
          255,
          256,
          257,
          258,
          259,
          260,
          261,
          262,
          263,
          264,
          265,
          266,
          267,
          268,
          269,
          270,
          271,
          272,
          273,
          274,
          275,
          276
         ],
         "y": [
          0,
          1,
          1,
          1,
          1,
          1,
          1,
          1,
          1,
          2,
          2,
          2,
          2,
          2,
          2,
          2,
          2,
          2,
          2,
          2,
          2,
          2,
          2,
          2,
          2,
          2,
          2,
          2,
          2,
          2,
          2,
          2,
          2,
          2,
          2,
          2,
          3,
          3,
          3,
          3,
          3,
          3,
          3,
          3,
          3,
          3,
          3,
          3,
          3,
          3,
          3,
          3,
          3,
          3,
          3,
          3,
          3,
          3,
          3,
          3,
          3,
          3,
          3,
          3,
          3,
          3,
          3,
          3,
          3,
          3,
          3,
          3,
          3,
          3,
          3,
          3,
          3,
          3,
          3,
          3,
          3,
          3,
          3,
          3,
          4,
          3,
          3,
          3,
          3,
          3,
          3,
          3,
          3,
          3,
          3,
          3,
          3,
          3,
          3,
          3,
          3,
          3,
          3,
          3,
          3,
          3,
          3,
          3,
          3,
          3,
          3,
          3,
          3,
          3,
          3,
          3,
          3,
          3,
          4,
          3,
          3,
          3,
          3,
          3,
          3,
          3,
          3,
          3,
          3,
          3,
          3,
          3,
          3,
          3,
          3,
          3,
          3,
          3,
          3,
          3,
          3,
          3,
          3,
          3,
          3,
          3,
          3,
          4,
          3,
          3,
          3,
          3,
          3,
          3,
          4,
          4,
          4,
          4,
          4,
          4,
          4,
          4,
          4,
          4,
          4,
          4,
          5,
          4,
          4,
          4,
          4,
          4,
          4,
          4,
          4,
          4,
          4,
          4,
          4,
          4,
          4,
          4,
          4,
          4,
          4,
          4,
          4,
          4,
          4,
          4,
          4,
          4,
          4,
          4,
          4,
          4,
          4,
          4,
          4,
          4,
          4,
          4,
          4,
          4,
          4,
          4,
          4,
          4,
          4,
          4,
          4,
          4,
          4,
          4,
          4,
          4,
          4,
          4,
          4,
          4,
          4,
          4,
          4,
          4,
          4,
          4,
          4,
          4,
          4,
          4,
          4,
          4,
          4,
          4,
          4,
          4,
          4,
          4,
          4,
          4,
          4,
          4,
          4,
          4,
          4,
          4,
          4,
          4,
          4,
          4,
          4,
          4,
          4,
          4,
          4,
          4,
          4,
          4,
          4,
          4,
          4,
          4,
          4,
          4,
          4,
          4,
          4,
          4,
          4,
          4,
          4,
          4,
          4,
          4,
          4,
          4,
          4
         ]
        }
       ],
       "layout": {
        "autosize": false,
        "template": {
         "data": {
          "bar": [
           {
            "error_x": {
             "color": "#2a3f5f"
            },
            "error_y": {
             "color": "#2a3f5f"
            },
            "marker": {
             "line": {
              "color": "#E5ECF6",
              "width": 0.5
             }
            },
            "type": "bar"
           }
          ],
          "barpolar": [
           {
            "marker": {
             "line": {
              "color": "#E5ECF6",
              "width": 0.5
             }
            },
            "type": "barpolar"
           }
          ],
          "carpet": [
           {
            "aaxis": {
             "endlinecolor": "#2a3f5f",
             "gridcolor": "white",
             "linecolor": "white",
             "minorgridcolor": "white",
             "startlinecolor": "#2a3f5f"
            },
            "baxis": {
             "endlinecolor": "#2a3f5f",
             "gridcolor": "white",
             "linecolor": "white",
             "minorgridcolor": "white",
             "startlinecolor": "#2a3f5f"
            },
            "type": "carpet"
           }
          ],
          "choropleth": [
           {
            "colorbar": {
             "outlinewidth": 0,
             "ticks": ""
            },
            "type": "choropleth"
           }
          ],
          "contour": [
           {
            "colorbar": {
             "outlinewidth": 0,
             "ticks": ""
            },
            "colorscale": [
             [
              0,
              "#0d0887"
             ],
             [
              0.1111111111111111,
              "#46039f"
             ],
             [
              0.2222222222222222,
              "#7201a8"
             ],
             [
              0.3333333333333333,
              "#9c179e"
             ],
             [
              0.4444444444444444,
              "#bd3786"
             ],
             [
              0.5555555555555556,
              "#d8576b"
             ],
             [
              0.6666666666666666,
              "#ed7953"
             ],
             [
              0.7777777777777778,
              "#fb9f3a"
             ],
             [
              0.8888888888888888,
              "#fdca26"
             ],
             [
              1,
              "#f0f921"
             ]
            ],
            "type": "contour"
           }
          ],
          "contourcarpet": [
           {
            "colorbar": {
             "outlinewidth": 0,
             "ticks": ""
            },
            "type": "contourcarpet"
           }
          ],
          "heatmap": [
           {
            "colorbar": {
             "outlinewidth": 0,
             "ticks": ""
            },
            "colorscale": [
             [
              0,
              "#0d0887"
             ],
             [
              0.1111111111111111,
              "#46039f"
             ],
             [
              0.2222222222222222,
              "#7201a8"
             ],
             [
              0.3333333333333333,
              "#9c179e"
             ],
             [
              0.4444444444444444,
              "#bd3786"
             ],
             [
              0.5555555555555556,
              "#d8576b"
             ],
             [
              0.6666666666666666,
              "#ed7953"
             ],
             [
              0.7777777777777778,
              "#fb9f3a"
             ],
             [
              0.8888888888888888,
              "#fdca26"
             ],
             [
              1,
              "#f0f921"
             ]
            ],
            "type": "heatmap"
           }
          ],
          "heatmapgl": [
           {
            "colorbar": {
             "outlinewidth": 0,
             "ticks": ""
            },
            "colorscale": [
             [
              0,
              "#0d0887"
             ],
             [
              0.1111111111111111,
              "#46039f"
             ],
             [
              0.2222222222222222,
              "#7201a8"
             ],
             [
              0.3333333333333333,
              "#9c179e"
             ],
             [
              0.4444444444444444,
              "#bd3786"
             ],
             [
              0.5555555555555556,
              "#d8576b"
             ],
             [
              0.6666666666666666,
              "#ed7953"
             ],
             [
              0.7777777777777778,
              "#fb9f3a"
             ],
             [
              0.8888888888888888,
              "#fdca26"
             ],
             [
              1,
              "#f0f921"
             ]
            ],
            "type": "heatmapgl"
           }
          ],
          "histogram": [
           {
            "marker": {
             "colorbar": {
              "outlinewidth": 0,
              "ticks": ""
             }
            },
            "type": "histogram"
           }
          ],
          "histogram2d": [
           {
            "colorbar": {
             "outlinewidth": 0,
             "ticks": ""
            },
            "colorscale": [
             [
              0,
              "#0d0887"
             ],
             [
              0.1111111111111111,
              "#46039f"
             ],
             [
              0.2222222222222222,
              "#7201a8"
             ],
             [
              0.3333333333333333,
              "#9c179e"
             ],
             [
              0.4444444444444444,
              "#bd3786"
             ],
             [
              0.5555555555555556,
              "#d8576b"
             ],
             [
              0.6666666666666666,
              "#ed7953"
             ],
             [
              0.7777777777777778,
              "#fb9f3a"
             ],
             [
              0.8888888888888888,
              "#fdca26"
             ],
             [
              1,
              "#f0f921"
             ]
            ],
            "type": "histogram2d"
           }
          ],
          "histogram2dcontour": [
           {
            "colorbar": {
             "outlinewidth": 0,
             "ticks": ""
            },
            "colorscale": [
             [
              0,
              "#0d0887"
             ],
             [
              0.1111111111111111,
              "#46039f"
             ],
             [
              0.2222222222222222,
              "#7201a8"
             ],
             [
              0.3333333333333333,
              "#9c179e"
             ],
             [
              0.4444444444444444,
              "#bd3786"
             ],
             [
              0.5555555555555556,
              "#d8576b"
             ],
             [
              0.6666666666666666,
              "#ed7953"
             ],
             [
              0.7777777777777778,
              "#fb9f3a"
             ],
             [
              0.8888888888888888,
              "#fdca26"
             ],
             [
              1,
              "#f0f921"
             ]
            ],
            "type": "histogram2dcontour"
           }
          ],
          "mesh3d": [
           {
            "colorbar": {
             "outlinewidth": 0,
             "ticks": ""
            },
            "type": "mesh3d"
           }
          ],
          "parcoords": [
           {
            "line": {
             "colorbar": {
              "outlinewidth": 0,
              "ticks": ""
             }
            },
            "type": "parcoords"
           }
          ],
          "pie": [
           {
            "automargin": true,
            "type": "pie"
           }
          ],
          "scatter": [
           {
            "marker": {
             "colorbar": {
              "outlinewidth": 0,
              "ticks": ""
             }
            },
            "type": "scatter"
           }
          ],
          "scatter3d": [
           {
            "line": {
             "colorbar": {
              "outlinewidth": 0,
              "ticks": ""
             }
            },
            "marker": {
             "colorbar": {
              "outlinewidth": 0,
              "ticks": ""
             }
            },
            "type": "scatter3d"
           }
          ],
          "scattercarpet": [
           {
            "marker": {
             "colorbar": {
              "outlinewidth": 0,
              "ticks": ""
             }
            },
            "type": "scattercarpet"
           }
          ],
          "scattergeo": [
           {
            "marker": {
             "colorbar": {
              "outlinewidth": 0,
              "ticks": ""
             }
            },
            "type": "scattergeo"
           }
          ],
          "scattergl": [
           {
            "marker": {
             "colorbar": {
              "outlinewidth": 0,
              "ticks": ""
             }
            },
            "type": "scattergl"
           }
          ],
          "scattermapbox": [
           {
            "marker": {
             "colorbar": {
              "outlinewidth": 0,
              "ticks": ""
             }
            },
            "type": "scattermapbox"
           }
          ],
          "scatterpolar": [
           {
            "marker": {
             "colorbar": {
              "outlinewidth": 0,
              "ticks": ""
             }
            },
            "type": "scatterpolar"
           }
          ],
          "scatterpolargl": [
           {
            "marker": {
             "colorbar": {
              "outlinewidth": 0,
              "ticks": ""
             }
            },
            "type": "scatterpolargl"
           }
          ],
          "scatterternary": [
           {
            "marker": {
             "colorbar": {
              "outlinewidth": 0,
              "ticks": ""
             }
            },
            "type": "scatterternary"
           }
          ],
          "surface": [
           {
            "colorbar": {
             "outlinewidth": 0,
             "ticks": ""
            },
            "colorscale": [
             [
              0,
              "#0d0887"
             ],
             [
              0.1111111111111111,
              "#46039f"
             ],
             [
              0.2222222222222222,
              "#7201a8"
             ],
             [
              0.3333333333333333,
              "#9c179e"
             ],
             [
              0.4444444444444444,
              "#bd3786"
             ],
             [
              0.5555555555555556,
              "#d8576b"
             ],
             [
              0.6666666666666666,
              "#ed7953"
             ],
             [
              0.7777777777777778,
              "#fb9f3a"
             ],
             [
              0.8888888888888888,
              "#fdca26"
             ],
             [
              1,
              "#f0f921"
             ]
            ],
            "type": "surface"
           }
          ],
          "table": [
           {
            "cells": {
             "fill": {
              "color": "#EBF0F8"
             },
             "line": {
              "color": "white"
             }
            },
            "header": {
             "fill": {
              "color": "#C8D4E3"
             },
             "line": {
              "color": "white"
             }
            },
            "type": "table"
           }
          ]
         },
         "layout": {
          "annotationdefaults": {
           "arrowcolor": "#2a3f5f",
           "arrowhead": 0,
           "arrowwidth": 1
          },
          "coloraxis": {
           "colorbar": {
            "outlinewidth": 0,
            "ticks": ""
           }
          },
          "colorscale": {
           "diverging": [
            [
             0,
             "#8e0152"
            ],
            [
             0.1,
             "#c51b7d"
            ],
            [
             0.2,
             "#de77ae"
            ],
            [
             0.3,
             "#f1b6da"
            ],
            [
             0.4,
             "#fde0ef"
            ],
            [
             0.5,
             "#f7f7f7"
            ],
            [
             0.6,
             "#e6f5d0"
            ],
            [
             0.7,
             "#b8e186"
            ],
            [
             0.8,
             "#7fbc41"
            ],
            [
             0.9,
             "#4d9221"
            ],
            [
             1,
             "#276419"
            ]
           ],
           "sequential": [
            [
             0,
             "#0d0887"
            ],
            [
             0.1111111111111111,
             "#46039f"
            ],
            [
             0.2222222222222222,
             "#7201a8"
            ],
            [
             0.3333333333333333,
             "#9c179e"
            ],
            [
             0.4444444444444444,
             "#bd3786"
            ],
            [
             0.5555555555555556,
             "#d8576b"
            ],
            [
             0.6666666666666666,
             "#ed7953"
            ],
            [
             0.7777777777777778,
             "#fb9f3a"
            ],
            [
             0.8888888888888888,
             "#fdca26"
            ],
            [
             1,
             "#f0f921"
            ]
           ],
           "sequentialminus": [
            [
             0,
             "#0d0887"
            ],
            [
             0.1111111111111111,
             "#46039f"
            ],
            [
             0.2222222222222222,
             "#7201a8"
            ],
            [
             0.3333333333333333,
             "#9c179e"
            ],
            [
             0.4444444444444444,
             "#bd3786"
            ],
            [
             0.5555555555555556,
             "#d8576b"
            ],
            [
             0.6666666666666666,
             "#ed7953"
            ],
            [
             0.7777777777777778,
             "#fb9f3a"
            ],
            [
             0.8888888888888888,
             "#fdca26"
            ],
            [
             1,
             "#f0f921"
            ]
           ]
          },
          "colorway": [
           "#636efa",
           "#EF553B",
           "#00cc96",
           "#ab63fa",
           "#FFA15A",
           "#19d3f3",
           "#FF6692",
           "#B6E880",
           "#FF97FF",
           "#FECB52"
          ],
          "font": {
           "color": "#2a3f5f"
          },
          "geo": {
           "bgcolor": "white",
           "lakecolor": "white",
           "landcolor": "#E5ECF6",
           "showlakes": true,
           "showland": true,
           "subunitcolor": "white"
          },
          "hoverlabel": {
           "align": "left"
          },
          "hovermode": "closest",
          "mapbox": {
           "style": "light"
          },
          "paper_bgcolor": "white",
          "plot_bgcolor": "#E5ECF6",
          "polar": {
           "angularaxis": {
            "gridcolor": "white",
            "linecolor": "white",
            "ticks": ""
           },
           "bgcolor": "#E5ECF6",
           "radialaxis": {
            "gridcolor": "white",
            "linecolor": "white",
            "ticks": ""
           }
          },
          "scene": {
           "xaxis": {
            "backgroundcolor": "#E5ECF6",
            "gridcolor": "white",
            "gridwidth": 2,
            "linecolor": "white",
            "showbackground": true,
            "ticks": "",
            "zerolinecolor": "white"
           },
           "yaxis": {
            "backgroundcolor": "#E5ECF6",
            "gridcolor": "white",
            "gridwidth": 2,
            "linecolor": "white",
            "showbackground": true,
            "ticks": "",
            "zerolinecolor": "white"
           },
           "zaxis": {
            "backgroundcolor": "#E5ECF6",
            "gridcolor": "white",
            "gridwidth": 2,
            "linecolor": "white",
            "showbackground": true,
            "ticks": "",
            "zerolinecolor": "white"
           }
          },
          "shapedefaults": {
           "line": {
            "color": "#2a3f5f"
           }
          },
          "ternary": {
           "aaxis": {
            "gridcolor": "white",
            "linecolor": "white",
            "ticks": ""
           },
           "baxis": {
            "gridcolor": "white",
            "linecolor": "white",
            "ticks": ""
           },
           "bgcolor": "#E5ECF6",
           "caxis": {
            "gridcolor": "white",
            "linecolor": "white",
            "ticks": ""
           }
          },
          "title": {
           "x": 0.05
          },
          "xaxis": {
           "automargin": true,
           "gridcolor": "white",
           "linecolor": "white",
           "ticks": "",
           "title": {
            "standoff": 15
           },
           "zerolinecolor": "white",
           "zerolinewidth": 2
          },
          "yaxis": {
           "automargin": true,
           "gridcolor": "white",
           "linecolor": "white",
           "ticks": "",
           "title": {
            "standoff": 15
           },
           "zerolinecolor": "white",
           "zerolinewidth": 2
          }
         }
        },
        "title": {
         "text": "1160 clauses - size of hs"
        },
        "width": 800,
        "xaxis": {
         "title": {
          "text": "step number"
         }
        },
        "yaxis": {
         "title": {
          "text": "size of hs"
         }
        }
       }
      },
      "text/html": [
       "<div>\n",
       "        \n",
       "        \n",
       "            <div id=\"bdcb7fcf-4301-481c-839b-ebfd2e84ce4a\" class=\"plotly-graph-div\" style=\"height:525px; width:800px;\"></div>\n",
       "            <script type=\"text/javascript\">\n",
       "                require([\"plotly\"], function(Plotly) {\n",
       "                    window.PLOTLYENV=window.PLOTLYENV || {};\n",
       "                    \n",
       "                if (document.getElementById(\"bdcb7fcf-4301-481c-839b-ebfd2e84ce4a\")) {\n",
       "                    Plotly.newPlot(\n",
       "                        'bdcb7fcf-4301-481c-839b-ebfd2e84ce4a',\n",
       "                        [{\"mode\": \"lines\", \"name\": \"1160 clauses - size of hs ext3\", \"type\": \"scatter\", \"x\": [0, 1, 2, 3, 4, 5, 6, 7, 8, 9, 10, 11, 12, 13, 14, 15, 16, 17, 18, 19, 20, 21, 22, 23, 24, 25, 26, 27, 28, 29, 30, 31, 32, 33, 34, 35, 36, 37, 38, 39, 40, 41, 42, 43, 44, 45, 46, 47, 48, 49, 50, 51, 52, 53, 54, 55, 56, 57, 58, 59, 60, 61, 62, 63, 64, 65, 66, 67, 68, 69, 70, 71, 72, 73, 74, 75, 76, 77, 78, 79, 80, 81, 82, 83, 84, 85, 86, 87, 88, 89, 90, 91, 92, 93, 94, 95, 96, 97, 98, 99, 100, 101, 102, 103, 104, 105, 106, 107, 108, 109, 110, 111, 112, 113, 114, 115, 116, 117, 118, 119, 120, 121, 122, 123, 124, 125, 126, 127, 128, 129, 130, 131, 132, 133, 134, 135, 136, 137, 138, 139, 140, 141, 142, 143, 144, 145, 146, 147, 148, 149, 150, 151, 152, 153, 154, 155, 156, 157, 158, 159, 160, 161, 162, 163, 164, 165, 166, 167, 168, 169, 170, 171, 172, 173, 174, 175, 176, 177, 178, 179, 180, 181, 182, 183, 184, 185, 186, 187, 188, 189, 190, 191, 192, 193, 194, 195, 196, 197, 198, 199, 200, 201, 202, 203, 204, 205, 206, 207, 208, 209, 210, 211, 212, 213, 214, 215, 216, 217, 218, 219, 220, 221, 222, 223, 224, 225, 226, 227, 228, 229, 230, 231, 232, 233, 234, 235, 236, 237, 238, 239, 240, 241, 242, 243, 244, 245, 246, 247, 248, 249, 250, 251, 252, 253, 254, 255, 256, 257, 258, 259, 260, 261, 262, 263, 264, 265, 266, 267, 268, 269, 270, 271, 272, 273, 274, 275, 276, 277, 278, 279, 280, 281, 282], \"y\": [0, 1, 1, 1, 1, 1, 1, 1, 1, 2, 2, 2, 2, 2, 2, 2, 2, 2, 2, 2, 2, 2, 2, 2, 2, 2, 2, 2, 2, 2, 2, 2, 2, 2, 2, 2, 2, 2, 2, 2, 3, 3, 3, 3, 3, 3, 3, 3, 3, 3, 3, 3, 3, 3, 3, 3, 3, 3, 3, 3, 3, 3, 3, 3, 3, 3, 3, 3, 3, 3, 3, 3, 3, 3, 3, 3, 3, 3, 3, 3, 3, 3, 3, 3, 3, 4, 3, 3, 3, 3, 3, 3, 3, 3, 3, 3, 3, 3, 4, 3, 4, 3, 3, 3, 3, 3, 3, 3, 3, 3, 3, 3, 3, 4, 3, 3, 3, 4, 4, 3, 3, 4, 3, 3, 3, 4, 4, 3, 3, 3, 3, 3, 3, 3, 3, 3, 4, 4, 3, 3, 3, 3, 3, 4, 3, 3, 3, 3, 3, 3, 3, 3, 3, 3, 3, 3, 3, 3, 3, 3, 4, 3, 3, 3, 3, 3, 3, 3, 3, 3, 3, 3, 3, 4, 3, 3, 3, 3, 3, 3, 4, 3, 3, 4, 3, 3, 3, 3, 3, 4, 4, 4, 4, 4, 4, 4, 4, 4, 4, 4, 4, 4, 4, 4, 4, 4, 4, 4, 4, 4, 4, 4, 4, 4, 4, 4, 4, 4, 4, 4, 4, 4, 4, 4, 4, 4, 4, 4, 4, 4, 4, 4, 4, 4, 4, 4, 4, 4, 4, 4, 4, 4, 4, 4, 4, 4, 4, 4, 4, 4, 4, 4, 4, 4, 4, 4, 4, 4, 4, 4, 4, 4, 4, 4, 4, 4, 4, 4, 4, 4, 4, 4, 4, 4, 4, 4, 4, 4, 4, 4, 4, 4, 4]}, {\"mode\": \"lines\", \"name\": \"1160 clauses - size of hs ext2b\", \"type\": \"scatter\", \"x\": [0, 1, 2, 3, 4, 5, 6, 7, 8, 9, 10, 11, 12, 13, 14, 15, 16, 17, 18, 19, 20, 21, 22, 23, 24, 25, 26, 27, 28, 29, 30, 31, 32, 33, 34, 35, 36, 37, 38, 39, 40, 41, 42, 43, 44, 45, 46, 47, 48, 49, 50, 51, 52, 53, 54, 55, 56, 57, 58, 59, 60, 61, 62, 63, 64, 65, 66, 67, 68, 69, 70, 71, 72, 73, 74, 75, 76, 77, 78, 79, 80, 81, 82, 83, 84, 85, 86, 87, 88, 89, 90, 91, 92, 93, 94, 95, 96, 97, 98, 99, 100, 101, 102, 103, 104, 105, 106, 107, 108, 109, 110, 111, 112, 113, 114, 115, 116, 117, 118, 119, 120, 121, 122, 123, 124, 125, 126, 127, 128, 129, 130, 131, 132, 133, 134, 135, 136, 137, 138, 139, 140, 141, 142, 143, 144, 145, 146, 147, 148, 149, 150, 151, 152, 153, 154, 155, 156, 157, 158, 159, 160, 161, 162, 163, 164, 165, 166, 167, 168, 169, 170, 171, 172, 173, 174, 175, 176, 177, 178, 179, 180, 181, 182, 183, 184, 185, 186, 187, 188, 189, 190, 191, 192, 193, 194, 195, 196, 197, 198, 199, 200, 201, 202, 203, 204, 205, 206, 207, 208, 209, 210, 211, 212, 213, 214, 215, 216, 217, 218, 219, 220, 221, 222, 223, 224, 225, 226, 227, 228, 229, 230, 231, 232, 233, 234, 235, 236, 237, 238, 239, 240, 241, 242, 243, 244, 245, 246, 247, 248, 249, 250, 251, 252, 253, 254, 255, 256, 257, 258, 259, 260, 261, 262, 263, 264, 265, 266, 267, 268, 269, 270, 271, 272, 273, 274, 275, 276], \"y\": [0, 1, 1, 1, 1, 1, 1, 1, 1, 2, 2, 2, 2, 2, 2, 2, 2, 2, 2, 2, 2, 2, 2, 2, 2, 2, 2, 2, 2, 2, 2, 2, 2, 2, 2, 2, 3, 3, 3, 3, 3, 3, 3, 3, 3, 3, 3, 3, 3, 3, 3, 3, 3, 3, 3, 3, 3, 3, 3, 3, 3, 3, 3, 3, 3, 3, 3, 3, 3, 3, 3, 3, 3, 3, 3, 3, 3, 3, 3, 3, 3, 3, 3, 3, 4, 3, 3, 3, 3, 3, 3, 3, 3, 3, 3, 3, 3, 3, 3, 3, 3, 3, 3, 3, 3, 3, 3, 3, 3, 3, 3, 3, 3, 3, 3, 3, 3, 3, 4, 3, 3, 3, 3, 3, 3, 3, 3, 3, 3, 3, 3, 3, 3, 3, 3, 3, 3, 3, 3, 3, 3, 3, 3, 3, 3, 3, 3, 4, 3, 3, 3, 3, 3, 3, 4, 4, 4, 4, 4, 4, 4, 4, 4, 4, 4, 4, 5, 4, 4, 4, 4, 4, 4, 4, 4, 4, 4, 4, 4, 4, 4, 4, 4, 4, 4, 4, 4, 4, 4, 4, 4, 4, 4, 4, 4, 4, 4, 4, 4, 4, 4, 4, 4, 4, 4, 4, 4, 4, 4, 4, 4, 4, 4, 4, 4, 4, 4, 4, 4, 4, 4, 4, 4, 4, 4, 4, 4, 4, 4, 4, 4, 4, 4, 4, 4, 4, 4, 4, 4, 4, 4, 4, 4, 4, 4, 4, 4, 4, 4, 4, 4, 4, 4, 4, 4, 4, 4, 4, 4, 4, 4, 4, 4, 4, 4, 4, 4, 4, 4, 4, 4, 4, 4, 4, 4, 4, 4]}],\n",
       "                        {\"autosize\": false, \"template\": {\"data\": {\"bar\": [{\"error_x\": {\"color\": \"#2a3f5f\"}, \"error_y\": {\"color\": \"#2a3f5f\"}, \"marker\": {\"line\": {\"color\": \"#E5ECF6\", \"width\": 0.5}}, \"type\": \"bar\"}], \"barpolar\": [{\"marker\": {\"line\": {\"color\": \"#E5ECF6\", \"width\": 0.5}}, \"type\": \"barpolar\"}], \"carpet\": [{\"aaxis\": {\"endlinecolor\": \"#2a3f5f\", \"gridcolor\": \"white\", \"linecolor\": \"white\", \"minorgridcolor\": \"white\", \"startlinecolor\": \"#2a3f5f\"}, \"baxis\": {\"endlinecolor\": \"#2a3f5f\", \"gridcolor\": \"white\", \"linecolor\": \"white\", \"minorgridcolor\": \"white\", \"startlinecolor\": \"#2a3f5f\"}, \"type\": \"carpet\"}], \"choropleth\": [{\"colorbar\": {\"outlinewidth\": 0, \"ticks\": \"\"}, \"type\": \"choropleth\"}], \"contour\": [{\"colorbar\": {\"outlinewidth\": 0, \"ticks\": \"\"}, \"colorscale\": [[0.0, \"#0d0887\"], [0.1111111111111111, \"#46039f\"], [0.2222222222222222, \"#7201a8\"], [0.3333333333333333, \"#9c179e\"], [0.4444444444444444, \"#bd3786\"], [0.5555555555555556, \"#d8576b\"], [0.6666666666666666, \"#ed7953\"], [0.7777777777777778, \"#fb9f3a\"], [0.8888888888888888, \"#fdca26\"], [1.0, \"#f0f921\"]], \"type\": \"contour\"}], \"contourcarpet\": [{\"colorbar\": {\"outlinewidth\": 0, \"ticks\": \"\"}, \"type\": \"contourcarpet\"}], \"heatmap\": [{\"colorbar\": {\"outlinewidth\": 0, \"ticks\": \"\"}, \"colorscale\": [[0.0, \"#0d0887\"], [0.1111111111111111, \"#46039f\"], [0.2222222222222222, \"#7201a8\"], [0.3333333333333333, \"#9c179e\"], [0.4444444444444444, \"#bd3786\"], [0.5555555555555556, \"#d8576b\"], [0.6666666666666666, \"#ed7953\"], [0.7777777777777778, \"#fb9f3a\"], [0.8888888888888888, \"#fdca26\"], [1.0, \"#f0f921\"]], \"type\": \"heatmap\"}], \"heatmapgl\": [{\"colorbar\": {\"outlinewidth\": 0, \"ticks\": \"\"}, \"colorscale\": [[0.0, \"#0d0887\"], [0.1111111111111111, \"#46039f\"], [0.2222222222222222, \"#7201a8\"], [0.3333333333333333, \"#9c179e\"], [0.4444444444444444, \"#bd3786\"], [0.5555555555555556, \"#d8576b\"], [0.6666666666666666, \"#ed7953\"], [0.7777777777777778, \"#fb9f3a\"], [0.8888888888888888, \"#fdca26\"], [1.0, \"#f0f921\"]], \"type\": \"heatmapgl\"}], \"histogram\": [{\"marker\": {\"colorbar\": {\"outlinewidth\": 0, \"ticks\": \"\"}}, \"type\": \"histogram\"}], \"histogram2d\": [{\"colorbar\": {\"outlinewidth\": 0, \"ticks\": \"\"}, \"colorscale\": [[0.0, \"#0d0887\"], [0.1111111111111111, \"#46039f\"], [0.2222222222222222, \"#7201a8\"], [0.3333333333333333, \"#9c179e\"], [0.4444444444444444, \"#bd3786\"], [0.5555555555555556, \"#d8576b\"], [0.6666666666666666, \"#ed7953\"], [0.7777777777777778, \"#fb9f3a\"], [0.8888888888888888, \"#fdca26\"], [1.0, \"#f0f921\"]], \"type\": \"histogram2d\"}], \"histogram2dcontour\": [{\"colorbar\": {\"outlinewidth\": 0, \"ticks\": \"\"}, \"colorscale\": [[0.0, \"#0d0887\"], [0.1111111111111111, \"#46039f\"], [0.2222222222222222, \"#7201a8\"], [0.3333333333333333, \"#9c179e\"], [0.4444444444444444, \"#bd3786\"], [0.5555555555555556, \"#d8576b\"], [0.6666666666666666, \"#ed7953\"], [0.7777777777777778, \"#fb9f3a\"], [0.8888888888888888, \"#fdca26\"], [1.0, \"#f0f921\"]], \"type\": \"histogram2dcontour\"}], \"mesh3d\": [{\"colorbar\": {\"outlinewidth\": 0, \"ticks\": \"\"}, \"type\": \"mesh3d\"}], \"parcoords\": [{\"line\": {\"colorbar\": {\"outlinewidth\": 0, \"ticks\": \"\"}}, \"type\": \"parcoords\"}], \"pie\": [{\"automargin\": true, \"type\": \"pie\"}], \"scatter\": [{\"marker\": {\"colorbar\": {\"outlinewidth\": 0, \"ticks\": \"\"}}, \"type\": \"scatter\"}], \"scatter3d\": [{\"line\": {\"colorbar\": {\"outlinewidth\": 0, \"ticks\": \"\"}}, \"marker\": {\"colorbar\": {\"outlinewidth\": 0, \"ticks\": \"\"}}, \"type\": \"scatter3d\"}], \"scattercarpet\": [{\"marker\": {\"colorbar\": {\"outlinewidth\": 0, \"ticks\": \"\"}}, \"type\": \"scattercarpet\"}], \"scattergeo\": [{\"marker\": {\"colorbar\": {\"outlinewidth\": 0, \"ticks\": \"\"}}, \"type\": \"scattergeo\"}], \"scattergl\": [{\"marker\": {\"colorbar\": {\"outlinewidth\": 0, \"ticks\": \"\"}}, \"type\": \"scattergl\"}], \"scattermapbox\": [{\"marker\": {\"colorbar\": {\"outlinewidth\": 0, \"ticks\": \"\"}}, \"type\": \"scattermapbox\"}], \"scatterpolar\": [{\"marker\": {\"colorbar\": {\"outlinewidth\": 0, \"ticks\": \"\"}}, \"type\": \"scatterpolar\"}], \"scatterpolargl\": [{\"marker\": {\"colorbar\": {\"outlinewidth\": 0, \"ticks\": \"\"}}, \"type\": \"scatterpolargl\"}], \"scatterternary\": [{\"marker\": {\"colorbar\": {\"outlinewidth\": 0, \"ticks\": \"\"}}, \"type\": \"scatterternary\"}], \"surface\": [{\"colorbar\": {\"outlinewidth\": 0, \"ticks\": \"\"}, \"colorscale\": [[0.0, \"#0d0887\"], [0.1111111111111111, \"#46039f\"], [0.2222222222222222, \"#7201a8\"], [0.3333333333333333, \"#9c179e\"], [0.4444444444444444, \"#bd3786\"], [0.5555555555555556, \"#d8576b\"], [0.6666666666666666, \"#ed7953\"], [0.7777777777777778, \"#fb9f3a\"], [0.8888888888888888, \"#fdca26\"], [1.0, \"#f0f921\"]], \"type\": \"surface\"}], \"table\": [{\"cells\": {\"fill\": {\"color\": \"#EBF0F8\"}, \"line\": {\"color\": \"white\"}}, \"header\": {\"fill\": {\"color\": \"#C8D4E3\"}, \"line\": {\"color\": \"white\"}}, \"type\": \"table\"}]}, \"layout\": {\"annotationdefaults\": {\"arrowcolor\": \"#2a3f5f\", \"arrowhead\": 0, \"arrowwidth\": 1}, \"coloraxis\": {\"colorbar\": {\"outlinewidth\": 0, \"ticks\": \"\"}}, \"colorscale\": {\"diverging\": [[0, \"#8e0152\"], [0.1, \"#c51b7d\"], [0.2, \"#de77ae\"], [0.3, \"#f1b6da\"], [0.4, \"#fde0ef\"], [0.5, \"#f7f7f7\"], [0.6, \"#e6f5d0\"], [0.7, \"#b8e186\"], [0.8, \"#7fbc41\"], [0.9, \"#4d9221\"], [1, \"#276419\"]], \"sequential\": [[0.0, \"#0d0887\"], [0.1111111111111111, \"#46039f\"], [0.2222222222222222, \"#7201a8\"], [0.3333333333333333, \"#9c179e\"], [0.4444444444444444, \"#bd3786\"], [0.5555555555555556, \"#d8576b\"], [0.6666666666666666, \"#ed7953\"], [0.7777777777777778, \"#fb9f3a\"], [0.8888888888888888, \"#fdca26\"], [1.0, \"#f0f921\"]], \"sequentialminus\": [[0.0, \"#0d0887\"], [0.1111111111111111, \"#46039f\"], [0.2222222222222222, \"#7201a8\"], [0.3333333333333333, \"#9c179e\"], [0.4444444444444444, \"#bd3786\"], [0.5555555555555556, \"#d8576b\"], [0.6666666666666666, \"#ed7953\"], [0.7777777777777778, \"#fb9f3a\"], [0.8888888888888888, \"#fdca26\"], [1.0, \"#f0f921\"]]}, \"colorway\": [\"#636efa\", \"#EF553B\", \"#00cc96\", \"#ab63fa\", \"#FFA15A\", \"#19d3f3\", \"#FF6692\", \"#B6E880\", \"#FF97FF\", \"#FECB52\"], \"font\": {\"color\": \"#2a3f5f\"}, \"geo\": {\"bgcolor\": \"white\", \"lakecolor\": \"white\", \"landcolor\": \"#E5ECF6\", \"showlakes\": true, \"showland\": true, \"subunitcolor\": \"white\"}, \"hoverlabel\": {\"align\": \"left\"}, \"hovermode\": \"closest\", \"mapbox\": {\"style\": \"light\"}, \"paper_bgcolor\": \"white\", \"plot_bgcolor\": \"#E5ECF6\", \"polar\": {\"angularaxis\": {\"gridcolor\": \"white\", \"linecolor\": \"white\", \"ticks\": \"\"}, \"bgcolor\": \"#E5ECF6\", \"radialaxis\": {\"gridcolor\": \"white\", \"linecolor\": \"white\", \"ticks\": \"\"}}, \"scene\": {\"xaxis\": {\"backgroundcolor\": \"#E5ECF6\", \"gridcolor\": \"white\", \"gridwidth\": 2, \"linecolor\": \"white\", \"showbackground\": true, \"ticks\": \"\", \"zerolinecolor\": \"white\"}, \"yaxis\": {\"backgroundcolor\": \"#E5ECF6\", \"gridcolor\": \"white\", \"gridwidth\": 2, \"linecolor\": \"white\", \"showbackground\": true, \"ticks\": \"\", \"zerolinecolor\": \"white\"}, \"zaxis\": {\"backgroundcolor\": \"#E5ECF6\", \"gridcolor\": \"white\", \"gridwidth\": 2, \"linecolor\": \"white\", \"showbackground\": true, \"ticks\": \"\", \"zerolinecolor\": \"white\"}}, \"shapedefaults\": {\"line\": {\"color\": \"#2a3f5f\"}}, \"ternary\": {\"aaxis\": {\"gridcolor\": \"white\", \"linecolor\": \"white\", \"ticks\": \"\"}, \"baxis\": {\"gridcolor\": \"white\", \"linecolor\": \"white\", \"ticks\": \"\"}, \"bgcolor\": \"#E5ECF6\", \"caxis\": {\"gridcolor\": \"white\", \"linecolor\": \"white\", \"ticks\": \"\"}}, \"title\": {\"x\": 0.05}, \"xaxis\": {\"automargin\": true, \"gridcolor\": \"white\", \"linecolor\": \"white\", \"ticks\": \"\", \"title\": {\"standoff\": 15}, \"zerolinecolor\": \"white\", \"zerolinewidth\": 2}, \"yaxis\": {\"automargin\": true, \"gridcolor\": \"white\", \"linecolor\": \"white\", \"ticks\": \"\", \"title\": {\"standoff\": 15}, \"zerolinecolor\": \"white\", \"zerolinewidth\": 2}}}, \"title\": {\"text\": \"1160 clauses - size of hs\"}, \"width\": 800, \"xaxis\": {\"title\": {\"text\": \"step number\"}}, \"yaxis\": {\"title\": {\"text\": \"size of hs\"}}},\n",
       "                        {\"responsive\": true}\n",
       "                    ).then(function(){\n",
       "                            \n",
       "var gd = document.getElementById('bdcb7fcf-4301-481c-839b-ebfd2e84ce4a');\n",
       "var x = new MutationObserver(function (mutations, observer) {{\n",
       "        var display = window.getComputedStyle(gd).display;\n",
       "        if (!display || display === 'none') {{\n",
       "            console.log([gd, 'removed!']);\n",
       "            Plotly.purge(gd);\n",
       "            observer.disconnect();\n",
       "        }}\n",
       "}});\n",
       "\n",
       "// Listen for the removal of the full notebook cells\n",
       "var notebookContainer = gd.closest('#notebook-container');\n",
       "if (notebookContainer) {{\n",
       "    x.observe(notebookContainer, {childList: true});\n",
       "}}\n",
       "\n",
       "// Listen for the clearing of the current output cell\n",
       "var outputEl = gd.closest('.output');\n",
       "if (outputEl) {{\n",
       "    x.observe(outputEl, {childList: true});\n",
       "}}\n",
       "\n",
       "                        })\n",
       "                };\n",
       "                });\n",
       "            </script>\n",
       "        </div>"
      ]
     },
     "metadata": {},
     "output_type": "display_data"
    }
   ],
   "source": [
    "fig = go.Figure()\n",
    "for ext in ['3', '2b']:\n",
    "    zebra_ext = zebra[zebra['ext']== ext]\n",
    "\n",
    "    x1 = [i for i in range(len(list(zebra_ext['s_hs'])[0]))]\n",
    "    y1 = list(zebra_ext['s_hs'])[0]\n",
    "    x2 = [i for i in range(len(list(zebra_ext['s_grow'])[0]))]\n",
    "    y2 = list(zebra_ext['s_grow'])[0]\n",
    "    fig.add_trace(go.Scatter(x=x1, y=y1, mode='lines',name=f\"{int(zebra_ext['clauses'])} clauses - size of hs ext{ext}\"))\n",
    "    #fig.add_trace(go.Scatter(x=x2, y=y2, mode='lines',name=f\"size of C ext{ext}\"))\n",
    "fig.update_layout(    \n",
    "    autosize=False,\n",
    "    width=800,\n",
    "    #height=50%,\n",
    "    title=f\"1160 clauses - size of hs\",\n",
    "                   xaxis_title='step number',\n",
    "                   yaxis_title=f'size of hs')\n",
    "fig.show()"
   ]
  },
  {
   "cell_type": "code",
   "execution_count": 40,
   "metadata": {},
   "outputs": [
    {
     "data": {
      "application/vnd.plotly.v1+json": {
       "config": {
        "plotlyServerURL": "https://plot.ly"
       },
       "data": [
        {
         "mode": "markers",
         "name": "1160 clauses - size of C ext3",
         "type": "scatter",
         "x": [
          0,
          1,
          2,
          3,
          4,
          5,
          6,
          7,
          8,
          9,
          10,
          11,
          12,
          13,
          14,
          15,
          16,
          17,
          18,
          19,
          20,
          21,
          22,
          23,
          24,
          25,
          26,
          27,
          28,
          29,
          30,
          31,
          32,
          33,
          34,
          35,
          36,
          37,
          38,
          39,
          40,
          41,
          42,
          43,
          44,
          45,
          46,
          47,
          48,
          49,
          50,
          51,
          52,
          53,
          54,
          55,
          56,
          57,
          58,
          59,
          60,
          61,
          62,
          63,
          64,
          65,
          66,
          67,
          68,
          69,
          70,
          71,
          72,
          73,
          74,
          75,
          76,
          77,
          78,
          79,
          80,
          81,
          82,
          83,
          84,
          85,
          86,
          87,
          88,
          89,
          90,
          91,
          92,
          93,
          94,
          95,
          96,
          97,
          98,
          99,
          100,
          101,
          102,
          103,
          104,
          105,
          106,
          107,
          108,
          109,
          110,
          111,
          112,
          113,
          114,
          115,
          116,
          117,
          118,
          119,
          120,
          121,
          122,
          123,
          124,
          125,
          126,
          127,
          128,
          129,
          130,
          131,
          132,
          133,
          134,
          135,
          136,
          137,
          138,
          139,
          140,
          141,
          142,
          143,
          144,
          145,
          146,
          147,
          148,
          149,
          150,
          151,
          152,
          153,
          154,
          155,
          156,
          157,
          158,
          159,
          160,
          161,
          162,
          163,
          164,
          165,
          166,
          167,
          168,
          169,
          170,
          171,
          172,
          173,
          174,
          175,
          176,
          177,
          178,
          179,
          180,
          181,
          182,
          183,
          184,
          185,
          186,
          187,
          188,
          189,
          190,
          191,
          192,
          193,
          194,
          195,
          196,
          197,
          198,
          199,
          200,
          201,
          202,
          203,
          204,
          205,
          206,
          207,
          208,
          209,
          210,
          211,
          212,
          213,
          214,
          215,
          216,
          217,
          218,
          219,
          220,
          221,
          222,
          223,
          224,
          225,
          226,
          227,
          228,
          229,
          230,
          231,
          232,
          233,
          234,
          235,
          236,
          237,
          238,
          239,
          240,
          241,
          242,
          243,
          244,
          245,
          246,
          247,
          248,
          249,
          250,
          251,
          252,
          253,
          254,
          255,
          256,
          257,
          258,
          259,
          260,
          261,
          262,
          263,
          264,
          265,
          266,
          267,
          268,
          269,
          270,
          271,
          272,
          273,
          274,
          275,
          276,
          277,
          278,
          279,
          280,
          281
         ],
         "y": [
          65,
          70,
          66,
          52,
          55,
          61,
          57,
          64,
          65,
          58,
          72,
          62,
          70,
          63,
          69,
          77,
          60,
          54,
          56,
          72,
          60,
          59,
          71,
          65,
          56,
          61,
          71,
          57,
          48,
          54,
          57,
          68,
          49,
          51,
          61,
          63,
          60,
          52,
          49,
          55,
          65,
          76,
          59,
          69,
          62,
          63,
          51,
          57,
          58,
          48,
          61,
          68,
          59,
          65,
          59,
          57,
          60,
          62,
          50,
          52,
          60,
          77,
          66,
          63,
          63,
          68,
          55,
          66,
          54,
          48,
          62,
          54,
          61,
          52,
          51,
          58,
          55,
          60,
          52,
          61,
          76,
          55,
          52,
          58,
          62,
          55,
          47,
          68,
          46,
          52,
          63,
          65,
          61,
          58,
          51,
          60,
          51,
          49,
          67,
          54,
          56,
          63,
          61,
          50,
          58,
          62,
          57,
          56,
          59,
          50,
          63,
          56,
          53,
          49,
          50,
          51,
          60,
          65,
          71,
          55,
          58,
          49,
          54,
          52,
          50,
          64,
          47,
          61,
          60,
          55,
          56,
          47,
          49,
          52,
          54,
          58,
          57,
          46,
          47,
          49,
          58,
          61,
          66,
          57,
          64,
          66,
          61,
          60,
          60,
          51,
          71,
          52,
          51,
          56,
          48,
          58,
          50,
          52,
          59,
          46,
          61,
          57,
          55,
          61,
          56,
          53,
          51,
          54,
          67,
          50,
          56,
          53,
          66,
          59,
          55,
          56,
          53,
          59,
          54,
          58,
          62,
          60,
          57,
          75,
          59,
          69,
          56,
          54,
          53,
          59,
          66,
          70,
          52,
          58,
          55,
          61,
          53,
          51,
          63,
          65,
          64,
          51,
          50,
          90,
          83,
          66,
          50,
          52,
          58,
          56,
          67,
          59,
          55,
          63,
          71,
          66,
          53,
          57,
          48,
          66,
          62,
          55,
          53,
          67,
          59,
          57,
          51,
          56,
          54,
          53,
          62,
          63,
          64,
          60,
          52,
          51,
          80,
          53,
          65,
          52,
          50,
          50,
          73,
          56,
          66,
          54,
          51,
          70,
          55,
          74,
          51,
          56,
          61,
          47,
          53,
          62,
          51,
          54,
          52,
          54,
          65,
          57,
          53,
          42,
          54,
          51,
          52,
          50,
          58,
          57,
          53,
          59,
          76,
          57,
          58,
          52,
          68,
          49,
          60,
          62,
          49,
          59
         ]
        }
       ],
       "layout": {
        "autosize": false,
        "template": {
         "data": {
          "bar": [
           {
            "error_x": {
             "color": "#2a3f5f"
            },
            "error_y": {
             "color": "#2a3f5f"
            },
            "marker": {
             "line": {
              "color": "#E5ECF6",
              "width": 0.5
             }
            },
            "type": "bar"
           }
          ],
          "barpolar": [
           {
            "marker": {
             "line": {
              "color": "#E5ECF6",
              "width": 0.5
             }
            },
            "type": "barpolar"
           }
          ],
          "carpet": [
           {
            "aaxis": {
             "endlinecolor": "#2a3f5f",
             "gridcolor": "white",
             "linecolor": "white",
             "minorgridcolor": "white",
             "startlinecolor": "#2a3f5f"
            },
            "baxis": {
             "endlinecolor": "#2a3f5f",
             "gridcolor": "white",
             "linecolor": "white",
             "minorgridcolor": "white",
             "startlinecolor": "#2a3f5f"
            },
            "type": "carpet"
           }
          ],
          "choropleth": [
           {
            "colorbar": {
             "outlinewidth": 0,
             "ticks": ""
            },
            "type": "choropleth"
           }
          ],
          "contour": [
           {
            "colorbar": {
             "outlinewidth": 0,
             "ticks": ""
            },
            "colorscale": [
             [
              0,
              "#0d0887"
             ],
             [
              0.1111111111111111,
              "#46039f"
             ],
             [
              0.2222222222222222,
              "#7201a8"
             ],
             [
              0.3333333333333333,
              "#9c179e"
             ],
             [
              0.4444444444444444,
              "#bd3786"
             ],
             [
              0.5555555555555556,
              "#d8576b"
             ],
             [
              0.6666666666666666,
              "#ed7953"
             ],
             [
              0.7777777777777778,
              "#fb9f3a"
             ],
             [
              0.8888888888888888,
              "#fdca26"
             ],
             [
              1,
              "#f0f921"
             ]
            ],
            "type": "contour"
           }
          ],
          "contourcarpet": [
           {
            "colorbar": {
             "outlinewidth": 0,
             "ticks": ""
            },
            "type": "contourcarpet"
           }
          ],
          "heatmap": [
           {
            "colorbar": {
             "outlinewidth": 0,
             "ticks": ""
            },
            "colorscale": [
             [
              0,
              "#0d0887"
             ],
             [
              0.1111111111111111,
              "#46039f"
             ],
             [
              0.2222222222222222,
              "#7201a8"
             ],
             [
              0.3333333333333333,
              "#9c179e"
             ],
             [
              0.4444444444444444,
              "#bd3786"
             ],
             [
              0.5555555555555556,
              "#d8576b"
             ],
             [
              0.6666666666666666,
              "#ed7953"
             ],
             [
              0.7777777777777778,
              "#fb9f3a"
             ],
             [
              0.8888888888888888,
              "#fdca26"
             ],
             [
              1,
              "#f0f921"
             ]
            ],
            "type": "heatmap"
           }
          ],
          "heatmapgl": [
           {
            "colorbar": {
             "outlinewidth": 0,
             "ticks": ""
            },
            "colorscale": [
             [
              0,
              "#0d0887"
             ],
             [
              0.1111111111111111,
              "#46039f"
             ],
             [
              0.2222222222222222,
              "#7201a8"
             ],
             [
              0.3333333333333333,
              "#9c179e"
             ],
             [
              0.4444444444444444,
              "#bd3786"
             ],
             [
              0.5555555555555556,
              "#d8576b"
             ],
             [
              0.6666666666666666,
              "#ed7953"
             ],
             [
              0.7777777777777778,
              "#fb9f3a"
             ],
             [
              0.8888888888888888,
              "#fdca26"
             ],
             [
              1,
              "#f0f921"
             ]
            ],
            "type": "heatmapgl"
           }
          ],
          "histogram": [
           {
            "marker": {
             "colorbar": {
              "outlinewidth": 0,
              "ticks": ""
             }
            },
            "type": "histogram"
           }
          ],
          "histogram2d": [
           {
            "colorbar": {
             "outlinewidth": 0,
             "ticks": ""
            },
            "colorscale": [
             [
              0,
              "#0d0887"
             ],
             [
              0.1111111111111111,
              "#46039f"
             ],
             [
              0.2222222222222222,
              "#7201a8"
             ],
             [
              0.3333333333333333,
              "#9c179e"
             ],
             [
              0.4444444444444444,
              "#bd3786"
             ],
             [
              0.5555555555555556,
              "#d8576b"
             ],
             [
              0.6666666666666666,
              "#ed7953"
             ],
             [
              0.7777777777777778,
              "#fb9f3a"
             ],
             [
              0.8888888888888888,
              "#fdca26"
             ],
             [
              1,
              "#f0f921"
             ]
            ],
            "type": "histogram2d"
           }
          ],
          "histogram2dcontour": [
           {
            "colorbar": {
             "outlinewidth": 0,
             "ticks": ""
            },
            "colorscale": [
             [
              0,
              "#0d0887"
             ],
             [
              0.1111111111111111,
              "#46039f"
             ],
             [
              0.2222222222222222,
              "#7201a8"
             ],
             [
              0.3333333333333333,
              "#9c179e"
             ],
             [
              0.4444444444444444,
              "#bd3786"
             ],
             [
              0.5555555555555556,
              "#d8576b"
             ],
             [
              0.6666666666666666,
              "#ed7953"
             ],
             [
              0.7777777777777778,
              "#fb9f3a"
             ],
             [
              0.8888888888888888,
              "#fdca26"
             ],
             [
              1,
              "#f0f921"
             ]
            ],
            "type": "histogram2dcontour"
           }
          ],
          "mesh3d": [
           {
            "colorbar": {
             "outlinewidth": 0,
             "ticks": ""
            },
            "type": "mesh3d"
           }
          ],
          "parcoords": [
           {
            "line": {
             "colorbar": {
              "outlinewidth": 0,
              "ticks": ""
             }
            },
            "type": "parcoords"
           }
          ],
          "pie": [
           {
            "automargin": true,
            "type": "pie"
           }
          ],
          "scatter": [
           {
            "marker": {
             "colorbar": {
              "outlinewidth": 0,
              "ticks": ""
             }
            },
            "type": "scatter"
           }
          ],
          "scatter3d": [
           {
            "line": {
             "colorbar": {
              "outlinewidth": 0,
              "ticks": ""
             }
            },
            "marker": {
             "colorbar": {
              "outlinewidth": 0,
              "ticks": ""
             }
            },
            "type": "scatter3d"
           }
          ],
          "scattercarpet": [
           {
            "marker": {
             "colorbar": {
              "outlinewidth": 0,
              "ticks": ""
             }
            },
            "type": "scattercarpet"
           }
          ],
          "scattergeo": [
           {
            "marker": {
             "colorbar": {
              "outlinewidth": 0,
              "ticks": ""
             }
            },
            "type": "scattergeo"
           }
          ],
          "scattergl": [
           {
            "marker": {
             "colorbar": {
              "outlinewidth": 0,
              "ticks": ""
             }
            },
            "type": "scattergl"
           }
          ],
          "scattermapbox": [
           {
            "marker": {
             "colorbar": {
              "outlinewidth": 0,
              "ticks": ""
             }
            },
            "type": "scattermapbox"
           }
          ],
          "scatterpolar": [
           {
            "marker": {
             "colorbar": {
              "outlinewidth": 0,
              "ticks": ""
             }
            },
            "type": "scatterpolar"
           }
          ],
          "scatterpolargl": [
           {
            "marker": {
             "colorbar": {
              "outlinewidth": 0,
              "ticks": ""
             }
            },
            "type": "scatterpolargl"
           }
          ],
          "scatterternary": [
           {
            "marker": {
             "colorbar": {
              "outlinewidth": 0,
              "ticks": ""
             }
            },
            "type": "scatterternary"
           }
          ],
          "surface": [
           {
            "colorbar": {
             "outlinewidth": 0,
             "ticks": ""
            },
            "colorscale": [
             [
              0,
              "#0d0887"
             ],
             [
              0.1111111111111111,
              "#46039f"
             ],
             [
              0.2222222222222222,
              "#7201a8"
             ],
             [
              0.3333333333333333,
              "#9c179e"
             ],
             [
              0.4444444444444444,
              "#bd3786"
             ],
             [
              0.5555555555555556,
              "#d8576b"
             ],
             [
              0.6666666666666666,
              "#ed7953"
             ],
             [
              0.7777777777777778,
              "#fb9f3a"
             ],
             [
              0.8888888888888888,
              "#fdca26"
             ],
             [
              1,
              "#f0f921"
             ]
            ],
            "type": "surface"
           }
          ],
          "table": [
           {
            "cells": {
             "fill": {
              "color": "#EBF0F8"
             },
             "line": {
              "color": "white"
             }
            },
            "header": {
             "fill": {
              "color": "#C8D4E3"
             },
             "line": {
              "color": "white"
             }
            },
            "type": "table"
           }
          ]
         },
         "layout": {
          "annotationdefaults": {
           "arrowcolor": "#2a3f5f",
           "arrowhead": 0,
           "arrowwidth": 1
          },
          "coloraxis": {
           "colorbar": {
            "outlinewidth": 0,
            "ticks": ""
           }
          },
          "colorscale": {
           "diverging": [
            [
             0,
             "#8e0152"
            ],
            [
             0.1,
             "#c51b7d"
            ],
            [
             0.2,
             "#de77ae"
            ],
            [
             0.3,
             "#f1b6da"
            ],
            [
             0.4,
             "#fde0ef"
            ],
            [
             0.5,
             "#f7f7f7"
            ],
            [
             0.6,
             "#e6f5d0"
            ],
            [
             0.7,
             "#b8e186"
            ],
            [
             0.8,
             "#7fbc41"
            ],
            [
             0.9,
             "#4d9221"
            ],
            [
             1,
             "#276419"
            ]
           ],
           "sequential": [
            [
             0,
             "#0d0887"
            ],
            [
             0.1111111111111111,
             "#46039f"
            ],
            [
             0.2222222222222222,
             "#7201a8"
            ],
            [
             0.3333333333333333,
             "#9c179e"
            ],
            [
             0.4444444444444444,
             "#bd3786"
            ],
            [
             0.5555555555555556,
             "#d8576b"
            ],
            [
             0.6666666666666666,
             "#ed7953"
            ],
            [
             0.7777777777777778,
             "#fb9f3a"
            ],
            [
             0.8888888888888888,
             "#fdca26"
            ],
            [
             1,
             "#f0f921"
            ]
           ],
           "sequentialminus": [
            [
             0,
             "#0d0887"
            ],
            [
             0.1111111111111111,
             "#46039f"
            ],
            [
             0.2222222222222222,
             "#7201a8"
            ],
            [
             0.3333333333333333,
             "#9c179e"
            ],
            [
             0.4444444444444444,
             "#bd3786"
            ],
            [
             0.5555555555555556,
             "#d8576b"
            ],
            [
             0.6666666666666666,
             "#ed7953"
            ],
            [
             0.7777777777777778,
             "#fb9f3a"
            ],
            [
             0.8888888888888888,
             "#fdca26"
            ],
            [
             1,
             "#f0f921"
            ]
           ]
          },
          "colorway": [
           "#636efa",
           "#EF553B",
           "#00cc96",
           "#ab63fa",
           "#FFA15A",
           "#19d3f3",
           "#FF6692",
           "#B6E880",
           "#FF97FF",
           "#FECB52"
          ],
          "font": {
           "color": "#2a3f5f"
          },
          "geo": {
           "bgcolor": "white",
           "lakecolor": "white",
           "landcolor": "#E5ECF6",
           "showlakes": true,
           "showland": true,
           "subunitcolor": "white"
          },
          "hoverlabel": {
           "align": "left"
          },
          "hovermode": "closest",
          "mapbox": {
           "style": "light"
          },
          "paper_bgcolor": "white",
          "plot_bgcolor": "#E5ECF6",
          "polar": {
           "angularaxis": {
            "gridcolor": "white",
            "linecolor": "white",
            "ticks": ""
           },
           "bgcolor": "#E5ECF6",
           "radialaxis": {
            "gridcolor": "white",
            "linecolor": "white",
            "ticks": ""
           }
          },
          "scene": {
           "xaxis": {
            "backgroundcolor": "#E5ECF6",
            "gridcolor": "white",
            "gridwidth": 2,
            "linecolor": "white",
            "showbackground": true,
            "ticks": "",
            "zerolinecolor": "white"
           },
           "yaxis": {
            "backgroundcolor": "#E5ECF6",
            "gridcolor": "white",
            "gridwidth": 2,
            "linecolor": "white",
            "showbackground": true,
            "ticks": "",
            "zerolinecolor": "white"
           },
           "zaxis": {
            "backgroundcolor": "#E5ECF6",
            "gridcolor": "white",
            "gridwidth": 2,
            "linecolor": "white",
            "showbackground": true,
            "ticks": "",
            "zerolinecolor": "white"
           }
          },
          "shapedefaults": {
           "line": {
            "color": "#2a3f5f"
           }
          },
          "ternary": {
           "aaxis": {
            "gridcolor": "white",
            "linecolor": "white",
            "ticks": ""
           },
           "baxis": {
            "gridcolor": "white",
            "linecolor": "white",
            "ticks": ""
           },
           "bgcolor": "#E5ECF6",
           "caxis": {
            "gridcolor": "white",
            "linecolor": "white",
            "ticks": ""
           }
          },
          "title": {
           "x": 0.05
          },
          "xaxis": {
           "automargin": true,
           "gridcolor": "white",
           "linecolor": "white",
           "ticks": "",
           "title": {
            "standoff": 15
           },
           "zerolinecolor": "white",
           "zerolinewidth": 2
          },
          "yaxis": {
           "automargin": true,
           "gridcolor": "white",
           "linecolor": "white",
           "ticks": "",
           "title": {
            "standoff": 15
           },
           "zerolinecolor": "white",
           "zerolinewidth": 2
          }
         }
        },
        "title": {
         "text": "1160 clauses - size of C ext3"
        },
        "width": 800,
        "xaxis": {
         "title": {
          "text": "step number"
         }
        },
        "yaxis": {
         "title": {
          "text": "size of C ext3"
         }
        }
       }
      },
      "text/html": [
       "<div>\n",
       "        \n",
       "        \n",
       "            <div id=\"27bb0496-a42c-46e1-91c4-92f96c0519b3\" class=\"plotly-graph-div\" style=\"height:525px; width:800px;\"></div>\n",
       "            <script type=\"text/javascript\">\n",
       "                require([\"plotly\"], function(Plotly) {\n",
       "                    window.PLOTLYENV=window.PLOTLYENV || {};\n",
       "                    \n",
       "                if (document.getElementById(\"27bb0496-a42c-46e1-91c4-92f96c0519b3\")) {\n",
       "                    Plotly.newPlot(\n",
       "                        '27bb0496-a42c-46e1-91c4-92f96c0519b3',\n",
       "                        [{\"mode\": \"markers\", \"name\": \"1160 clauses - size of C ext3\", \"type\": \"scatter\", \"x\": [0, 1, 2, 3, 4, 5, 6, 7, 8, 9, 10, 11, 12, 13, 14, 15, 16, 17, 18, 19, 20, 21, 22, 23, 24, 25, 26, 27, 28, 29, 30, 31, 32, 33, 34, 35, 36, 37, 38, 39, 40, 41, 42, 43, 44, 45, 46, 47, 48, 49, 50, 51, 52, 53, 54, 55, 56, 57, 58, 59, 60, 61, 62, 63, 64, 65, 66, 67, 68, 69, 70, 71, 72, 73, 74, 75, 76, 77, 78, 79, 80, 81, 82, 83, 84, 85, 86, 87, 88, 89, 90, 91, 92, 93, 94, 95, 96, 97, 98, 99, 100, 101, 102, 103, 104, 105, 106, 107, 108, 109, 110, 111, 112, 113, 114, 115, 116, 117, 118, 119, 120, 121, 122, 123, 124, 125, 126, 127, 128, 129, 130, 131, 132, 133, 134, 135, 136, 137, 138, 139, 140, 141, 142, 143, 144, 145, 146, 147, 148, 149, 150, 151, 152, 153, 154, 155, 156, 157, 158, 159, 160, 161, 162, 163, 164, 165, 166, 167, 168, 169, 170, 171, 172, 173, 174, 175, 176, 177, 178, 179, 180, 181, 182, 183, 184, 185, 186, 187, 188, 189, 190, 191, 192, 193, 194, 195, 196, 197, 198, 199, 200, 201, 202, 203, 204, 205, 206, 207, 208, 209, 210, 211, 212, 213, 214, 215, 216, 217, 218, 219, 220, 221, 222, 223, 224, 225, 226, 227, 228, 229, 230, 231, 232, 233, 234, 235, 236, 237, 238, 239, 240, 241, 242, 243, 244, 245, 246, 247, 248, 249, 250, 251, 252, 253, 254, 255, 256, 257, 258, 259, 260, 261, 262, 263, 264, 265, 266, 267, 268, 269, 270, 271, 272, 273, 274, 275, 276, 277, 278, 279, 280, 281], \"y\": [65, 70, 66, 52, 55, 61, 57, 64, 65, 58, 72, 62, 70, 63, 69, 77, 60, 54, 56, 72, 60, 59, 71, 65, 56, 61, 71, 57, 48, 54, 57, 68, 49, 51, 61, 63, 60, 52, 49, 55, 65, 76, 59, 69, 62, 63, 51, 57, 58, 48, 61, 68, 59, 65, 59, 57, 60, 62, 50, 52, 60, 77, 66, 63, 63, 68, 55, 66, 54, 48, 62, 54, 61, 52, 51, 58, 55, 60, 52, 61, 76, 55, 52, 58, 62, 55, 47, 68, 46, 52, 63, 65, 61, 58, 51, 60, 51, 49, 67, 54, 56, 63, 61, 50, 58, 62, 57, 56, 59, 50, 63, 56, 53, 49, 50, 51, 60, 65, 71, 55, 58, 49, 54, 52, 50, 64, 47, 61, 60, 55, 56, 47, 49, 52, 54, 58, 57, 46, 47, 49, 58, 61, 66, 57, 64, 66, 61, 60, 60, 51, 71, 52, 51, 56, 48, 58, 50, 52, 59, 46, 61, 57, 55, 61, 56, 53, 51, 54, 67, 50, 56, 53, 66, 59, 55, 56, 53, 59, 54, 58, 62, 60, 57, 75, 59, 69, 56, 54, 53, 59, 66, 70, 52, 58, 55, 61, 53, 51, 63, 65, 64, 51, 50, 90, 83, 66, 50, 52, 58, 56, 67, 59, 55, 63, 71, 66, 53, 57, 48, 66, 62, 55, 53, 67, 59, 57, 51, 56, 54, 53, 62, 63, 64, 60, 52, 51, 80, 53, 65, 52, 50, 50, 73, 56, 66, 54, 51, 70, 55, 74, 51, 56, 61, 47, 53, 62, 51, 54, 52, 54, 65, 57, 53, 42, 54, 51, 52, 50, 58, 57, 53, 59, 76, 57, 58, 52, 68, 49, 60, 62, 49, 59]}],\n",
       "                        {\"autosize\": false, \"template\": {\"data\": {\"bar\": [{\"error_x\": {\"color\": \"#2a3f5f\"}, \"error_y\": {\"color\": \"#2a3f5f\"}, \"marker\": {\"line\": {\"color\": \"#E5ECF6\", \"width\": 0.5}}, \"type\": \"bar\"}], \"barpolar\": [{\"marker\": {\"line\": {\"color\": \"#E5ECF6\", \"width\": 0.5}}, \"type\": \"barpolar\"}], \"carpet\": [{\"aaxis\": {\"endlinecolor\": \"#2a3f5f\", \"gridcolor\": \"white\", \"linecolor\": \"white\", \"minorgridcolor\": \"white\", \"startlinecolor\": \"#2a3f5f\"}, \"baxis\": {\"endlinecolor\": \"#2a3f5f\", \"gridcolor\": \"white\", \"linecolor\": \"white\", \"minorgridcolor\": \"white\", \"startlinecolor\": \"#2a3f5f\"}, \"type\": \"carpet\"}], \"choropleth\": [{\"colorbar\": {\"outlinewidth\": 0, \"ticks\": \"\"}, \"type\": \"choropleth\"}], \"contour\": [{\"colorbar\": {\"outlinewidth\": 0, \"ticks\": \"\"}, \"colorscale\": [[0.0, \"#0d0887\"], [0.1111111111111111, \"#46039f\"], [0.2222222222222222, \"#7201a8\"], [0.3333333333333333, \"#9c179e\"], [0.4444444444444444, \"#bd3786\"], [0.5555555555555556, \"#d8576b\"], [0.6666666666666666, \"#ed7953\"], [0.7777777777777778, \"#fb9f3a\"], [0.8888888888888888, \"#fdca26\"], [1.0, \"#f0f921\"]], \"type\": \"contour\"}], \"contourcarpet\": [{\"colorbar\": {\"outlinewidth\": 0, \"ticks\": \"\"}, \"type\": \"contourcarpet\"}], \"heatmap\": [{\"colorbar\": {\"outlinewidth\": 0, \"ticks\": \"\"}, \"colorscale\": [[0.0, \"#0d0887\"], [0.1111111111111111, \"#46039f\"], [0.2222222222222222, \"#7201a8\"], [0.3333333333333333, \"#9c179e\"], [0.4444444444444444, \"#bd3786\"], [0.5555555555555556, \"#d8576b\"], [0.6666666666666666, \"#ed7953\"], [0.7777777777777778, \"#fb9f3a\"], [0.8888888888888888, \"#fdca26\"], [1.0, \"#f0f921\"]], \"type\": \"heatmap\"}], \"heatmapgl\": [{\"colorbar\": {\"outlinewidth\": 0, \"ticks\": \"\"}, \"colorscale\": [[0.0, \"#0d0887\"], [0.1111111111111111, \"#46039f\"], [0.2222222222222222, \"#7201a8\"], [0.3333333333333333, \"#9c179e\"], [0.4444444444444444, \"#bd3786\"], [0.5555555555555556, \"#d8576b\"], [0.6666666666666666, \"#ed7953\"], [0.7777777777777778, \"#fb9f3a\"], [0.8888888888888888, \"#fdca26\"], [1.0, \"#f0f921\"]], \"type\": \"heatmapgl\"}], \"histogram\": [{\"marker\": {\"colorbar\": {\"outlinewidth\": 0, \"ticks\": \"\"}}, \"type\": \"histogram\"}], \"histogram2d\": [{\"colorbar\": {\"outlinewidth\": 0, \"ticks\": \"\"}, \"colorscale\": [[0.0, \"#0d0887\"], [0.1111111111111111, \"#46039f\"], [0.2222222222222222, \"#7201a8\"], [0.3333333333333333, \"#9c179e\"], [0.4444444444444444, \"#bd3786\"], [0.5555555555555556, \"#d8576b\"], [0.6666666666666666, \"#ed7953\"], [0.7777777777777778, \"#fb9f3a\"], [0.8888888888888888, \"#fdca26\"], [1.0, \"#f0f921\"]], \"type\": \"histogram2d\"}], \"histogram2dcontour\": [{\"colorbar\": {\"outlinewidth\": 0, \"ticks\": \"\"}, \"colorscale\": [[0.0, \"#0d0887\"], [0.1111111111111111, \"#46039f\"], [0.2222222222222222, \"#7201a8\"], [0.3333333333333333, \"#9c179e\"], [0.4444444444444444, \"#bd3786\"], [0.5555555555555556, \"#d8576b\"], [0.6666666666666666, \"#ed7953\"], [0.7777777777777778, \"#fb9f3a\"], [0.8888888888888888, \"#fdca26\"], [1.0, \"#f0f921\"]], \"type\": \"histogram2dcontour\"}], \"mesh3d\": [{\"colorbar\": {\"outlinewidth\": 0, \"ticks\": \"\"}, \"type\": \"mesh3d\"}], \"parcoords\": [{\"line\": {\"colorbar\": {\"outlinewidth\": 0, \"ticks\": \"\"}}, \"type\": \"parcoords\"}], \"pie\": [{\"automargin\": true, \"type\": \"pie\"}], \"scatter\": [{\"marker\": {\"colorbar\": {\"outlinewidth\": 0, \"ticks\": \"\"}}, \"type\": \"scatter\"}], \"scatter3d\": [{\"line\": {\"colorbar\": {\"outlinewidth\": 0, \"ticks\": \"\"}}, \"marker\": {\"colorbar\": {\"outlinewidth\": 0, \"ticks\": \"\"}}, \"type\": \"scatter3d\"}], \"scattercarpet\": [{\"marker\": {\"colorbar\": {\"outlinewidth\": 0, \"ticks\": \"\"}}, \"type\": \"scattercarpet\"}], \"scattergeo\": [{\"marker\": {\"colorbar\": {\"outlinewidth\": 0, \"ticks\": \"\"}}, \"type\": \"scattergeo\"}], \"scattergl\": [{\"marker\": {\"colorbar\": {\"outlinewidth\": 0, \"ticks\": \"\"}}, \"type\": \"scattergl\"}], \"scattermapbox\": [{\"marker\": {\"colorbar\": {\"outlinewidth\": 0, \"ticks\": \"\"}}, \"type\": \"scattermapbox\"}], \"scatterpolar\": [{\"marker\": {\"colorbar\": {\"outlinewidth\": 0, \"ticks\": \"\"}}, \"type\": \"scatterpolar\"}], \"scatterpolargl\": [{\"marker\": {\"colorbar\": {\"outlinewidth\": 0, \"ticks\": \"\"}}, \"type\": \"scatterpolargl\"}], \"scatterternary\": [{\"marker\": {\"colorbar\": {\"outlinewidth\": 0, \"ticks\": \"\"}}, \"type\": \"scatterternary\"}], \"surface\": [{\"colorbar\": {\"outlinewidth\": 0, \"ticks\": \"\"}, \"colorscale\": [[0.0, \"#0d0887\"], [0.1111111111111111, \"#46039f\"], [0.2222222222222222, \"#7201a8\"], [0.3333333333333333, \"#9c179e\"], [0.4444444444444444, \"#bd3786\"], [0.5555555555555556, \"#d8576b\"], [0.6666666666666666, \"#ed7953\"], [0.7777777777777778, \"#fb9f3a\"], [0.8888888888888888, \"#fdca26\"], [1.0, \"#f0f921\"]], \"type\": \"surface\"}], \"table\": [{\"cells\": {\"fill\": {\"color\": \"#EBF0F8\"}, \"line\": {\"color\": \"white\"}}, \"header\": {\"fill\": {\"color\": \"#C8D4E3\"}, \"line\": {\"color\": \"white\"}}, \"type\": \"table\"}]}, \"layout\": {\"annotationdefaults\": {\"arrowcolor\": \"#2a3f5f\", \"arrowhead\": 0, \"arrowwidth\": 1}, \"coloraxis\": {\"colorbar\": {\"outlinewidth\": 0, \"ticks\": \"\"}}, \"colorscale\": {\"diverging\": [[0, \"#8e0152\"], [0.1, \"#c51b7d\"], [0.2, \"#de77ae\"], [0.3, \"#f1b6da\"], [0.4, \"#fde0ef\"], [0.5, \"#f7f7f7\"], [0.6, \"#e6f5d0\"], [0.7, \"#b8e186\"], [0.8, \"#7fbc41\"], [0.9, \"#4d9221\"], [1, \"#276419\"]], \"sequential\": [[0.0, \"#0d0887\"], [0.1111111111111111, \"#46039f\"], [0.2222222222222222, \"#7201a8\"], [0.3333333333333333, \"#9c179e\"], [0.4444444444444444, \"#bd3786\"], [0.5555555555555556, \"#d8576b\"], [0.6666666666666666, \"#ed7953\"], [0.7777777777777778, \"#fb9f3a\"], [0.8888888888888888, \"#fdca26\"], [1.0, \"#f0f921\"]], \"sequentialminus\": [[0.0, \"#0d0887\"], [0.1111111111111111, \"#46039f\"], [0.2222222222222222, \"#7201a8\"], [0.3333333333333333, \"#9c179e\"], [0.4444444444444444, \"#bd3786\"], [0.5555555555555556, \"#d8576b\"], [0.6666666666666666, \"#ed7953\"], [0.7777777777777778, \"#fb9f3a\"], [0.8888888888888888, \"#fdca26\"], [1.0, \"#f0f921\"]]}, \"colorway\": [\"#636efa\", \"#EF553B\", \"#00cc96\", \"#ab63fa\", \"#FFA15A\", \"#19d3f3\", \"#FF6692\", \"#B6E880\", \"#FF97FF\", \"#FECB52\"], \"font\": {\"color\": \"#2a3f5f\"}, \"geo\": {\"bgcolor\": \"white\", \"lakecolor\": \"white\", \"landcolor\": \"#E5ECF6\", \"showlakes\": true, \"showland\": true, \"subunitcolor\": \"white\"}, \"hoverlabel\": {\"align\": \"left\"}, \"hovermode\": \"closest\", \"mapbox\": {\"style\": \"light\"}, \"paper_bgcolor\": \"white\", \"plot_bgcolor\": \"#E5ECF6\", \"polar\": {\"angularaxis\": {\"gridcolor\": \"white\", \"linecolor\": \"white\", \"ticks\": \"\"}, \"bgcolor\": \"#E5ECF6\", \"radialaxis\": {\"gridcolor\": \"white\", \"linecolor\": \"white\", \"ticks\": \"\"}}, \"scene\": {\"xaxis\": {\"backgroundcolor\": \"#E5ECF6\", \"gridcolor\": \"white\", \"gridwidth\": 2, \"linecolor\": \"white\", \"showbackground\": true, \"ticks\": \"\", \"zerolinecolor\": \"white\"}, \"yaxis\": {\"backgroundcolor\": \"#E5ECF6\", \"gridcolor\": \"white\", \"gridwidth\": 2, \"linecolor\": \"white\", \"showbackground\": true, \"ticks\": \"\", \"zerolinecolor\": \"white\"}, \"zaxis\": {\"backgroundcolor\": \"#E5ECF6\", \"gridcolor\": \"white\", \"gridwidth\": 2, \"linecolor\": \"white\", \"showbackground\": true, \"ticks\": \"\", \"zerolinecolor\": \"white\"}}, \"shapedefaults\": {\"line\": {\"color\": \"#2a3f5f\"}}, \"ternary\": {\"aaxis\": {\"gridcolor\": \"white\", \"linecolor\": \"white\", \"ticks\": \"\"}, \"baxis\": {\"gridcolor\": \"white\", \"linecolor\": \"white\", \"ticks\": \"\"}, \"bgcolor\": \"#E5ECF6\", \"caxis\": {\"gridcolor\": \"white\", \"linecolor\": \"white\", \"ticks\": \"\"}}, \"title\": {\"x\": 0.05}, \"xaxis\": {\"automargin\": true, \"gridcolor\": \"white\", \"linecolor\": \"white\", \"ticks\": \"\", \"title\": {\"standoff\": 15}, \"zerolinecolor\": \"white\", \"zerolinewidth\": 2}, \"yaxis\": {\"automargin\": true, \"gridcolor\": \"white\", \"linecolor\": \"white\", \"ticks\": \"\", \"title\": {\"standoff\": 15}, \"zerolinecolor\": \"white\", \"zerolinewidth\": 2}}}, \"title\": {\"text\": \"1160 clauses - size of C ext3\"}, \"width\": 800, \"xaxis\": {\"title\": {\"text\": \"step number\"}}, \"yaxis\": {\"title\": {\"text\": \"size of C ext3\"}}},\n",
       "                        {\"responsive\": true}\n",
       "                    ).then(function(){\n",
       "                            \n",
       "var gd = document.getElementById('27bb0496-a42c-46e1-91c4-92f96c0519b3');\n",
       "var x = new MutationObserver(function (mutations, observer) {{\n",
       "        var display = window.getComputedStyle(gd).display;\n",
       "        if (!display || display === 'none') {{\n",
       "            console.log([gd, 'removed!']);\n",
       "            Plotly.purge(gd);\n",
       "            observer.disconnect();\n",
       "        }}\n",
       "}});\n",
       "\n",
       "// Listen for the removal of the full notebook cells\n",
       "var notebookContainer = gd.closest('#notebook-container');\n",
       "if (notebookContainer) {{\n",
       "    x.observe(notebookContainer, {childList: true});\n",
       "}}\n",
       "\n",
       "// Listen for the clearing of the current output cell\n",
       "var outputEl = gd.closest('.output');\n",
       "if (outputEl) {{\n",
       "    x.observe(outputEl, {childList: true});\n",
       "}}\n",
       "\n",
       "                        })\n",
       "                };\n",
       "                });\n",
       "            </script>\n",
       "        </div>"
      ]
     },
     "metadata": {},
     "output_type": "display_data"
    }
   ],
   "source": [
    "\n",
    "for ext in ['3']:\n",
    "    zebra_ext = zebra[zebra['ext']== ext]\n",
    "\n",
    "    x1 = [i for i in range(len(list(zebra_ext['s_hs'])[0]))]\n",
    "    y1 = list(zebra_ext['s_hs'])[0]\n",
    "    x2 = [i for i in range(len(list(zebra_ext['s_grow'])[0]))]\n",
    "    y2 = list(zebra_ext['s_grow'])[0]\n",
    "    fig = go.Figure()\n",
    "    #fig.add_trace(go.Scatter(x=x1, y=y1, mode='lines',name=f\"size of hs ext{ext}\"))\n",
    "    fig.add_trace(go.Scatter(x=x2, y=y2, mode='markers',name=f\"{int(zebra_ext['clauses'])} clauses - size of C ext{ext}\"))\n",
    "    #fig.add_trace(go.Scatter(x=x2, y=, mode='markers',name=f\"{zebra_ext['clauses']} clauses - size of C ext{ext}\"))\n",
    "    # Edit the layout\n",
    "    fig.update_layout(\n",
    "    autosize=False,\n",
    "    width=800,\n",
    "        title=f\"{int(zebra_ext['clauses'])} clauses - size of C ext{ext}\",\n",
    "                       xaxis_title='step number',\n",
    "                       yaxis_title=f'size of C ext{ext}')\n",
    "    \n",
    "fig.show()"
   ]
  },
  {
   "cell_type": "code",
   "execution_count": 36,
   "metadata": {},
   "outputs": [
    {
     "data": {
      "application/vnd.plotly.v1+json": {
       "config": {
        "plotlyServerURL": "https://plot.ly"
       },
       "data": [
        {
         "mode": "markers",
         "name": "1160 clauses - size of C ext2b",
         "type": "scatter",
         "x": [
          0,
          1,
          2,
          3,
          4,
          5,
          6,
          7,
          8,
          9,
          10,
          11,
          12,
          13,
          14,
          15,
          16,
          17,
          18,
          19,
          20,
          21,
          22,
          23,
          24,
          25,
          26,
          27,
          28,
          29,
          30,
          31,
          32,
          33,
          34,
          35,
          36,
          37,
          38,
          39,
          40,
          41,
          42,
          43,
          44,
          45,
          46,
          47,
          48,
          49,
          50,
          51,
          52,
          53,
          54,
          55,
          56,
          57,
          58,
          59,
          60,
          61,
          62,
          63,
          64,
          65,
          66,
          67,
          68,
          69,
          70,
          71,
          72,
          73,
          74,
          75,
          76,
          77,
          78,
          79,
          80,
          81,
          82,
          83,
          84,
          85,
          86,
          87,
          88,
          89,
          90,
          91,
          92,
          93,
          94,
          95,
          96,
          97,
          98,
          99,
          100,
          101,
          102,
          103,
          104,
          105,
          106,
          107,
          108,
          109,
          110,
          111,
          112,
          113,
          114,
          115,
          116,
          117,
          118,
          119,
          120,
          121,
          122,
          123,
          124,
          125,
          126,
          127,
          128,
          129,
          130,
          131,
          132,
          133,
          134,
          135,
          136,
          137,
          138,
          139,
          140,
          141,
          142,
          143,
          144,
          145,
          146,
          147,
          148,
          149,
          150,
          151,
          152,
          153,
          154,
          155,
          156,
          157,
          158,
          159,
          160,
          161,
          162,
          163,
          164,
          165,
          166,
          167,
          168,
          169,
          170,
          171,
          172,
          173,
          174,
          175,
          176,
          177,
          178,
          179,
          180,
          181,
          182,
          183,
          184,
          185,
          186,
          187,
          188,
          189,
          190,
          191,
          192,
          193,
          194,
          195,
          196,
          197,
          198,
          199,
          200,
          201,
          202,
          203,
          204,
          205,
          206,
          207,
          208,
          209,
          210,
          211,
          212,
          213,
          214,
          215,
          216,
          217,
          218,
          219,
          220,
          221,
          222,
          223,
          224,
          225,
          226,
          227,
          228,
          229,
          230,
          231,
          232,
          233,
          234,
          235,
          236,
          237,
          238,
          239,
          240,
          241,
          242,
          243,
          244,
          245,
          246,
          247,
          248,
          249,
          250,
          251,
          252,
          253,
          254,
          255,
          256,
          257,
          258,
          259,
          260,
          261,
          262,
          263,
          264,
          265,
          266,
          267,
          268,
          269,
          270,
          271,
          272,
          273,
          274,
          275
         ],
         "y": [
          65,
          70,
          64,
          63,
          56,
          68,
          65,
          51,
          53,
          55,
          58,
          75,
          62,
          65,
          60,
          57,
          56,
          54,
          60,
          54,
          60,
          68,
          51,
          68,
          66,
          70,
          50,
          77,
          67,
          53,
          53,
          54,
          62,
          75,
          64,
          63,
          61,
          50,
          55,
          53,
          50,
          62,
          55,
          63,
          63,
          51,
          57,
          49,
          49,
          64,
          54,
          51,
          49,
          68,
          52,
          69,
          59,
          64,
          57,
          57,
          52,
          65,
          75,
          65,
          54,
          49,
          59,
          50,
          69,
          51,
          62,
          51,
          58,
          51,
          48,
          54,
          50,
          67,
          81,
          62,
          62,
          71,
          54,
          65,
          64,
          69,
          58,
          49,
          52,
          63,
          57,
          50,
          50,
          50,
          77,
          54,
          51,
          58,
          50,
          60,
          55,
          53,
          53,
          51,
          52,
          52,
          58,
          66,
          68,
          53,
          50,
          65,
          50,
          50,
          53,
          54,
          55,
          57,
          77,
          52,
          51,
          58,
          65,
          74,
          57,
          54,
          62,
          57,
          54,
          62,
          63,
          64,
          53,
          71,
          64,
          57,
          68,
          77,
          51,
          55,
          53,
          52,
          53,
          52,
          52,
          65,
          52,
          48,
          66,
          72,
          49,
          60,
          52,
          52,
          58,
          66,
          54,
          56,
          51,
          60,
          56,
          49,
          65,
          65,
          73,
          59,
          58,
          73,
          54,
          63,
          56,
          58,
          49,
          56,
          62,
          51,
          65,
          68,
          49,
          54,
          58,
          57,
          54,
          75,
          55,
          63,
          56,
          56,
          56,
          73,
          50,
          57,
          49,
          63,
          50,
          63,
          49,
          50,
          82,
          71,
          57,
          63,
          52,
          73,
          57,
          50,
          50,
          63,
          49,
          73,
          53,
          57,
          57,
          57,
          52,
          65,
          52,
          52,
          79,
          49,
          52,
          49,
          59,
          58,
          48,
          74,
          59,
          52,
          73,
          55,
          60,
          55,
          54,
          53,
          52,
          49,
          68,
          73,
          56,
          54,
          67,
          53,
          53,
          55,
          71,
          63,
          61,
          56,
          59,
          48,
          51,
          62,
          50,
          49,
          76,
          63,
          75,
          59,
          52,
          58,
          55,
          49,
          52,
          50,
          70,
          63,
          79,
          68,
          60,
          55,
          52,
          50,
          81,
          52,
          50,
          59
         ]
        }
       ],
       "layout": {
        "autosize": false,
        "template": {
         "data": {
          "bar": [
           {
            "error_x": {
             "color": "#2a3f5f"
            },
            "error_y": {
             "color": "#2a3f5f"
            },
            "marker": {
             "line": {
              "color": "#E5ECF6",
              "width": 0.5
             }
            },
            "type": "bar"
           }
          ],
          "barpolar": [
           {
            "marker": {
             "line": {
              "color": "#E5ECF6",
              "width": 0.5
             }
            },
            "type": "barpolar"
           }
          ],
          "carpet": [
           {
            "aaxis": {
             "endlinecolor": "#2a3f5f",
             "gridcolor": "white",
             "linecolor": "white",
             "minorgridcolor": "white",
             "startlinecolor": "#2a3f5f"
            },
            "baxis": {
             "endlinecolor": "#2a3f5f",
             "gridcolor": "white",
             "linecolor": "white",
             "minorgridcolor": "white",
             "startlinecolor": "#2a3f5f"
            },
            "type": "carpet"
           }
          ],
          "choropleth": [
           {
            "colorbar": {
             "outlinewidth": 0,
             "ticks": ""
            },
            "type": "choropleth"
           }
          ],
          "contour": [
           {
            "colorbar": {
             "outlinewidth": 0,
             "ticks": ""
            },
            "colorscale": [
             [
              0,
              "#0d0887"
             ],
             [
              0.1111111111111111,
              "#46039f"
             ],
             [
              0.2222222222222222,
              "#7201a8"
             ],
             [
              0.3333333333333333,
              "#9c179e"
             ],
             [
              0.4444444444444444,
              "#bd3786"
             ],
             [
              0.5555555555555556,
              "#d8576b"
             ],
             [
              0.6666666666666666,
              "#ed7953"
             ],
             [
              0.7777777777777778,
              "#fb9f3a"
             ],
             [
              0.8888888888888888,
              "#fdca26"
             ],
             [
              1,
              "#f0f921"
             ]
            ],
            "type": "contour"
           }
          ],
          "contourcarpet": [
           {
            "colorbar": {
             "outlinewidth": 0,
             "ticks": ""
            },
            "type": "contourcarpet"
           }
          ],
          "heatmap": [
           {
            "colorbar": {
             "outlinewidth": 0,
             "ticks": ""
            },
            "colorscale": [
             [
              0,
              "#0d0887"
             ],
             [
              0.1111111111111111,
              "#46039f"
             ],
             [
              0.2222222222222222,
              "#7201a8"
             ],
             [
              0.3333333333333333,
              "#9c179e"
             ],
             [
              0.4444444444444444,
              "#bd3786"
             ],
             [
              0.5555555555555556,
              "#d8576b"
             ],
             [
              0.6666666666666666,
              "#ed7953"
             ],
             [
              0.7777777777777778,
              "#fb9f3a"
             ],
             [
              0.8888888888888888,
              "#fdca26"
             ],
             [
              1,
              "#f0f921"
             ]
            ],
            "type": "heatmap"
           }
          ],
          "heatmapgl": [
           {
            "colorbar": {
             "outlinewidth": 0,
             "ticks": ""
            },
            "colorscale": [
             [
              0,
              "#0d0887"
             ],
             [
              0.1111111111111111,
              "#46039f"
             ],
             [
              0.2222222222222222,
              "#7201a8"
             ],
             [
              0.3333333333333333,
              "#9c179e"
             ],
             [
              0.4444444444444444,
              "#bd3786"
             ],
             [
              0.5555555555555556,
              "#d8576b"
             ],
             [
              0.6666666666666666,
              "#ed7953"
             ],
             [
              0.7777777777777778,
              "#fb9f3a"
             ],
             [
              0.8888888888888888,
              "#fdca26"
             ],
             [
              1,
              "#f0f921"
             ]
            ],
            "type": "heatmapgl"
           }
          ],
          "histogram": [
           {
            "marker": {
             "colorbar": {
              "outlinewidth": 0,
              "ticks": ""
             }
            },
            "type": "histogram"
           }
          ],
          "histogram2d": [
           {
            "colorbar": {
             "outlinewidth": 0,
             "ticks": ""
            },
            "colorscale": [
             [
              0,
              "#0d0887"
             ],
             [
              0.1111111111111111,
              "#46039f"
             ],
             [
              0.2222222222222222,
              "#7201a8"
             ],
             [
              0.3333333333333333,
              "#9c179e"
             ],
             [
              0.4444444444444444,
              "#bd3786"
             ],
             [
              0.5555555555555556,
              "#d8576b"
             ],
             [
              0.6666666666666666,
              "#ed7953"
             ],
             [
              0.7777777777777778,
              "#fb9f3a"
             ],
             [
              0.8888888888888888,
              "#fdca26"
             ],
             [
              1,
              "#f0f921"
             ]
            ],
            "type": "histogram2d"
           }
          ],
          "histogram2dcontour": [
           {
            "colorbar": {
             "outlinewidth": 0,
             "ticks": ""
            },
            "colorscale": [
             [
              0,
              "#0d0887"
             ],
             [
              0.1111111111111111,
              "#46039f"
             ],
             [
              0.2222222222222222,
              "#7201a8"
             ],
             [
              0.3333333333333333,
              "#9c179e"
             ],
             [
              0.4444444444444444,
              "#bd3786"
             ],
             [
              0.5555555555555556,
              "#d8576b"
             ],
             [
              0.6666666666666666,
              "#ed7953"
             ],
             [
              0.7777777777777778,
              "#fb9f3a"
             ],
             [
              0.8888888888888888,
              "#fdca26"
             ],
             [
              1,
              "#f0f921"
             ]
            ],
            "type": "histogram2dcontour"
           }
          ],
          "mesh3d": [
           {
            "colorbar": {
             "outlinewidth": 0,
             "ticks": ""
            },
            "type": "mesh3d"
           }
          ],
          "parcoords": [
           {
            "line": {
             "colorbar": {
              "outlinewidth": 0,
              "ticks": ""
             }
            },
            "type": "parcoords"
           }
          ],
          "pie": [
           {
            "automargin": true,
            "type": "pie"
           }
          ],
          "scatter": [
           {
            "marker": {
             "colorbar": {
              "outlinewidth": 0,
              "ticks": ""
             }
            },
            "type": "scatter"
           }
          ],
          "scatter3d": [
           {
            "line": {
             "colorbar": {
              "outlinewidth": 0,
              "ticks": ""
             }
            },
            "marker": {
             "colorbar": {
              "outlinewidth": 0,
              "ticks": ""
             }
            },
            "type": "scatter3d"
           }
          ],
          "scattercarpet": [
           {
            "marker": {
             "colorbar": {
              "outlinewidth": 0,
              "ticks": ""
             }
            },
            "type": "scattercarpet"
           }
          ],
          "scattergeo": [
           {
            "marker": {
             "colorbar": {
              "outlinewidth": 0,
              "ticks": ""
             }
            },
            "type": "scattergeo"
           }
          ],
          "scattergl": [
           {
            "marker": {
             "colorbar": {
              "outlinewidth": 0,
              "ticks": ""
             }
            },
            "type": "scattergl"
           }
          ],
          "scattermapbox": [
           {
            "marker": {
             "colorbar": {
              "outlinewidth": 0,
              "ticks": ""
             }
            },
            "type": "scattermapbox"
           }
          ],
          "scatterpolar": [
           {
            "marker": {
             "colorbar": {
              "outlinewidth": 0,
              "ticks": ""
             }
            },
            "type": "scatterpolar"
           }
          ],
          "scatterpolargl": [
           {
            "marker": {
             "colorbar": {
              "outlinewidth": 0,
              "ticks": ""
             }
            },
            "type": "scatterpolargl"
           }
          ],
          "scatterternary": [
           {
            "marker": {
             "colorbar": {
              "outlinewidth": 0,
              "ticks": ""
             }
            },
            "type": "scatterternary"
           }
          ],
          "surface": [
           {
            "colorbar": {
             "outlinewidth": 0,
             "ticks": ""
            },
            "colorscale": [
             [
              0,
              "#0d0887"
             ],
             [
              0.1111111111111111,
              "#46039f"
             ],
             [
              0.2222222222222222,
              "#7201a8"
             ],
             [
              0.3333333333333333,
              "#9c179e"
             ],
             [
              0.4444444444444444,
              "#bd3786"
             ],
             [
              0.5555555555555556,
              "#d8576b"
             ],
             [
              0.6666666666666666,
              "#ed7953"
             ],
             [
              0.7777777777777778,
              "#fb9f3a"
             ],
             [
              0.8888888888888888,
              "#fdca26"
             ],
             [
              1,
              "#f0f921"
             ]
            ],
            "type": "surface"
           }
          ],
          "table": [
           {
            "cells": {
             "fill": {
              "color": "#EBF0F8"
             },
             "line": {
              "color": "white"
             }
            },
            "header": {
             "fill": {
              "color": "#C8D4E3"
             },
             "line": {
              "color": "white"
             }
            },
            "type": "table"
           }
          ]
         },
         "layout": {
          "annotationdefaults": {
           "arrowcolor": "#2a3f5f",
           "arrowhead": 0,
           "arrowwidth": 1
          },
          "coloraxis": {
           "colorbar": {
            "outlinewidth": 0,
            "ticks": ""
           }
          },
          "colorscale": {
           "diverging": [
            [
             0,
             "#8e0152"
            ],
            [
             0.1,
             "#c51b7d"
            ],
            [
             0.2,
             "#de77ae"
            ],
            [
             0.3,
             "#f1b6da"
            ],
            [
             0.4,
             "#fde0ef"
            ],
            [
             0.5,
             "#f7f7f7"
            ],
            [
             0.6,
             "#e6f5d0"
            ],
            [
             0.7,
             "#b8e186"
            ],
            [
             0.8,
             "#7fbc41"
            ],
            [
             0.9,
             "#4d9221"
            ],
            [
             1,
             "#276419"
            ]
           ],
           "sequential": [
            [
             0,
             "#0d0887"
            ],
            [
             0.1111111111111111,
             "#46039f"
            ],
            [
             0.2222222222222222,
             "#7201a8"
            ],
            [
             0.3333333333333333,
             "#9c179e"
            ],
            [
             0.4444444444444444,
             "#bd3786"
            ],
            [
             0.5555555555555556,
             "#d8576b"
            ],
            [
             0.6666666666666666,
             "#ed7953"
            ],
            [
             0.7777777777777778,
             "#fb9f3a"
            ],
            [
             0.8888888888888888,
             "#fdca26"
            ],
            [
             1,
             "#f0f921"
            ]
           ],
           "sequentialminus": [
            [
             0,
             "#0d0887"
            ],
            [
             0.1111111111111111,
             "#46039f"
            ],
            [
             0.2222222222222222,
             "#7201a8"
            ],
            [
             0.3333333333333333,
             "#9c179e"
            ],
            [
             0.4444444444444444,
             "#bd3786"
            ],
            [
             0.5555555555555556,
             "#d8576b"
            ],
            [
             0.6666666666666666,
             "#ed7953"
            ],
            [
             0.7777777777777778,
             "#fb9f3a"
            ],
            [
             0.8888888888888888,
             "#fdca26"
            ],
            [
             1,
             "#f0f921"
            ]
           ]
          },
          "colorway": [
           "#636efa",
           "#EF553B",
           "#00cc96",
           "#ab63fa",
           "#FFA15A",
           "#19d3f3",
           "#FF6692",
           "#B6E880",
           "#FF97FF",
           "#FECB52"
          ],
          "font": {
           "color": "#2a3f5f"
          },
          "geo": {
           "bgcolor": "white",
           "lakecolor": "white",
           "landcolor": "#E5ECF6",
           "showlakes": true,
           "showland": true,
           "subunitcolor": "white"
          },
          "hoverlabel": {
           "align": "left"
          },
          "hovermode": "closest",
          "mapbox": {
           "style": "light"
          },
          "paper_bgcolor": "white",
          "plot_bgcolor": "#E5ECF6",
          "polar": {
           "angularaxis": {
            "gridcolor": "white",
            "linecolor": "white",
            "ticks": ""
           },
           "bgcolor": "#E5ECF6",
           "radialaxis": {
            "gridcolor": "white",
            "linecolor": "white",
            "ticks": ""
           }
          },
          "scene": {
           "xaxis": {
            "backgroundcolor": "#E5ECF6",
            "gridcolor": "white",
            "gridwidth": 2,
            "linecolor": "white",
            "showbackground": true,
            "ticks": "",
            "zerolinecolor": "white"
           },
           "yaxis": {
            "backgroundcolor": "#E5ECF6",
            "gridcolor": "white",
            "gridwidth": 2,
            "linecolor": "white",
            "showbackground": true,
            "ticks": "",
            "zerolinecolor": "white"
           },
           "zaxis": {
            "backgroundcolor": "#E5ECF6",
            "gridcolor": "white",
            "gridwidth": 2,
            "linecolor": "white",
            "showbackground": true,
            "ticks": "",
            "zerolinecolor": "white"
           }
          },
          "shapedefaults": {
           "line": {
            "color": "#2a3f5f"
           }
          },
          "ternary": {
           "aaxis": {
            "gridcolor": "white",
            "linecolor": "white",
            "ticks": ""
           },
           "baxis": {
            "gridcolor": "white",
            "linecolor": "white",
            "ticks": ""
           },
           "bgcolor": "#E5ECF6",
           "caxis": {
            "gridcolor": "white",
            "linecolor": "white",
            "ticks": ""
           }
          },
          "title": {
           "x": 0.05
          },
          "xaxis": {
           "automargin": true,
           "gridcolor": "white",
           "linecolor": "white",
           "ticks": "",
           "title": {
            "standoff": 15
           },
           "zerolinecolor": "white",
           "zerolinewidth": 2
          },
          "yaxis": {
           "automargin": true,
           "gridcolor": "white",
           "linecolor": "white",
           "ticks": "",
           "title": {
            "standoff": 15
           },
           "zerolinecolor": "white",
           "zerolinewidth": 2
          }
         }
        },
        "title": {
         "text": "1160 clauses - size of C ext2b"
        },
        "width": 800,
        "xaxis": {
         "title": {
          "text": "step number"
         }
        },
        "yaxis": {
         "title": {
          "text": "size of C ext2b"
         }
        }
       }
      },
      "text/html": [
       "<div>\n",
       "        \n",
       "        \n",
       "            <div id=\"4916c7f9-a966-44da-910a-80485a3348ed\" class=\"plotly-graph-div\" style=\"height:525px; width:800px;\"></div>\n",
       "            <script type=\"text/javascript\">\n",
       "                require([\"plotly\"], function(Plotly) {\n",
       "                    window.PLOTLYENV=window.PLOTLYENV || {};\n",
       "                    \n",
       "                if (document.getElementById(\"4916c7f9-a966-44da-910a-80485a3348ed\")) {\n",
       "                    Plotly.newPlot(\n",
       "                        '4916c7f9-a966-44da-910a-80485a3348ed',\n",
       "                        [{\"mode\": \"markers\", \"name\": \"1160 clauses - size of C ext2b\", \"type\": \"scatter\", \"x\": [0, 1, 2, 3, 4, 5, 6, 7, 8, 9, 10, 11, 12, 13, 14, 15, 16, 17, 18, 19, 20, 21, 22, 23, 24, 25, 26, 27, 28, 29, 30, 31, 32, 33, 34, 35, 36, 37, 38, 39, 40, 41, 42, 43, 44, 45, 46, 47, 48, 49, 50, 51, 52, 53, 54, 55, 56, 57, 58, 59, 60, 61, 62, 63, 64, 65, 66, 67, 68, 69, 70, 71, 72, 73, 74, 75, 76, 77, 78, 79, 80, 81, 82, 83, 84, 85, 86, 87, 88, 89, 90, 91, 92, 93, 94, 95, 96, 97, 98, 99, 100, 101, 102, 103, 104, 105, 106, 107, 108, 109, 110, 111, 112, 113, 114, 115, 116, 117, 118, 119, 120, 121, 122, 123, 124, 125, 126, 127, 128, 129, 130, 131, 132, 133, 134, 135, 136, 137, 138, 139, 140, 141, 142, 143, 144, 145, 146, 147, 148, 149, 150, 151, 152, 153, 154, 155, 156, 157, 158, 159, 160, 161, 162, 163, 164, 165, 166, 167, 168, 169, 170, 171, 172, 173, 174, 175, 176, 177, 178, 179, 180, 181, 182, 183, 184, 185, 186, 187, 188, 189, 190, 191, 192, 193, 194, 195, 196, 197, 198, 199, 200, 201, 202, 203, 204, 205, 206, 207, 208, 209, 210, 211, 212, 213, 214, 215, 216, 217, 218, 219, 220, 221, 222, 223, 224, 225, 226, 227, 228, 229, 230, 231, 232, 233, 234, 235, 236, 237, 238, 239, 240, 241, 242, 243, 244, 245, 246, 247, 248, 249, 250, 251, 252, 253, 254, 255, 256, 257, 258, 259, 260, 261, 262, 263, 264, 265, 266, 267, 268, 269, 270, 271, 272, 273, 274, 275], \"y\": [65, 70, 64, 63, 56, 68, 65, 51, 53, 55, 58, 75, 62, 65, 60, 57, 56, 54, 60, 54, 60, 68, 51, 68, 66, 70, 50, 77, 67, 53, 53, 54, 62, 75, 64, 63, 61, 50, 55, 53, 50, 62, 55, 63, 63, 51, 57, 49, 49, 64, 54, 51, 49, 68, 52, 69, 59, 64, 57, 57, 52, 65, 75, 65, 54, 49, 59, 50, 69, 51, 62, 51, 58, 51, 48, 54, 50, 67, 81, 62, 62, 71, 54, 65, 64, 69, 58, 49, 52, 63, 57, 50, 50, 50, 77, 54, 51, 58, 50, 60, 55, 53, 53, 51, 52, 52, 58, 66, 68, 53, 50, 65, 50, 50, 53, 54, 55, 57, 77, 52, 51, 58, 65, 74, 57, 54, 62, 57, 54, 62, 63, 64, 53, 71, 64, 57, 68, 77, 51, 55, 53, 52, 53, 52, 52, 65, 52, 48, 66, 72, 49, 60, 52, 52, 58, 66, 54, 56, 51, 60, 56, 49, 65, 65, 73, 59, 58, 73, 54, 63, 56, 58, 49, 56, 62, 51, 65, 68, 49, 54, 58, 57, 54, 75, 55, 63, 56, 56, 56, 73, 50, 57, 49, 63, 50, 63, 49, 50, 82, 71, 57, 63, 52, 73, 57, 50, 50, 63, 49, 73, 53, 57, 57, 57, 52, 65, 52, 52, 79, 49, 52, 49, 59, 58, 48, 74, 59, 52, 73, 55, 60, 55, 54, 53, 52, 49, 68, 73, 56, 54, 67, 53, 53, 55, 71, 63, 61, 56, 59, 48, 51, 62, 50, 49, 76, 63, 75, 59, 52, 58, 55, 49, 52, 50, 70, 63, 79, 68, 60, 55, 52, 50, 81, 52, 50, 59]}],\n",
       "                        {\"autosize\": false, \"template\": {\"data\": {\"bar\": [{\"error_x\": {\"color\": \"#2a3f5f\"}, \"error_y\": {\"color\": \"#2a3f5f\"}, \"marker\": {\"line\": {\"color\": \"#E5ECF6\", \"width\": 0.5}}, \"type\": \"bar\"}], \"barpolar\": [{\"marker\": {\"line\": {\"color\": \"#E5ECF6\", \"width\": 0.5}}, \"type\": \"barpolar\"}], \"carpet\": [{\"aaxis\": {\"endlinecolor\": \"#2a3f5f\", \"gridcolor\": \"white\", \"linecolor\": \"white\", \"minorgridcolor\": \"white\", \"startlinecolor\": \"#2a3f5f\"}, \"baxis\": {\"endlinecolor\": \"#2a3f5f\", \"gridcolor\": \"white\", \"linecolor\": \"white\", \"minorgridcolor\": \"white\", \"startlinecolor\": \"#2a3f5f\"}, \"type\": \"carpet\"}], \"choropleth\": [{\"colorbar\": {\"outlinewidth\": 0, \"ticks\": \"\"}, \"type\": \"choropleth\"}], \"contour\": [{\"colorbar\": {\"outlinewidth\": 0, \"ticks\": \"\"}, \"colorscale\": [[0.0, \"#0d0887\"], [0.1111111111111111, \"#46039f\"], [0.2222222222222222, \"#7201a8\"], [0.3333333333333333, \"#9c179e\"], [0.4444444444444444, \"#bd3786\"], [0.5555555555555556, \"#d8576b\"], [0.6666666666666666, \"#ed7953\"], [0.7777777777777778, \"#fb9f3a\"], [0.8888888888888888, \"#fdca26\"], [1.0, \"#f0f921\"]], \"type\": \"contour\"}], \"contourcarpet\": [{\"colorbar\": {\"outlinewidth\": 0, \"ticks\": \"\"}, \"type\": \"contourcarpet\"}], \"heatmap\": [{\"colorbar\": {\"outlinewidth\": 0, \"ticks\": \"\"}, \"colorscale\": [[0.0, \"#0d0887\"], [0.1111111111111111, \"#46039f\"], [0.2222222222222222, \"#7201a8\"], [0.3333333333333333, \"#9c179e\"], [0.4444444444444444, \"#bd3786\"], [0.5555555555555556, \"#d8576b\"], [0.6666666666666666, \"#ed7953\"], [0.7777777777777778, \"#fb9f3a\"], [0.8888888888888888, \"#fdca26\"], [1.0, \"#f0f921\"]], \"type\": \"heatmap\"}], \"heatmapgl\": [{\"colorbar\": {\"outlinewidth\": 0, \"ticks\": \"\"}, \"colorscale\": [[0.0, \"#0d0887\"], [0.1111111111111111, \"#46039f\"], [0.2222222222222222, \"#7201a8\"], [0.3333333333333333, \"#9c179e\"], [0.4444444444444444, \"#bd3786\"], [0.5555555555555556, \"#d8576b\"], [0.6666666666666666, \"#ed7953\"], [0.7777777777777778, \"#fb9f3a\"], [0.8888888888888888, \"#fdca26\"], [1.0, \"#f0f921\"]], \"type\": \"heatmapgl\"}], \"histogram\": [{\"marker\": {\"colorbar\": {\"outlinewidth\": 0, \"ticks\": \"\"}}, \"type\": \"histogram\"}], \"histogram2d\": [{\"colorbar\": {\"outlinewidth\": 0, \"ticks\": \"\"}, \"colorscale\": [[0.0, \"#0d0887\"], [0.1111111111111111, \"#46039f\"], [0.2222222222222222, \"#7201a8\"], [0.3333333333333333, \"#9c179e\"], [0.4444444444444444, \"#bd3786\"], [0.5555555555555556, \"#d8576b\"], [0.6666666666666666, \"#ed7953\"], [0.7777777777777778, \"#fb9f3a\"], [0.8888888888888888, \"#fdca26\"], [1.0, \"#f0f921\"]], \"type\": \"histogram2d\"}], \"histogram2dcontour\": [{\"colorbar\": {\"outlinewidth\": 0, \"ticks\": \"\"}, \"colorscale\": [[0.0, \"#0d0887\"], [0.1111111111111111, \"#46039f\"], [0.2222222222222222, \"#7201a8\"], [0.3333333333333333, \"#9c179e\"], [0.4444444444444444, \"#bd3786\"], [0.5555555555555556, \"#d8576b\"], [0.6666666666666666, \"#ed7953\"], [0.7777777777777778, \"#fb9f3a\"], [0.8888888888888888, \"#fdca26\"], [1.0, \"#f0f921\"]], \"type\": \"histogram2dcontour\"}], \"mesh3d\": [{\"colorbar\": {\"outlinewidth\": 0, \"ticks\": \"\"}, \"type\": \"mesh3d\"}], \"parcoords\": [{\"line\": {\"colorbar\": {\"outlinewidth\": 0, \"ticks\": \"\"}}, \"type\": \"parcoords\"}], \"pie\": [{\"automargin\": true, \"type\": \"pie\"}], \"scatter\": [{\"marker\": {\"colorbar\": {\"outlinewidth\": 0, \"ticks\": \"\"}}, \"type\": \"scatter\"}], \"scatter3d\": [{\"line\": {\"colorbar\": {\"outlinewidth\": 0, \"ticks\": \"\"}}, \"marker\": {\"colorbar\": {\"outlinewidth\": 0, \"ticks\": \"\"}}, \"type\": \"scatter3d\"}], \"scattercarpet\": [{\"marker\": {\"colorbar\": {\"outlinewidth\": 0, \"ticks\": \"\"}}, \"type\": \"scattercarpet\"}], \"scattergeo\": [{\"marker\": {\"colorbar\": {\"outlinewidth\": 0, \"ticks\": \"\"}}, \"type\": \"scattergeo\"}], \"scattergl\": [{\"marker\": {\"colorbar\": {\"outlinewidth\": 0, \"ticks\": \"\"}}, \"type\": \"scattergl\"}], \"scattermapbox\": [{\"marker\": {\"colorbar\": {\"outlinewidth\": 0, \"ticks\": \"\"}}, \"type\": \"scattermapbox\"}], \"scatterpolar\": [{\"marker\": {\"colorbar\": {\"outlinewidth\": 0, \"ticks\": \"\"}}, \"type\": \"scatterpolar\"}], \"scatterpolargl\": [{\"marker\": {\"colorbar\": {\"outlinewidth\": 0, \"ticks\": \"\"}}, \"type\": \"scatterpolargl\"}], \"scatterternary\": [{\"marker\": {\"colorbar\": {\"outlinewidth\": 0, \"ticks\": \"\"}}, \"type\": \"scatterternary\"}], \"surface\": [{\"colorbar\": {\"outlinewidth\": 0, \"ticks\": \"\"}, \"colorscale\": [[0.0, \"#0d0887\"], [0.1111111111111111, \"#46039f\"], [0.2222222222222222, \"#7201a8\"], [0.3333333333333333, \"#9c179e\"], [0.4444444444444444, \"#bd3786\"], [0.5555555555555556, \"#d8576b\"], [0.6666666666666666, \"#ed7953\"], [0.7777777777777778, \"#fb9f3a\"], [0.8888888888888888, \"#fdca26\"], [1.0, \"#f0f921\"]], \"type\": \"surface\"}], \"table\": [{\"cells\": {\"fill\": {\"color\": \"#EBF0F8\"}, \"line\": {\"color\": \"white\"}}, \"header\": {\"fill\": {\"color\": \"#C8D4E3\"}, \"line\": {\"color\": \"white\"}}, \"type\": \"table\"}]}, \"layout\": {\"annotationdefaults\": {\"arrowcolor\": \"#2a3f5f\", \"arrowhead\": 0, \"arrowwidth\": 1}, \"coloraxis\": {\"colorbar\": {\"outlinewidth\": 0, \"ticks\": \"\"}}, \"colorscale\": {\"diverging\": [[0, \"#8e0152\"], [0.1, \"#c51b7d\"], [0.2, \"#de77ae\"], [0.3, \"#f1b6da\"], [0.4, \"#fde0ef\"], [0.5, \"#f7f7f7\"], [0.6, \"#e6f5d0\"], [0.7, \"#b8e186\"], [0.8, \"#7fbc41\"], [0.9, \"#4d9221\"], [1, \"#276419\"]], \"sequential\": [[0.0, \"#0d0887\"], [0.1111111111111111, \"#46039f\"], [0.2222222222222222, \"#7201a8\"], [0.3333333333333333, \"#9c179e\"], [0.4444444444444444, \"#bd3786\"], [0.5555555555555556, \"#d8576b\"], [0.6666666666666666, \"#ed7953\"], [0.7777777777777778, \"#fb9f3a\"], [0.8888888888888888, \"#fdca26\"], [1.0, \"#f0f921\"]], \"sequentialminus\": [[0.0, \"#0d0887\"], [0.1111111111111111, \"#46039f\"], [0.2222222222222222, \"#7201a8\"], [0.3333333333333333, \"#9c179e\"], [0.4444444444444444, \"#bd3786\"], [0.5555555555555556, \"#d8576b\"], [0.6666666666666666, \"#ed7953\"], [0.7777777777777778, \"#fb9f3a\"], [0.8888888888888888, \"#fdca26\"], [1.0, \"#f0f921\"]]}, \"colorway\": [\"#636efa\", \"#EF553B\", \"#00cc96\", \"#ab63fa\", \"#FFA15A\", \"#19d3f3\", \"#FF6692\", \"#B6E880\", \"#FF97FF\", \"#FECB52\"], \"font\": {\"color\": \"#2a3f5f\"}, \"geo\": {\"bgcolor\": \"white\", \"lakecolor\": \"white\", \"landcolor\": \"#E5ECF6\", \"showlakes\": true, \"showland\": true, \"subunitcolor\": \"white\"}, \"hoverlabel\": {\"align\": \"left\"}, \"hovermode\": \"closest\", \"mapbox\": {\"style\": \"light\"}, \"paper_bgcolor\": \"white\", \"plot_bgcolor\": \"#E5ECF6\", \"polar\": {\"angularaxis\": {\"gridcolor\": \"white\", \"linecolor\": \"white\", \"ticks\": \"\"}, \"bgcolor\": \"#E5ECF6\", \"radialaxis\": {\"gridcolor\": \"white\", \"linecolor\": \"white\", \"ticks\": \"\"}}, \"scene\": {\"xaxis\": {\"backgroundcolor\": \"#E5ECF6\", \"gridcolor\": \"white\", \"gridwidth\": 2, \"linecolor\": \"white\", \"showbackground\": true, \"ticks\": \"\", \"zerolinecolor\": \"white\"}, \"yaxis\": {\"backgroundcolor\": \"#E5ECF6\", \"gridcolor\": \"white\", \"gridwidth\": 2, \"linecolor\": \"white\", \"showbackground\": true, \"ticks\": \"\", \"zerolinecolor\": \"white\"}, \"zaxis\": {\"backgroundcolor\": \"#E5ECF6\", \"gridcolor\": \"white\", \"gridwidth\": 2, \"linecolor\": \"white\", \"showbackground\": true, \"ticks\": \"\", \"zerolinecolor\": \"white\"}}, \"shapedefaults\": {\"line\": {\"color\": \"#2a3f5f\"}}, \"ternary\": {\"aaxis\": {\"gridcolor\": \"white\", \"linecolor\": \"white\", \"ticks\": \"\"}, \"baxis\": {\"gridcolor\": \"white\", \"linecolor\": \"white\", \"ticks\": \"\"}, \"bgcolor\": \"#E5ECF6\", \"caxis\": {\"gridcolor\": \"white\", \"linecolor\": \"white\", \"ticks\": \"\"}}, \"title\": {\"x\": 0.05}, \"xaxis\": {\"automargin\": true, \"gridcolor\": \"white\", \"linecolor\": \"white\", \"ticks\": \"\", \"title\": {\"standoff\": 15}, \"zerolinecolor\": \"white\", \"zerolinewidth\": 2}, \"yaxis\": {\"automargin\": true, \"gridcolor\": \"white\", \"linecolor\": \"white\", \"ticks\": \"\", \"title\": {\"standoff\": 15}, \"zerolinecolor\": \"white\", \"zerolinewidth\": 2}}}, \"title\": {\"text\": \"1160 clauses - size of C ext2b\"}, \"width\": 800, \"xaxis\": {\"title\": {\"text\": \"step number\"}}, \"yaxis\": {\"title\": {\"text\": \"size of C ext2b\"}}},\n",
       "                        {\"responsive\": true}\n",
       "                    ).then(function(){\n",
       "                            \n",
       "var gd = document.getElementById('4916c7f9-a966-44da-910a-80485a3348ed');\n",
       "var x = new MutationObserver(function (mutations, observer) {{\n",
       "        var display = window.getComputedStyle(gd).display;\n",
       "        if (!display || display === 'none') {{\n",
       "            console.log([gd, 'removed!']);\n",
       "            Plotly.purge(gd);\n",
       "            observer.disconnect();\n",
       "        }}\n",
       "}});\n",
       "\n",
       "// Listen for the removal of the full notebook cells\n",
       "var notebookContainer = gd.closest('#notebook-container');\n",
       "if (notebookContainer) {{\n",
       "    x.observe(notebookContainer, {childList: true});\n",
       "}}\n",
       "\n",
       "// Listen for the clearing of the current output cell\n",
       "var outputEl = gd.closest('.output');\n",
       "if (outputEl) {{\n",
       "    x.observe(outputEl, {childList: true});\n",
       "}}\n",
       "\n",
       "                        })\n",
       "                };\n",
       "                });\n",
       "            </script>\n",
       "        </div>"
      ]
     },
     "metadata": {},
     "output_type": "display_data"
    }
   ],
   "source": [
    "\n",
    "for ext in ['2b']:\n",
    "    zebra_ext = zebra[zebra['ext']== ext]\n",
    "\n",
    "    x1 = [i for i in range(len(list(zebra_ext['s_hs'])[0]))]\n",
    "    y1 = list(zebra_ext['s_hs'])[0]\n",
    "    x2 = [i for i in range(len(list(zebra_ext['s_grow'])[0]))]\n",
    "    y2 = list(zebra_ext['s_grow'])[0]\n",
    "    fig = go.Figure()\n",
    "    #fig.add_trace(go.Scatter(x=x1, y=y1, mode='lines',name=f\"size of hs ext{ext}\"))\n",
    "    fig.add_trace(go.Scatter(x=x2, y=y2, mode='markers',name=f\"{int(zebra_ext['clauses'])} clauses - size of C ext{ext}\"))\n",
    "    #fig.add_trace(go.Scatter(x=x2, y=, mode='markers',name=f\"{zebra_ext['clauses']} clauses - size of C ext{ext}\"))\n",
    "    # Edit the layout\n",
    "    fig.update_layout(\n",
    "    autosize=False,\n",
    "    width=800,\n",
    "        title=f\"{int(zebra_ext['clauses'])} clauses - size of C ext{ext}\",\n",
    "                       xaxis_title='step number',\n",
    "                       yaxis_title=f'size of C ext{ext}')\n",
    "    \n",
    "    fig.show()"
   ]
  },
  {
   "cell_type": "code",
   "execution_count": null,
   "metadata": {},
   "outputs": [],
   "source": []
  },
  {
   "cell_type": "code",
   "execution_count": null,
   "metadata": {},
   "outputs": [],
   "source": []
  }
 ],
 "metadata": {
  "kernelspec": {
   "display_name": "Python 3",
   "language": "python",
   "name": "python3"
  },
  "language_info": {
   "codemirror_mode": {
    "name": "ipython",
    "version": 3
   },
   "file_extension": ".py",
   "mimetype": "text/x-python",
   "name": "python",
   "nbconvert_exporter": "python",
   "pygments_lexer": "ipython3",
   "version": "3.7.3"
  }
 },
 "nbformat": 4,
 "nbformat_minor": 4
}
