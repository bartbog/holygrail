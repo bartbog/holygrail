{
 "cells": [
  {
   "cell_type": "markdown",
   "metadata": {},
   "source": [
    "# Ecai experiments\n",
    "\n"
   ],
   "execution_count": null,
   "outputs": []
  },
  {
   "cell_type": "code",
   "execution_count": 64,
   "metadata": {},
   "outputs": [],
   "source": [
    "from pathlib import Path\n",
    "import json\n",
    "import sys\n",
    "import math\n",
    "import subprocess\n",
    "from collections import Counter\n",
    "import matplotlib.pyplot as plt\n",
    "import plotly"
   ]
  },
  {
   "cell_type": "code",
   "execution_count": 65,
   "metadata": {},
   "outputs": [],
   "source": [
    "def file_pprint_json(filename):\n",
    "    with open(filename, 'r') as f:\n",
    "        array = json.load(f)\n",
    "    print(json.dumps(array, indent=4, sort_keys=True))"
   ]
  },
  {
   "cell_type": "code",
   "execution_count": 66,
   "metadata": {},
   "outputs": [],
   "source": [
    "def read_print(filename):\n",
    "    q = Path(filename)\n",
    "    with q.open() as f: \n",
    "        s = f.readlines()\n",
    "        #print(s)"
   ]
  },
  {
   "cell_type": "code",
   "execution_count": 67,
   "metadata": {},
   "outputs": [],
   "source": [
    "def json2array(filename):\n",
    "    with open(filename, 'r') as f:\n",
    "        array = json.load(f)\n",
    "    return array"
   ]
  },
  {
   "cell_type": "code",
   "execution_count": 68,
   "metadata": {},
   "outputs": [],
   "source": [
    "def pprint_json(array):\n",
    "    print(json.dumps(array, indent=4, sort_keys=False))"
   ]
  },
  {
   "cell_type": "code",
   "execution_count": 69,
   "metadata": {},
   "outputs": [],
   "source": [
    "def basecost(clues, constraints):\n",
    "    if constraints == 1 and clues == 0:\n",
    "        return 0\n",
    "    elif constraints > 1 and clues == 0:\n",
    "        return 20\n",
    "    else:\n",
    "        return 20 * clues    "
   ]
  },
  {
   "cell_type": "code",
   "execution_count": 70,
   "metadata": {},
   "outputs": [],
   "source": [
    "def f(clues, assumptions, constraints):\n",
    "    c_a = 5\n",
    "    return basecost(clues, constraints) +  assumptions + c_a * (constraints + clues)"
   ]
  },
  {
   "cell_type": "code",
   "execution_count": 71,
   "metadata": {},
   "outputs": [],
   "source": [
    "def f_cost(assumptions, clue, cost):\n",
    "    n_assumptions = len(assumptions)\n",
    "    n_clues = 0\n",
    "    n_constraints = 0\n",
    "    n_implicit = 0\n",
    "\n",
    "    if clue in [\"Combination of logigram constraints\"]:\n",
    "        n_clues = 0\n",
    "        n_constraints = 2\n",
    "    elif clue in [\"Bijectivity\", \"Transitivity constraint\"]:\n",
    "        n_clues = 0\n",
    "        n_constraints = 1\n",
    "    else:\n",
    "        n_clues = 1\n",
    "    \n",
    "    n_implicit = max(0, cost - n_assumptions - basecost(n_clues, n_constraints) - n_clues)\n",
    "\n",
    "    updated_cost = f(n_clues, n_assumptions, n_implicit)\n",
    "\n",
    "    return updated_cost"
   ]
  },
  {
   "cell_type": "code",
   "execution_count": 72,
   "metadata": {},
   "outputs": [],
   "source": [
    "def update_cost_explanations(explanation_array):\n",
    "    s_nested_explanation = \"nested_explanations\"\n",
    "    s_reason_sequence = \"reason_sequence\"\n",
    "\n",
    "    for expl in explanation_array:\n",
    "        if \"Solution!\" in expl[\"clue\"]:\n",
    "            continue\n",
    "        expl[\"cost\"] = f_cost(assumptions = expl[\"assumptions\"], clue = expl[\"clue\"], cost = int(expl[\"cost\"]) )\n",
    "\n",
    "        if s_nested_explanation in expl:\n",
    "            for n_expl in expl[s_nested_explanation]:\n",
    "                if s_reason_sequence in n_expl:\n",
    "                    for r_expl in n_expl[s_reason_sequence]:\n",
    "                        r_expl[\"cost\"] = f_cost(assumptions = r_expl[\"assumptions\"], clue = r_expl[\"clue\"], cost = int(r_expl[\"cost\"]) )\n",
    "\n",
    "\n",
    "    return explanation_array"
   ]
  },
  {
   "cell_type": "code",
   "execution_count": 73,
   "metadata": {},
   "outputs": [],
   "source": [
    "def filter_nested_explanations(explanation_array):\n",
    "    '''Filters the explanations with nested explanations and for every nested explanations\n",
    "    removes last step from reason_sequence and if nested_explanation is only 1 step it is removed\n",
    "    as well.\n",
    "    Remove also last step from nested explanation list.\n",
    "    '''\n",
    "    s_nested_explanation = \"nested_explanations\"\n",
    "    # s_reason_sequence = \"reason_sequence\"\n",
    "    # data_dict = {}\n",
    "    \n",
    "    # take explanations only with nested explanations\n",
    "    expl_w_nested = [expl for expl in explanation_array if s_nested_explanation in expl]\n",
    "    for expl in expl_w_nested:\n",
    "        expl[s_nested_explanation] = expl[s_nested_explanation][:-1]\n",
    "\n",
    "    \n",
    "    return expl_w_nested"
   ]
  },
  {
   "cell_type": "code",
   "execution_count": 61,
   "metadata": {},
   "outputs": [],
   "source": [
    "def build_statistics(explanation_array):\n",
    "\n",
    "    stat_dict = {\n",
    "        'n_nested_expl' = [],\n",
    "        ''\n",
    "    }\n",
    "\n",
    "    for expl in explanation_array:\n",
    "\n",
    "\n",
    "\n",
    "\n",
    "    return stat_dict"
   ]
  },
  {
   "cell_type": "code",
   "execution_count": 62,
   "metadata": {
    "tags": [
     "outputPrepend"
    ]
   },
   "outputs": [],
   "source": [
    "'''\n",
    "dict['filename'] = {costs, clue, assumptions, derivations}\n",
    "\n",
    "    data = {}\n",
    "    \n",
    "    data['costs'] = []\n",
    "    data['clue'] = []\n",
    "    data['assumptions'] =  []\n",
    "    data['derivations'] =  []\n",
    "\n",
    "    stats['cost'] = {}\n",
    "    \n",
    "    stats['cost']['costs_counter']\n",
    "    stats['cost']['total_cost']\n",
    "    stats['cost']['avg_cost']\n",
    "    \n",
    "    stats['clues'] = {}\n",
    "    stats['clues']['clues_counter']\n",
    "    stats['clues']['clues_successive_count']\n",
    "'''\n",
    "results = \"./output\"\n",
    "p = Path(results)\n",
    "\n",
    "ignored_files = ['p12.output.json', 'p13.output.json']\n",
    "files = [x for x in p.iterdir() if x.is_file() and x.name not in ignored_files]\n",
    "\n",
    "json_file = list(filter(lambda x: 'output.json' in x.name , files) )\n",
    "#problems = list(filter(lambda x: 'nielspasta' in x.name or 'p5' in x.name , json_file))\n",
    "file_paths = list(map(lambda f: f.absolute().as_posix(), json_file))\n",
    "#print(file_paths)\n",
    "\n",
    "#statistics = {}\n",
    "nested_data = {}\n",
    "statistics = {}\n",
    "\n",
    "\n",
    "for i, fp in enumerate(file_paths):\n",
    "    problem_name = json_file[i].name\n",
    "\n",
    "    json_array = json2array(fp)\n",
    "    \n",
    "    explanation_array = update_cost_explanations(json_array)\n",
    "    nested_data[problem_name] =  filter_nested_explanations(json_array)\n",
    "    statistics[problem_name] = build_statistics(nested_data[problem_name])\n",
    "    #build_statistics(data[problem_name])\n",
    "    # print(problem_name)\n",
    "    # pprint_json(data[problem_name])\n",
    "#    statistics[problem_name] = build_statistics(data[problem_name])\n"
   ]
  },
  {
   "cell_type": "code",
   "execution_count": null,
   "metadata": {},
   "outputs": [],
   "source": []
  },
  {
   "cell_type": "code",
   "execution_count": null,
   "metadata": {},
   "outputs": [],
   "source": [
    "[]"
   ]
  }
 ],
 "metadata": {
  "kernelspec": {
   "display_name": "Python 3",
   "language": "python",
   "name": "python3"
  },
  "language_info": {
   "codemirror_mode": {
    "name": "ipython",
    "version": 3
   },
   "file_extension": ".py",
   "mimetype": "text/x-python",
   "name": "python",
   "nbconvert_exporter": "python",
   "pygments_lexer": "ipython3",
   "version": "3.7.4-final"
  }
 },
 "nbformat": 4,
 "nbformat_minor": 2
}