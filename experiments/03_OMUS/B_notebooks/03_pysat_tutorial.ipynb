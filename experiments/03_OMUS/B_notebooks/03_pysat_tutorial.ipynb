{
 "cells": [
  {
   "cell_type": "code",
   "execution_count": 131,
   "metadata": {},
   "outputs": [],
   "source": [
    "# standard libraries\n",
    "from __future__ import print_function\n",
    "import os\n",
    "import re\n",
    "import sys\n",
    "from pathlib import Path\n",
    "from enum import Enum\n",
    "import json\n",
    "\n",
    "# pysat library\n",
    "from pysat.solvers import Solver, SolverNames\n",
    "from pysat.formula import CNF, WCNF\n",
    "from pysat.examples.fm import FM\n",
    "from pysat.examples.musx import MUSX\n",
    "\n",
    "# or-tools library\n",
    "from ortools.linear_solver import pywraplp\n",
    "\n",
    "# numpy\n",
    "import numpy as np\n",
    "\n",
    "# configs\n",
    "import pprint\n",
    "ppprint = pprint.PrettyPrinter(indent=4).pprint\n",
    "def debug(info, verbose=False):\n",
    "    if verbose:\n",
    "        print(info)\n",
    "\n",
    "def debug_ppprint(info, verbose=False):\n",
    "    ppprint(json.dumps(info, indent=4))"
   ]
  },
  {
   "cell_type": "code",
   "execution_count": 104,
   "metadata": {},
   "outputs": [],
   "source": [
    "folderPaths={\n",
    "    'easyInstances':'/home/crunchmonster/Documents/VUB/02_Research/02_Notes/02_OMUS/B_data/easy_instances/',\n",
    "    'instance':'/home/crunchmonster/Documents/VUB/02_Research/02_Notes/02_OMUS/B_data/instance/',\n",
    "    'aaaiInstances':'/home/crunchmonster/Documents/VUB/02_Research/02_Notes/02_OMUS/B_data/hard_instances/aaai_instances',\n",
    "    'isingModel':'/home/crunchmonster/Documents/VUB/02_Research/02_Notes/02_OMUS/B_data/hard_instances/Generalized_Ising_model',\n",
    "    'maxSat':'/home/crunchmonster/Documents/VUB/02_Research/02_Notes/02_OMUS/B_data/hard_instances/maxsat_staffscheduling_instances',\n",
    "    'circuitDebugging':'/home/crunchmonster/Documents/VUB/02_Research/02_Notes/02_OMUS/B_data/hard_instances/ms_industrial/circuit-debugging-problems',\n",
    "    'safarpour':'/home/crunchmonster/Documents/VUB/02_Research/02_Notes/02_OMUS/B_data/hard_instances/ms_industrial/sean-safarpour'\n",
    "}\n",
    "\n",
    "class Difficulty(Enum):\n",
    "    EASY = 1\n",
    "    MEDIUM = 2\n",
    "    HARD = 3\n",
    "    ALL = 0\n",
    "\n",
    "def instanceDiff(fileSize):\n",
    "    \n",
    "    mb = 10* 1024 ** 1\n",
    "    mediumUb = 10 * mb\n",
    "    if fileSize < mb:\n",
    "        return Difficulty.EASY\n",
    "    elif fileSize < mediumUb:\n",
    "        return Difficulty.MEDIUM\n",
    "    else:\n",
    "        return Difficulty.HARD\n",
    "\n",
    "    \n",
    "def allInstances(difficulty, cnfExtensions=['.cnf', '.wcnf']):\n",
    "    instances = []\n",
    "    for folder in folderPaths:\n",
    "        instanceFolder = Path(folderPaths[folder])\n",
    "        instances += [x for x in instanceFolder.iterdir() if x.is_file() and x.suffix in cnfExtensions]\n",
    "    \n",
    "    if difficulty is Difficulty.ALL:\n",
    "        return instances\n",
    "\n",
    "    sizeFilteredInstances = list(filter(lambda x: instanceDiff(x.stat().st_size) is difficulty, instances))\n",
    "\n",
    "    return sizeFilteredInstances\n",
    "    \n",
    "def getDataPaths(cnfExtensions=['.cnf', '.wcnf'], difficulty= Difficulty.EASY):\n",
    "    \n",
    "    if difficulty not in Difficulty:\n",
    "        ppprint('Difficulty must be in ' +str(difficulties) + ' defaulting to easy.')\n",
    "        difficulty = Difficulty.EASY\n",
    "    \n",
    "    instances = allInstances(difficulty, cnfExtensions)\n",
    "\n",
    "    return instances\n"
   ]
  },
  {
   "cell_type": "code",
   "execution_count": 105,
   "metadata": {},
   "outputs": [],
   "source": [
    "def cnfInstances(difficulty=Difficulty.EASY):\n",
    "    instances = [instance for instance in getDataPaths(cnfExtensions=['.cnf'], difficulty= difficulty)] \n",
    "    return instances\n",
    "\n",
    "def wcnfInstances(difficulty=Difficulty.EASY):\n",
    "    instances = [instance for instance in getDataPaths(cnfExtensions=['.wcnf'], difficulty= difficulty)] \n",
    "    return instances"
   ]
  },
  {
   "cell_type": "code",
   "execution_count": 106,
   "metadata": {},
   "outputs": [],
   "source": [
    "def CNFisUnsat(instance, verbose=True):\n",
    "    with Solver(name = SolverNames.minisat22[0]) as s:\n",
    "        cnf = CNF(from_file=instance)\n",
    "        added = s.append_formula(cnf.clauses, no_return=False)\n",
    "        solved = s.solve()\n",
    "    return solved"
   ]
  },
  {
   "cell_type": "code",
   "execution_count": 107,
   "metadata": {},
   "outputs": [],
   "source": [
    "def WCNFisUnsat(instance, verbose=True):\n",
    "    with Solver(name = SolverNames.minisat22[0]) as s:\n",
    "        wcnf = WCNF(from_file=instance)\n",
    "        added = s.append_formula(wcnf.clauses, no_return=False)\n",
    "        solved = s.solve()\n",
    "    return solved"
   ]
  },
  {
   "cell_type": "code",
   "execution_count": 110,
   "metadata": {},
   "outputs": [],
   "source": [
    "def cnfUnsatInstances():\n",
    "    return [instance  for instance in cnfInstances() if CNFisUnsat(instance)]"
   ]
  },
  {
   "cell_type": "code",
   "execution_count": 136,
   "metadata": {},
   "outputs": [],
   "source": [
    "def get_constraint_coefficients(H, num_vars):\n",
    "    hij = []\n",
    "    for h in H:\n",
    "        hj = []\n",
    "        for e in range(1, num_vars+1):\n",
    "            if e in h:\n",
    "                hj.append(1)\n",
    "            else:\n",
    "                hj.append(0)\n",
    "        hij.append(hj)           \n",
    "    \n",
    "    return hij\n"
   ]
  },
  {
   "cell_type": "code",
   "execution_count": 146,
   "metadata": {},
   "outputs": [],
   "source": [
    "def create_data_model(H, weights, num_vars):\n",
    "    \"\"\"Stores the data for the problem.\"\"\"\n",
    "    data = {}\n",
    "    data['constraint_coefficients'] = get_constraint_coefficients(H, num_vars)\n",
    "    data['bounds'] = list(np.ones(len(H), dtype=np.int8))\n",
    "    data['obj_coeffs'] = get_obj_coefficients(H, weights)\n",
    "    data['num_vars'] = num_vars\n",
    "    data['num_constraints'] = len(H)\n",
    "    return data"
   ]
  },
  {
   "cell_type": "code",
   "execution_count": 151,
   "metadata": {},
   "outputs": [],
   "source": [
    "def f(x):\n",
    "    # weighted based on the number of literals inside the clause\n",
    "    return len(x)"
   ]
  },
  {
   "cell_type": "code",
   "execution_count": 154,
   "metadata": {},
   "outputs": [],
   "source": [
    "def cnf_weights(cnf):\n",
    "    return [f(clause) for clause in cnf.clauses]"
   ]
  },
  {
   "cell_type": "code",
   "execution_count": null,
   "metadata": {},
   "outputs": [],
   "source": [
    "def get_obj_coefficients(H,weights):\n",
    "    indices = set()\n",
    "    for hj in H:\n",
    "        for i in hj:\n",
    "            indices.add(i)   \n",
    "    obj_coeffs = {}\n",
    "    for index in indices:\n",
    "        obj_coeffs[index] = weights[index]\n",
    "    \n",
    "    return obj_coeffs"
   ]
  },
  {
   "cell_type": "code",
   "execution_count": null,
   "metadata": {},
   "outputs": [],
   "source": []
  },
  {
   "cell_type": "code",
   "execution_count": 157,
   "metadata": {},
   "outputs": [
    {
     "name": "stdout",
     "output_type": "stream",
     "text": [
      "False\n"
     ]
    },
    {
     "ename": "AttributeError",
     "evalue": "'list' object has no attribute 'clauses'",
     "output_type": "error",
     "traceback": [
      "\u001b[0;31m---------------------------------------------------------------------------\u001b[0m",
      "\u001b[0;31mAttributeError\u001b[0m                            Traceback (most recent call last)",
      "\u001b[0;32m<ipython-input-157-5b3a15a0c630>\u001b[0m in \u001b[0;36m<module>\u001b[0;34m\u001b[0m\n\u001b[1;32m      9\u001b[0m     \u001b[0;34m[\u001b[0m\u001b[0;36m3\u001b[0m\u001b[0;34m,\u001b[0m \u001b[0;36m5\u001b[0m\u001b[0;34m,\u001b[0m \u001b[0;36m6\u001b[0m\u001b[0;34m]\u001b[0m\u001b[0;34m\u001b[0m\u001b[0;34m\u001b[0m\u001b[0m\n\u001b[1;32m     10\u001b[0m ]\n\u001b[0;32m---> 11\u001b[0;31m \u001b[0mprint\u001b[0m\u001b[0;34m(\u001b[0m\u001b[0mcreate_data_model\u001b[0m\u001b[0;34m(\u001b[0m\u001b[0mh_test\u001b[0m\u001b[0;34m,\u001b[0m \u001b[0;36m8\u001b[0m\u001b[0;34m)\u001b[0m\u001b[0;34m)\u001b[0m\u001b[0;34m\u001b[0m\u001b[0;34m\u001b[0m\u001b[0m\n\u001b[0m",
      "\u001b[0;32m<ipython-input-146-40dcc7024707>\u001b[0m in \u001b[0;36mcreate_data_model\u001b[0;34m(H, num_vars)\u001b[0m\n\u001b[1;32m      4\u001b[0m     \u001b[0mdata\u001b[0m\u001b[0;34m[\u001b[0m\u001b[0;34m'constraint_coefficients'\u001b[0m\u001b[0;34m]\u001b[0m \u001b[0;34m=\u001b[0m \u001b[0mget_constraint_coefficients\u001b[0m\u001b[0;34m(\u001b[0m\u001b[0mH\u001b[0m\u001b[0;34m,\u001b[0m \u001b[0mnum_vars\u001b[0m\u001b[0;34m)\u001b[0m\u001b[0;34m\u001b[0m\u001b[0;34m\u001b[0m\u001b[0m\n\u001b[1;32m      5\u001b[0m     \u001b[0mdata\u001b[0m\u001b[0;34m[\u001b[0m\u001b[0;34m'bounds'\u001b[0m\u001b[0;34m]\u001b[0m \u001b[0;34m=\u001b[0m \u001b[0mlist\u001b[0m\u001b[0;34m(\u001b[0m\u001b[0mnp\u001b[0m\u001b[0;34m.\u001b[0m\u001b[0mones\u001b[0m\u001b[0;34m(\u001b[0m\u001b[0mlen\u001b[0m\u001b[0;34m(\u001b[0m\u001b[0mH\u001b[0m\u001b[0;34m)\u001b[0m\u001b[0;34m,\u001b[0m \u001b[0mdtype\u001b[0m\u001b[0;34m=\u001b[0m\u001b[0mnp\u001b[0m\u001b[0;34m.\u001b[0m\u001b[0mint8\u001b[0m\u001b[0;34m)\u001b[0m\u001b[0;34m)\u001b[0m\u001b[0;34m\u001b[0m\u001b[0;34m\u001b[0m\u001b[0m\n\u001b[0;32m----> 6\u001b[0;31m     \u001b[0mdata\u001b[0m\u001b[0;34m[\u001b[0m\u001b[0;34m'obj_coeffs'\u001b[0m\u001b[0;34m]\u001b[0m \u001b[0;34m=\u001b[0m \u001b[0mget_obj_coefficients\u001b[0m\u001b[0;34m(\u001b[0m\u001b[0mH\u001b[0m\u001b[0;34m)\u001b[0m\u001b[0;34m\u001b[0m\u001b[0;34m\u001b[0m\u001b[0m\n\u001b[0m\u001b[1;32m      7\u001b[0m     \u001b[0mdata\u001b[0m\u001b[0;34m[\u001b[0m\u001b[0;34m'num_vars'\u001b[0m\u001b[0;34m]\u001b[0m \u001b[0;34m=\u001b[0m \u001b[0mnum_vars\u001b[0m\u001b[0;34m\u001b[0m\u001b[0;34m\u001b[0m\u001b[0m\n\u001b[1;32m      8\u001b[0m     \u001b[0mdata\u001b[0m\u001b[0;34m[\u001b[0m\u001b[0;34m'num_constraints'\u001b[0m\u001b[0;34m]\u001b[0m \u001b[0;34m=\u001b[0m \u001b[0mlen\u001b[0m\u001b[0;34m(\u001b[0m\u001b[0mH\u001b[0m\u001b[0;34m)\u001b[0m\u001b[0;34m\u001b[0m\u001b[0;34m\u001b[0m\u001b[0m\n",
      "\u001b[0;32m<ipython-input-152-6b1121b02121>\u001b[0m in \u001b[0;36mget_obj_coefficients\u001b[0;34m(cnf)\u001b[0m\n\u001b[1;32m      1\u001b[0m \u001b[0;32mdef\u001b[0m \u001b[0mget_obj_coefficients\u001b[0m\u001b[0;34m(\u001b[0m\u001b[0mcnf\u001b[0m\u001b[0;34m)\u001b[0m\u001b[0;34m:\u001b[0m\u001b[0;34m\u001b[0m\u001b[0;34m\u001b[0m\u001b[0m\n\u001b[0;32m----> 2\u001b[0;31m     \u001b[0;32mreturn\u001b[0m \u001b[0;34m[\u001b[0m\u001b[0mf\u001b[0m\u001b[0;34m(\u001b[0m\u001b[0mclause\u001b[0m\u001b[0;34m)\u001b[0m \u001b[0;32mfor\u001b[0m \u001b[0mclause\u001b[0m \u001b[0;32min\u001b[0m \u001b[0mcnf\u001b[0m\u001b[0;34m.\u001b[0m\u001b[0mclauses\u001b[0m\u001b[0;34m]\u001b[0m\u001b[0;34m\u001b[0m\u001b[0;34m\u001b[0m\u001b[0m\n\u001b[0m",
      "\u001b[0;31mAttributeError\u001b[0m: 'list' object has no attribute 'clauses'"
     ]
    }
   ],
   "source": [
    "smus_cnf = smus_CNF()\n",
    "weights = cnf_weights(smus_cnf )\n",
    "#print(weights)\n",
    "\n",
    "h_test = [\n",
    "    [3],\n",
    "    [2, 4],\n",
    "    [5, 4],\n",
    "    [3, 5, 6]\n",
    "]\n",
    "print(create_data_model(h_test, 8))"
   ]
  },
  {
   "cell_type": "code",
   "execution_count": null,
   "metadata": {},
   "outputs": [],
   "source": []
  },
  {
   "cell_type": "code",
   "execution_count": null,
   "metadata": {},
   "outputs": [],
   "source": [
    "def optimalHittingSet(H, num_vars, f, weights):\n",
    "    indices = set()\n",
    "    data = create_data_model(H, num_vars)\n",
    "    # [START solver]\n",
    "    # Create the mip solver with the CBC backend.\n",
    "    solver = pywraplp.Solver('OptimalHittingSet', pywraplp.Solver.CBC_MIXED_INTEGER_PROGRAMMING)\n",
    "    # [END solver]\n",
    "    \n",
    "    # [START variables]\n",
    "    #infinity = solver.infinity()\n",
    "    x = {}\n",
    "    for j in range(1, data['num_vars']+1):\n",
    "        x[j] = solver.IntVar(0, 1, 'x[%i]' % j)\n",
    "    # [END variables]\n",
    "    \n",
    "    # [START constraints]\n",
    "    for i in range(data['num_constraints']):\n",
    "        #constraint = solver.RowConstraint(0, data['bounds'][i], '')\n",
    "        #for j in range(1, data['num_vars']+1):\n",
    "        #    constraint.SetCoefficient(x[j], data['constraint_coeffs'][i][j-1])\n",
    "        #    print('Number of constraints =', solver.NumConstraints())\n",
    "        constraint_expr = [data['constraint_coeffs'][i][j-1] * x[j] for j in range(1, data['num_vars']+1)]\n",
    "        solver.Add(sum(constraint_expr) >= data['bounds'][i])\n",
    "\n",
    "\n",
    "    # [END constraints]\n",
    "    \n",
    "    # [START objective]\n",
    "    # Maximize 2*x + 2*y + 3*z\n",
    "    objective = solver.Objective()\n",
    "    for j in range(1, data['num_vars']+1):\n",
    "        objective.SetCoefficient(x[j], data['obj_coeffs'][j-1])\n",
    "    objective.SetMinimization()\n",
    "    # [END objective]\n",
    "    \n",
    "    # Solve the problem and print the solution.\n",
    "    # [START print_solution]\n",
    "    status = solver.Solve()\n",
    "\n",
    "    if status == pywraplp.Solver.OPTIMAL:\n",
    "        print('Objective value =', solver.Objective().Value())\n",
    "        for j in range(1, data['num_vars']+1):\n",
    "            print(x[j].name(), ' = ', x[j].solution_value())\n",
    "        print()\n",
    "        print('Problem solved in %f milliseconds' % solver.wall_time())\n",
    "        print('Problem solved in %d iterations' % solver.iterations())\n",
    "        print('Problem solved in %d branch-and-bound nodes' % solver.nodes())\n",
    "    else:\n",
    "        print('The problem does not have an optimal solution.')\n",
    "\n",
    "    # [END print_solution]\n",
    "\n",
    "    \n",
    "    ohs = []\n",
    "    \n",
    "    return ohs"
   ]
  },
  {
   "cell_type": "code",
   "execution_count": 155,
   "metadata": {},
   "outputs": [],
   "source": [
    "def flatten_set(H):\n",
    "    return list(set([val for sublist in H for val in sublist]))"
   ]
  },
  {
   "cell_type": "code",
   "execution_count": null,
   "metadata": {},
   "outputs": [],
   "source": []
  },
  {
   "cell_type": "code",
   "execution_count": 120,
   "metadata": {},
   "outputs": [],
   "source": [
    "def omus(cnf):\n",
    "    clauses = cnf.clauses\n",
    "    H = []\n",
    "    \n",
    "    \n",
    "    return "
   ]
  },
  {
   "cell_type": "code",
   "execution_count": 128,
   "metadata": {},
   "outputs": [],
   "source": [
    "def smus_CNF():\n",
    "    l = 1\n",
    "    m = 2\n",
    "    n = 3\n",
    "    p = 4\n",
    "    s = 5\n",
    "    cnf = CNF()\n",
    "    cnf.append([-s])    # c1: ¬s\n",
    "    cnf.append([s, -p]) # c2: s or ¬p\n",
    "    cnf.append([p])     # c3: p\n",
    "    cnf.append([-p, m]) # c4: ¬p or m\n",
    "    cnf.append([-m, n]) # c5: ¬m or n\n",
    "    cnf.append([-n])    # c6: ¬n\n",
    "    cnf.append([-m, l]) # c7 ¬m or l\n",
    "    cnf.append([-l])    # c8 ¬l\n",
    "    \n",
    "    return cnf"
   ]
  },
  {
   "cell_type": "code",
   "execution_count": 125,
   "metadata": {},
   "outputs": [
    {
     "name": "stdout",
     "output_type": "stream",
     "text": [
      "/home/crunchmonster/Documents/VUB/02_Research/02_Notes/02_OMUS/B_data/easy_instances/simple_v3_c2.cnf 48\n",
      "[[1, -3], [2, 3, -1]]\n",
      "/home/crunchmonster/Documents/VUB/02_Research/02_Notes/02_OMUS/B_data/easy_instances/quinn.cnf 243\n",
      "[[1, 2], [-2, -4], [3, 4], [-4, -5], [5, -6], [6, -7], [6, 7], [7, -16], [8, -9], [-8, -14], [9, 10], [9, -10], [-10, -11], [10, 12], [11, 12], [13, 14], [14, -15], [15, 16]]\n",
      "/home/crunchmonster/Documents/VUB/02_Research/02_Notes/02_OMUS/B_data/instance/reg_50_100.cnf 1077\n",
      "[[1, -50, -32], [1, -50, -27], [1, -49, -22], [1, -49, 46], [1, -48, -15], [1, -48, 34], [1, -47, 7], [1, -47, 27], [1, -46, -36], [1, -46, 7], [1, -45, 44], [1, -45, 46], [1, -44, -5], [1, -44, 24], [1, -43, 18], [1, -43, 42], [1, -42, -41], [1, -42, 26], [1, -41, -21], [1, -40, 15], [1, -40, 20], [1, -39, 33], [1, -39, 43], [1, -38, 24], [1, -38, 36], [1, -37, -12], [1, -37, 25], [1, -36, 45], [1, -35, 21], [1, -35, 39], [1, -34, 8], [1, -34, 23], [1, -33, -12], [1, -33, 16], [1, -32, 4], [1, -31, -23], [1, -31, 9], [1, -30, -14], [1, -30, -9], [1, -29, -27], [1, -29, 13], [1, -28, -3], [1, -28, 29], [1, -26, -7], [1, -26, 45], [1, -25, -20], [1, -25, -13], [1, -24, 4], [1, -24, 44], [1, -23, 31], [1, -22, 27], [1, -21, 19], [1, -20, -8], [1, -19, -8], [1, -19, 36], [1, -18, 48], [1, -18, 49], [1, -17, -14], [1, -17, 1], [1, -16, -6], [1, -16, 18], [1, -15, 6], [1, -13, 9], [1, -11, -10], [1, -11, -6], [1, -10, 11], [1, -9, 33], [1, -7, 30], [1, -5, 29], [1, -4, 19], [1, -4, 32], [1, -3, 30], [1, -2, 14], [1, -2, 39], [1, -1, 10], [1, -1, 17], [1, 1, 11], [1, 2, 40], [1, 2, 50], [1, 3, 8], [1, 3, 22], [1, 5, 10], [1, 5, 34], [1, 6, 31], [1, 12, 28], [1, 12, 47], [1, 13, 50], [1, 14, 47], [1, 15, 23], [1, 16, 37], [1, 17, 26], [1, 20, 28], [1, 21, 22], [1, 25, 42], [1, 32, 49], [1, 35, 37], [1, 35, 41], [1, 38, 43], [1, 38, 48], [1, 40, 41]]\n",
      "5\n",
      "[[-5], [5, -4], [4], [-4, 2], [-2, 3], [-3], [-2, 1], [-1]]\n"
     ]
    },
    {
     "data": {
      "text/plain": [
       "<pysat.formula.CNF at 0x7f383a1c7b70>"
      ]
     },
     "execution_count": 125,
     "metadata": {},
     "output_type": "execute_result"
    }
   ],
   "source": [
    "cnfs = sorted(cnfUnsatInstances(), key=lambda item: item.stat().st_size)[:3]\n",
    "for c in cnfs:\n",
    "    cnf = CNF(from_file=c)\n",
    "    o = omus(cnf)\n",
    "    print(c, c.stat().st_size)\n",
    "    print(cnf.clauses)\n",
    "\n",
    "# useless to call mus on cnf files, only on WCNF\n",
    "#for cnf_name, cnf_dict in cnfs.items():\n",
    "#    wcnf = CNF(from_file = cnf_dict['path']).weighted()\n",
    "#    with MUSX(wcnf, verbosity=1) as musx:\n",
    "#        print(musx.compute())\n",
    "#wncf = WCNF(from_file = cnf1['path'])"
   ]
  },
  {
   "cell_type": "code",
   "execution_count": null,
   "metadata": {},
   "outputs": [],
   "source": []
  },
  {
   "cell_type": "code",
   "execution_count": 87,
   "metadata": {},
   "outputs": [
    {
     "name": "stdout",
     "output_type": "stream",
     "text": [
      "c MUS approx: 15 45 53 71 102 114 119 120 122 123 0\n",
      "[15, 45, 53, 71, 102, 114, 119, 120, 122, 123]\n"
     ]
    }
   ],
   "source": [
    "wcnf = WCNF(from_file='/home/crunchmonster/Documents/VUB/02_Research/02_Notes/02_OMUS/B_data/hard_instances/maxsat_staffscheduling_instances/'+'instance1.wcnf')\n",
    "with MUSX(wcnf, verbosity=1) as musx:\n",
    "    print(musx.compute())"
   ]
  },
  {
   "cell_type": "code",
   "execution_count": null,
   "metadata": {},
   "outputs": [],
   "source": []
  },
  {
   "cell_type": "code",
   "execution_count": 135,
   "metadata": {},
   "outputs": [
    {
     "data": {
      "text/plain": [
       "[1, 1, 1, 1, 1]"
      ]
     },
     "execution_count": 135,
     "metadata": {},
     "output_type": "execute_result"
    }
   ],
   "source": []
  },
  {
   "cell_type": "code",
   "execution_count": null,
   "metadata": {},
   "outputs": [],
   "source": []
  }
 ],
 "metadata": {
  "kernelspec": {
   "display_name": "Python 3",
   "language": "python",
   "name": "python3"
  },
  "language_info": {
   "codemirror_mode": {
    "name": "ipython",
    "version": 3
   },
   "file_extension": ".py",
   "mimetype": "text/x-python",
   "name": "python",
   "nbconvert_exporter": "python",
   "pygments_lexer": "ipython3",
   "version": "3.7.3"
  }
 },
 "nbformat": 4,
 "nbformat_minor": 4
}
